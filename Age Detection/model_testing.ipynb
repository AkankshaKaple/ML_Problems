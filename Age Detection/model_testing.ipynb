{
 "cells": [
  {
   "cell_type": "code",
   "execution_count": 40,
   "metadata": {},
   "outputs": [
    {
     "name": "stdout",
     "output_type": "stream",
     "text": [
      "Loaded model from disk\n"
     ]
    },
    {
     "data": {
      "text/plain": [
       "['baby.jpeg',\n",
       " 'bill.jpg',\n",
       " 'Dumbledore.jpg',\n",
       " 'elon_musk_royal_society.jpg',\n",
       " 'jim_parsons.jpg',\n",
       " 'old1.jpg',\n",
       " 'old.jpeg',\n",
       " 'will.jpg',\n",
       " 'young_sheldon.jpg']"
      ]
     },
     "execution_count": 40,
     "metadata": {},
     "output_type": "execute_result"
    }
   ],
   "source": [
    "from keras.models import *\n",
    "import pickle\n",
    "\n",
    "with open('model/age_de_model.pkl','rb') as file:\n",
    "    le = pickle.load(file)\n",
    "    loaded_model = pickle.load(file)\n",
    "\n",
    "# load weights into new model\n",
    "loaded_model.load_weights(\"model/age_de_model.h5\")\n",
    "print(\"Loaded model from disk\")\n",
    "\n",
    "import os.path\n",
    "path = 'img/'\n",
    "flag = os.path.exists(path + '/')\n",
    "if flag:\n",
    "    images = !ls {path}\n",
    "else:\n",
    "    print(\"File does not exist!\")\n",
    "    \n",
    "images"
   ]
  },
  {
   "cell_type": "code",
   "execution_count": 42,
   "metadata": {},
   "outputs": [
    {
     "data": {
      "text/plain": [
       "array(['YOUNG', 'YOUNG', 'MIDDLE', 'YOUNG', 'YOUNG', 'MIDDLE', 'MIDDLE',\n",
       "       'YOUNG', 'MIDDLE'], dtype=object)"
      ]
     },
     "execution_count": 42,
     "metadata": {},
     "output_type": "execute_result"
    }
   ],
   "source": [
    "# each = images[7]\n",
    "features = []\n",
    "import numpy as np\n",
    "from PIL import Image\n",
    "features = []\n",
    "for each in images:\n",
    "    features.append(np.asarray(Image.open(path+each).resize((64,64)), dtype='int32'))\n",
    "x = np.array(features)\n",
    "x.shape\n",
    "pred = loaded_model.predict_classes(x)\n",
    "le.inverse_transform(pred)"
   ]
  }
 ],
 "metadata": {
  "kernelspec": {
   "display_name": "Python 3",
   "language": "python",
   "name": "python3"
  },
  "language_info": {
   "codemirror_mode": {
    "name": "ipython",
    "version": 3
   },
   "file_extension": ".py",
   "mimetype": "text/x-python",
   "name": "python",
   "nbconvert_exporter": "python",
   "pygments_lexer": "ipython3",
   "version": "3.7.4"
  }
 },
 "nbformat": 4,
 "nbformat_minor": 4
}
