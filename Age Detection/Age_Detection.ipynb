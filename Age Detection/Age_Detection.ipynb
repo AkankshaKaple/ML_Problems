{
 "cells": [
  {
   "cell_type": "markdown",
   "metadata": {},
   "source": [
    "## __Age Detection__\n",
    "\n",
    "## Problem Statement :\n"
   ]
  },
  {
   "cell_type": "markdown",
   "metadata": {},
   "source": [
    "In this problem we are going to train the model to predict the age of a person just by looking at his/her face."
   ]
  },
  {
   "cell_type": "markdown",
   "metadata": {},
   "source": [
    "## Dataset:    \n",
    "The dataset consists of images(feature) of Indian actors and their age(label) as a label. And here we're going to predict the age of an actor from his/her image. For this purpose, we're going to use Keras, pandas, numpy and convolutional neural network. The dataset we are going to use contains images of over 100 India actors and actresses, which is collected from more than 100 videos. All the images are cropped from the video frames resulting in a high degree of variability in terms of scale, pose, expression, illumination, age, resolution, occlusion, and makeup.\n",
    "\n",
    "<div>\n",
    "    <img src=\"imgs_for_code/34.jpg\" alt=\"Snow\" style=\"width:10%\">\n",
    "    <img src=\"imgs_for_code/1988.jpg\" alt=\"Forest\" style=\"width:10%\">\n",
    "    <img src=\"imgs_for_code/80.jpg\" alt=\"Mountains\" style=\"width:10%\">\n",
    "    <img src=\"imgs_for_code/108.jpg\" alt=\"Mountains\" style=\"width:10%\">\n",
    "    <img src=\"imgs_for_code/12.jpg\" alt=\"Mountains\" style=\"width:10%\">\n",
    "    <img src=\"imgs_for_code/330.jpg\" alt=\"Mountains\" style=\"width:10%\">\n",
    "    <img src=\"imgs_for_code/175.jpg\" alt=\"Mountains\" style=\"width:10%\">\n",
    "    <img src=\"imgs_for_code/166.jpg\" alt=\"Mountains\" style=\"width:10%\">\n",
    "    <img src=\"imgs_for_code/333.jpg\" alt=\"Mountains\" style=\"width:10%\">\n",
    "</div>\n",
    "\n",
    "\n"
   ]
  },
  {
   "cell_type": "markdown",
   "metadata": {},
   "source": [
    "## How are we going to predict age just by using an image?\n",
    "- Just like a child, we are going to train the model to differentiate between the how a persons face will look like at particular age. \n",
    "- If we want to teach a child what a cup looks like, we'll show him a cup and tell him that this is what a cup looks like. So, he'll analyze it, he will look at it's shape, color, size, etc. and that's how he'll learn what a cup looks like.\n",
    "- We are applying the same concept to teach our model how to differentiate between ages.\n",
    "- We'll show an image along with it's age, then our model will analyze it and will look at it's shape, color, size, etc. and that's how it'll learn what the face of old, you and middle-aged person looks like."
   ]
  },
  {
   "cell_type": "markdown",
   "metadata": {},
   "source": [
    "## Step 1: Import all the required libraries "
   ]
  },
  {
   "cell_type": "markdown",
   "metadata": {},
   "source": [
    "__We are going to use following libraries:__\n",
    "\n",
    "\n",
    "* __Pandas__ : For analysis and manipulation of data \n",
    "* __Numpy__ : To handle matrices and arrays of large size\n",
    "* __Sklearn__ : To easily handle machine learning operations.\n",
    "* __Keras__ : To easily implement comvolutional neural network\n",
    "* __Pickle__ : It is an object serializer and we are using it to save our model.\n",
    "* __Seaborn__ : For statistical data visualization.\n",
    "* __CV2__ : The library is used for Image Processing"
   ]
  },
  {
   "cell_type": "code",
   "execution_count": 1,
   "metadata": {},
   "outputs": [
    {
     "name": "stderr",
     "output_type": "stream",
     "text": [
      "Using TensorFlow backend.\n",
      "/home/akanksha/anaconda3/envs/ML/lib/python3.7/site-packages/tensorflow/python/framework/dtypes.py:516: FutureWarning: Passing (type, 1) or '1type' as a synonym of type is deprecated; in a future version of numpy, it will be understood as (type, (1,)) / '(1,)type'.\n",
      "  _np_qint8 = np.dtype([(\"qint8\", np.int8, 1)])\n",
      "/home/akanksha/anaconda3/envs/ML/lib/python3.7/site-packages/tensorflow/python/framework/dtypes.py:517: FutureWarning: Passing (type, 1) or '1type' as a synonym of type is deprecated; in a future version of numpy, it will be understood as (type, (1,)) / '(1,)type'.\n",
      "  _np_quint8 = np.dtype([(\"quint8\", np.uint8, 1)])\n",
      "/home/akanksha/anaconda3/envs/ML/lib/python3.7/site-packages/tensorflow/python/framework/dtypes.py:518: FutureWarning: Passing (type, 1) or '1type' as a synonym of type is deprecated; in a future version of numpy, it will be understood as (type, (1,)) / '(1,)type'.\n",
      "  _np_qint16 = np.dtype([(\"qint16\", np.int16, 1)])\n",
      "/home/akanksha/anaconda3/envs/ML/lib/python3.7/site-packages/tensorflow/python/framework/dtypes.py:519: FutureWarning: Passing (type, 1) or '1type' as a synonym of type is deprecated; in a future version of numpy, it will be understood as (type, (1,)) / '(1,)type'.\n",
      "  _np_quint16 = np.dtype([(\"quint16\", np.uint16, 1)])\n",
      "/home/akanksha/anaconda3/envs/ML/lib/python3.7/site-packages/tensorflow/python/framework/dtypes.py:520: FutureWarning: Passing (type, 1) or '1type' as a synonym of type is deprecated; in a future version of numpy, it will be understood as (type, (1,)) / '(1,)type'.\n",
      "  _np_qint32 = np.dtype([(\"qint32\", np.int32, 1)])\n",
      "/home/akanksha/anaconda3/envs/ML/lib/python3.7/site-packages/tensorflow/python/framework/dtypes.py:525: FutureWarning: Passing (type, 1) or '1type' as a synonym of type is deprecated; in a future version of numpy, it will be understood as (type, (1,)) / '(1,)type'.\n",
      "  np_resource = np.dtype([(\"resource\", np.ubyte, 1)])\n",
      "/home/akanksha/anaconda3/envs/ML/lib/python3.7/site-packages/tensorboard/compat/tensorflow_stub/dtypes.py:541: FutureWarning: Passing (type, 1) or '1type' as a synonym of type is deprecated; in a future version of numpy, it will be understood as (type, (1,)) / '(1,)type'.\n",
      "  _np_qint8 = np.dtype([(\"qint8\", np.int8, 1)])\n",
      "/home/akanksha/anaconda3/envs/ML/lib/python3.7/site-packages/tensorboard/compat/tensorflow_stub/dtypes.py:542: FutureWarning: Passing (type, 1) or '1type' as a synonym of type is deprecated; in a future version of numpy, it will be understood as (type, (1,)) / '(1,)type'.\n",
      "  _np_quint8 = np.dtype([(\"quint8\", np.uint8, 1)])\n",
      "/home/akanksha/anaconda3/envs/ML/lib/python3.7/site-packages/tensorboard/compat/tensorflow_stub/dtypes.py:543: FutureWarning: Passing (type, 1) or '1type' as a synonym of type is deprecated; in a future version of numpy, it will be understood as (type, (1,)) / '(1,)type'.\n",
      "  _np_qint16 = np.dtype([(\"qint16\", np.int16, 1)])\n",
      "/home/akanksha/anaconda3/envs/ML/lib/python3.7/site-packages/tensorboard/compat/tensorflow_stub/dtypes.py:544: FutureWarning: Passing (type, 1) or '1type' as a synonym of type is deprecated; in a future version of numpy, it will be understood as (type, (1,)) / '(1,)type'.\n",
      "  _np_quint16 = np.dtype([(\"quint16\", np.uint16, 1)])\n",
      "/home/akanksha/anaconda3/envs/ML/lib/python3.7/site-packages/tensorboard/compat/tensorflow_stub/dtypes.py:545: FutureWarning: Passing (type, 1) or '1type' as a synonym of type is deprecated; in a future version of numpy, it will be understood as (type, (1,)) / '(1,)type'.\n",
      "  _np_qint32 = np.dtype([(\"qint32\", np.int32, 1)])\n",
      "/home/akanksha/anaconda3/envs/ML/lib/python3.7/site-packages/tensorboard/compat/tensorflow_stub/dtypes.py:550: FutureWarning: Passing (type, 1) or '1type' as a synonym of type is deprecated; in a future version of numpy, it will be understood as (type, (1,)) / '(1,)type'.\n",
      "  np_resource = np.dtype([(\"resource\", np.ubyte, 1)])\n"
     ]
    }
   ],
   "source": [
    "import keras\n",
    "import sklearn\n",
    "import pandas as pd\n",
    "import numpy as np\n",
    "import pickle\n",
    "import seaborn\n",
    "import os.path\n",
    "import cv2\n",
    "import warnings\n",
    "warnings.filterwarnings('ignore')\n",
    "import matplotlib"
   ]
  },
  {
   "cell_type": "markdown",
   "metadata": {},
   "source": [
    "## <b>Step 2 </b> : Extract all the required data "
   ]
  },
  {
   "cell_type": "markdown",
   "metadata": {},
   "source": [
    "Set the path to extract images and store them into a list 'images'.\n",
    "\n",
    "1. __Images__ : This is the food for our model. It contains the images we’re going to use to teach our model.\n",
    "\n",
    "2. __img_name_with_Label.csv__ : This contains the labels for the images in Images dataset, i.e., if the person in the image is young, middle-aged or old.\n",
    "\n",
    "- Combine the training and testing datasets in the form of an array to teach our model what a young, middle-aged and old person looks like.\n",
    "\n",
    "- Import the CVS file containing the name of the images and its labels (age)."
   ]
  },
  {
   "cell_type": "code",
   "execution_count": 2,
   "metadata": {},
   "outputs": [],
   "source": [
    "try:\n",
    "    data_labels = pd.read_csv('Data/Data.csv')\n",
    "except FileNotFoundError:\n",
    "    print(\"File does not exist!\")"
   ]
  },
  {
   "cell_type": "markdown",
   "metadata": {},
   "source": [
    "## __Data Exploration__:\n",
    "- To build a model, it is very important for us to understand the data we are dealing with.\n",
    "- We'll need to know what is going to be feature and label to train our model.\n",
    "- __Feature :__ Feature is nothing but the input we are going to provide.\n",
    "- __Label :__ Label is what we want as an output.\n",
    "- For this let's see what do we have in the data"
   ]
  },
  {
   "cell_type": "code",
   "execution_count": 3,
   "metadata": {},
   "outputs": [
    {
     "name": "stdout",
     "output_type": "stream",
     "text": [
      "Disply top 5 observations in img_name_with_Label.csv file : \n",
      "   Unnamed: 0         ID   Class\n",
      "0           0    377.jpg  MIDDLE\n",
      "1           1  17814.jpg   YOUNG\n",
      "2           2  21283.jpg  MIDDLE\n",
      "3           3  16496.jpg   YOUNG\n",
      "4           4   4487.jpg  MIDDLE \n"
     ]
    }
   ],
   "source": [
    "print(\"Disply top 5 observations in img_name_with_Label.csv file : \\n{0} \".format(data_labels.head()) )"
   ]
  },
  {
   "cell_type": "markdown",
   "metadata": {},
   "source": [
    "- Here we can see that our data contains two columns\n",
    "       - 1. ID\n",
    "       - 2. Class\n",
    "\n",
    "- Along with this csv file, we have one more folder as Images, which contains actual images of Indian actors, and using this we are going to train a model.\n",
    "- Here we are going to predict age of the person by looking at his image.\n",
    "- So, we can say that, the input for our model in an image of a person and output will be the person's age.\n",
    "    - Image with ID is feature\n",
    "    - Class label"
   ]
  },
  {
   "cell_type": "code",
   "execution_count": 4,
   "metadata": {},
   "outputs": [
    {
     "name": "stdout",
     "output_type": "stream",
     "text": [
      "So the image with label looks like : \n"
     ]
    }
   ],
   "source": [
    "print(\"So the image with label looks like : \")"
   ]
  },
  {
   "cell_type": "markdown",
   "metadata": {},
   "source": [
    "\n",
    "\n",
    "\n",
    "- Here we can see that labels are categorized into 3 groups\n",
    "    * OLD\n",
    "    * MIDDLE \n",
    "    * YOUNG"
   ]
  },
  {
   "cell_type": "code",
   "execution_count": 5,
   "metadata": {},
   "outputs": [
    {
     "data": {
      "text/plain": [
       "array(['MIDDLE', 'YOUNG', 'OLD'], dtype=object)"
      ]
     },
     "execution_count": 5,
     "metadata": {},
     "output_type": "execute_result"
    }
   ],
   "source": [
    "data_labels['Class'].unique()"
   ]
  },
  {
   "cell_type": "markdown",
   "metadata": {},
   "source": [
    "## __Data Visualization :__\n",
    "- The following figure shows number of observations with age Middle, Yound and Old."
   ]
  },
  {
   "cell_type": "code",
   "execution_count": 6,
   "metadata": {},
   "outputs": [
    {
     "data": {
      "text/plain": [
       "<matplotlib.axes._subplots.AxesSubplot at 0x7f40f87f8610>"
      ]
     },
     "execution_count": 6,
     "metadata": {},
     "output_type": "execute_result"
    },
    {
     "data": {
      "image/png": "[encoded data removed]",
      "text/plain": [
       "<Figure size 432x288 with 1 Axes>"
      ]
     },
     "metadata": {
      "needs_background": "light"
     },
     "output_type": "display_data"
    }
   ],
   "source": [
    "seaborn.countplot(data_labels.Class, data = data_labels)"
   ]
  },
  {
   "cell_type": "markdown",
   "metadata": {},
   "source": [
    "Now we'll\n",
    "* __Resize the images__  \n",
    "* __assign proper label to the array form of an image__ \n",
    "* __Save image in numpy array in numerical form__\n",
    "* __Save age as labels in numpy array__\n",
    "\n",
    "\n",
    "The size of the image affects the computation time. So to reduce the computation time, we'll need to reduce the size of the image.  "
   ]
  },
  {
   "cell_type": "code",
   "execution_count": 7,
   "metadata": {},
   "outputs": [],
   "source": [
    "path = \"Data/Images/\"\n",
    "features=[]\n",
    "image_name = data_labels['ID'].values\n",
    "for i in range(len(image_name)):\n",
    "    img = cv2.imread(path+image_name[i]) # Load image\n",
    "    resize_img = cv2.resize(img,(64,64))  # Resize each image as 64x64\n",
    "    features.append(resize_img) \n",
    "    \n",
    "features = np.array(features)\n",
    "labels = data_labels['Class']"
   ]
  },
  {
   "cell_type": "code",
   "execution_count": 8,
   "metadata": {},
   "outputs": [],
   "source": [
    "(pd.DataFrame([features, labels], index = ['image', 'age']).T).to_csv('CSVs/01_new_data.csv')"
   ]
  },
  {
   "cell_type": "markdown",
   "metadata": {},
   "source": [
    "It is very difficult to keep track of all the values in matrix, by looking at its shape, we can say if we going in the right direction or not. By using \".shape\" we can see shape of a matrix."
   ]
  },
  {
   "cell_type": "code",
   "execution_count": 9,
   "metadata": {},
   "outputs": [
    {
     "name": "stdout",
     "output_type": "stream",
     "text": [
      "The shape of matrices for features is (10, 64, 64, 3) and labels is (10,)\n"
     ]
    }
   ],
   "source": [
    "print(\"The shape of matrices for features is {0} and labels is {1}\".format(features.shape, labels.shape))"
   ]
  },
  {
   "cell_type": "markdown",
   "metadata": {},
   "source": [
    "- features vector contains a 4-D matrix, where \n",
    "    - 10 : Number of observations in dataset\n",
    "    - 64, 64 : size of each image\n",
    "    - 3 : RGB image, hence 3 Dimensions\n",
    "    \n",
    "- labels vector is a 1-D matrix with 10 observations and 1 column."
   ]
  },
  {
   "cell_type": "code",
   "execution_count": 10,
   "metadata": {},
   "outputs": [
    {
     "name": "stdout",
     "output_type": "stream",
     "text": [
      "Now, this how the data and labels will become : \n"
     ]
    },
    {
     "data": {
      "image/png": "[encoded data removed]",
      "text/plain": [
       "<Figure size 144x144 with 1 Axes>"
      ]
     },
     "metadata": {
      "needs_background": "light"
     },
     "output_type": "display_data"
    },
    {
     "name": "stdout",
     "output_type": "stream",
     "text": [
      "MIDDLE\n",
      "==========================================================================================\n"
     ]
    },
    {
     "data": {
      "image/png": "[encoded data removed]",
      "text/plain": [
       "<Figure size 144x144 with 1 Axes>"
      ]
     },
     "metadata": {
      "needs_background": "light"
     },
     "output_type": "display_data"
    },
    {
     "name": "stdout",
     "output_type": "stream",
     "text": [
      "YOUNG\n",
      "==========================================================================================\n"
     ]
    },
    {
     "data": {
      "image/png": "[encoded data removed]",
      "text/plain": [
       "<Figure size 144x144 with 1 Axes>"
      ]
     },
     "metadata": {
      "needs_background": "light"
     },
     "output_type": "display_data"
    },
    {
     "name": "stdout",
     "output_type": "stream",
     "text": [
      "MIDDLE\n",
      "==========================================================================================\n"
     ]
    }
   ],
   "source": [
    "print(\"Now, this how the data and labels will become : \")\n",
    "for i in range(3):\n",
    "    matplotlib.pyplot.figure(figsize = (2,2))\n",
    "    imgplot = matplotlib.pyplot.imshow(features[i])\n",
    "    matplotlib.pyplot.show()\n",
    "    print(labels[i])\n",
    "    print(\"=\"*90)"
   ]
  },
  {
   "cell_type": "markdown",
   "metadata": {},
   "source": [
    "## Step 3 : Data Pre-processing"
   ]
  },
  {
   "cell_type": "markdown",
   "metadata": {},
   "source": [
    "- Here labels are in text form, so we need to convert them to numerical form. \n",
    "- Using label encoder we give a random unique id to each unique value.\n",
    "- We'll have to convert string data into the numerical format by assigning a numerical value to each unique element, because machine can understand numeric data only."
   ]
  },
  {
   "cell_type": "code",
   "execution_count": 11,
   "metadata": {},
   "outputs": [
    {
     "name": "stdout",
     "output_type": "stream",
     "text": [
      "The values we are going to assign are : {'MIDDLE': 0, 'YOUNG': 1, 'OLD': 2}\n"
     ]
    }
   ],
   "source": [
    "temp = {i: j for j, i in enumerate(set(labels))} \n",
    "print('The values we are going to assign are : {}'.format(temp))\n",
    "encoded_labels = np.array([temp[i] for i in labels] )"
   ]
  },
  {
   "cell_type": "code",
   "execution_count": 12,
   "metadata": {},
   "outputs": [],
   "source": [
    "encode_df = pd.DataFrame({'Original_Labels': labels.values, \"encoded_labels\": encoded_labels})\n",
    "encode_df.to_csv(\"CSVs/02_encoded_data.csv\")"
   ]
  },
  {
   "cell_type": "code",
   "execution_count": 13,
   "metadata": {},
   "outputs": [
    {
     "name": "stdout",
     "output_type": "stream",
     "text": [
      "Original labels : \n",
      " 0    MIDDLE\n",
      "1     YOUNG\n",
      "2    MIDDLE\n",
      "3     YOUNG\n",
      "4    MIDDLE\n",
      "5    MIDDLE\n",
      "6     YOUNG\n",
      "7     YOUNG\n",
      "8     YOUNG\n",
      "9       OLD\n",
      "Name: Class, dtype: object\n",
      "======================================================================\n",
      "Changed labels : \n",
      " [0 1 0 1 0 0 1 1 1 2]\n"
     ]
    }
   ],
   "source": [
    "print(\"Original labels : \\n {}\".format(labels[:10]))\n",
    "print('='*70)\n",
    "print(\"Changed labels : \\n {}\".format(encoded_labels[:10]))"
   ]
  },
  {
   "cell_type": "markdown",
   "metadata": {},
   "source": [
    "## Step 4: Split the data into train and test set\n",
    "- Now our data is ready to feed to the program. But here we'll split the data into train and test dataset so that after training the model we can test the model on the test dataset and find out how accurate are its predictions.\n",
    "- Here we are splitting the data so that the training dataset contains 80% of the data and the test dataset contains 20% of the total data.\n",
    "- Here we are using the train_test_split method from the sklearn library. We'll train our model on x_train and y_train, test it on x_test and y_test.\n",
    "\n",
    "- test_size: Here we specify the size we want for our test dataset.\n",
    "- random_state: When we use a random number generator for number or sequence generation, we give a starting number (AKA seed). When we provide the same seed, every time it’ll generate the same sequence as the first one. That’s why to keep the same random values every time, we give seed as random_state in train_test_split()."
   ]
  },
  {
   "cell_type": "code",
   "execution_count": 14,
   "metadata": {},
   "outputs": [],
   "source": [
    "import sklearn.model_selection\n",
    "train_set, test_set, train_label, test_label = sklearn.model_selection.train_test_split(features, encoded_labels,\n",
    "                                                                                                test_size = 0.20, \n",
    "                                                                                                random_state = 42)"
   ]
  },
  {
   "cell_type": "code",
   "execution_count": 16,
   "metadata": {},
   "outputs": [
    {
     "name": "stdout",
     "output_type": "stream",
     "text": [
      "Shape of feature_train is (8, 64, 64, 3)\n",
      "Shape of label_train is (8,)\n",
      "Shape of feature_test is (2, 64, 64, 3)\n",
      "Shape of label_test is (2,)\n"
     ]
    }
   ],
   "source": [
    "print(\"Shape of feature_train is {}\".format(train_set.shape))\n",
    "print(\"Shape of label_train is {}\".format(train_label.shape))\n",
    "print(\"Shape of feature_test is {}\".format(test_set.shape))\n",
    "print(\"Shape of label_test is {}\".format(test_label.shape))"
   ]
  },
  {
   "cell_type": "markdown",
   "metadata": {},
   "source": [
    "## Step 5: Define the structure of the neural network\n",
    "\n",
    "- Artificial neural networks or connectionist systems are computing systems that are inspired by, but not identical to, biological neural networks that constitute animal brains. Such systems \"learn\" to perform tasks by considering examples, generally without being programmed with task-specific rules.\n",
    "- Neural network consists of 3 parts:\n",
    "    - Input Layer\n",
    "    - Hidden Layer of neurons\n",
    "    - The output layer (a.k.a. the prediction)\n",
    "- The arrows that connect the dots show how all the neurons are interconnected and how data travels from the input layer all the way through to the output layer.\n",
    "\n",
    "<div>\n",
    "    <img src=\"imgs_for_code/neural_network_1.png\" alt=\"Mountains\" style=\"width:100%\">\n",
    "</div>\n"
   ]
  },
  {
   "cell_type": "markdown",
   "metadata": {},
   "source": [
    "- Input Layer: It contains the input for our neural network\n",
    "- Hidden Layer: It is in the hidden layers where all the processing actually happens through a system of connections characterized by weights and biases (commonly referred as W and b): the input is received, the neuron calculates a weighted sum adding also the bias and according to the result and a pre-set activation function. Afterward, the neuron transmits the information downstream to other connected neurons in a process called ‘forward pass’. At the end of this process, the last hidden layer is linked to the output layer which has one neuron for each possible desired output.\n",
    "- Output Layer: It gives us the output for our neural network."
   ]
  },
  {
   "cell_type": "markdown",
   "metadata": {},
   "source": [
    "Add layers to the neural network using the .add method\n",
    "\n",
    "The model needs to know what input shape it should expect. For this reason, the first layer in a Sequential model (and only the first, because following layers can do automatic shape inference) needs to receive information about its input shape"
   ]
  },
  {
   "cell_type": "markdown",
   "metadata": {},
   "source": [
    "### __Convolutional layer__:\n",
    "A convolutional layer that extracts features from a source image. Convolution helps with blurring, sharpening, edge detection, noise reduction, or other operations that can help the machine to learn specific characteristics of an image."
   ]
  },
  {
   "cell_type": "markdown",
   "metadata": {},
   "source": [
    "### __MaxPooling2D__\n",
    "- A pooling layer that reduces the image dimensionality without losing important features or patterns.\n",
    "- The max-pooling is saying, if the feature is detected anywhere in this filter then keep a high number. But the main reason why people are using pooling because of its works well in practice and reduce computations.\n",
    "<img src=\"imgs_for_code/pooling.png\" alt=\"Drawing\" style=\"width: 100%;\"/>\n"
   ]
  },
  {
   "cell_type": "markdown",
   "metadata": {},
   "source": [
    "### __Flatten__\n",
    "- In flatten, we combine all the data to form a single array. And then we feed it to the neural network.\n",
    "- Here we are arranging each row over another vertically to convert the matrix into an array.\n",
    "<img src=\"imgs_for_code/flatten.png\" alt=\"Drawing\" style=\"width: 100%;\"/>\n"
   ]
  },
  {
   "cell_type": "markdown",
   "metadata": {},
   "source": [
    "### __Dense__:\n",
    "- A fully connected layer also known as the dense layer, in which the results of the convolutional layers are fed through one or more neural layers to generate a prediction.\n",
    "- In simple words, a dense layer is where each unit or neuron is connected to each neuron in the next layer.\n",
    "<div>\n",
    "    <img src=\"imgs_for_code/all_layers.png\" alt=\"Drawing\" style=\"width: 100%;\"/>\n",
    "</div>"
   ]
  },
  {
   "cell_type": "markdown",
   "metadata": {},
   "source": [
    "### Activation Function : \n",
    "- It is a function that you use to get the output of the node. It is also known as Transfer Function.\n",
    "- Their main purpose is to convert an input signal of a node in an A-NN to an output signal.\n",
    "- It is used to determine the output of neural network like yes or no. It maps the resulting values in between 0 to 1 or -1 to 1 etc. (depending upon the function).\n",
    "- There are many activation functions: \n",
    "#### 1. Sigmoid or Logistic Activation Function:\n",
    "    - The Sigmoid Function curve looks like an S-shape.\n",
    "    - The main reason why we use the sigmoid function is that it exists between (0 to 1).\n",
    "    - Therefore, it is especially used for models where we have to predict the probability as an output.\n",
    "    - Since the probability of anything exists only between the range of 0 and 1, sigmoid is the right choice.\n",
    "    - The softmax function is a more generalized logistic activation function that is used for multiclass classification.\n",
    " <div>\n",
    "        <img src=\"imgs_for_code/sigmoid.png\" alt=\"Drawing\" style=\"width:70%;\"/>\n",
    " </div>"
   ]
  },
  {
   "cell_type": "markdown",
   "metadata": {},
   "source": [
    "Below are the layers we are going to use for our neural network. \n",
    "### __Input Layer :__ \n",
    "- Layer_1: This is a convolution layer where we are going to provide the image with input shape (64 x 64 x 3) and relu activation unit with the filter of size (32 x 3 x 3). \n",
    "- Layer 2: This is max pool layer with the size of the max pooling window as (2 x 2).\n",
    "- Layer 3: It is the same as layer 1 but here we don't have to give the shape of input data explicitly.\n",
    "- Layer 4: It is max pool layer with the size of the max pooling window as (2 x 2).\n",
    "- Layer 5: Flatten layer combines all the data to form a single array."
   ]
  },
  {
   "cell_type": "markdown",
   "metadata": {},
   "source": [
    "- The Sequential model is a linear stack of layers.\n",
    "- Create an object ( 'classifier' ) of Sequential model from sklearn "
   ]
  },
  {
   "cell_type": "code",
   "execution_count": 17,
   "metadata": {},
   "outputs": [],
   "source": [
    "classifier = keras.models.Sequential()"
   ]
  },
  {
   "cell_type": "code",
   "execution_count": 18,
   "metadata": {},
   "outputs": [
    {
     "name": "stdout",
     "output_type": "stream",
     "text": [
      "WARNING:tensorflow:From /home/akanksha/anaconda3/envs/ML/lib/python3.7/site-packages/keras/backend/tensorflow_backend.py:4070: The name tf.nn.max_pool is deprecated. Please use tf.nn.max_pool2d instead.\n",
      "\n"
     ]
    }
   ],
   "source": [
    "classifier.add(keras.layers.Convolution2D(32,3,3, input_shape=(64,64,3), activation='relu'))\n",
    "classifier.add(keras.layers.MaxPooling2D(pool_size=(2,2)))\n",
    "classifier.add(keras.layers.Convolution2D(32,3,3, activation='relu'))\n",
    "classifier.add(keras.layers.MaxPooling2D(pool_size=(2,2)))\n",
    "classifier.add(keras.layers.Flatten())"
   ]
  },
  {
   "cell_type": "markdown",
   "metadata": {},
   "source": [
    "### __Hidden Layers__ : \n",
    "- The dense layer is nothing but a hidden layer in our neural network.\n",
    "- Here we are using activation function as relu and softmax"
   ]
  },
  {
   "cell_type": "code",
   "execution_count": 19,
   "metadata": {},
   "outputs": [],
   "source": [
    "classifier.add(keras.layers.Dense(activation='relu', output_dim = 100))\n",
    "classifier.add(keras.layers.Dense(output_dim = 1, activation='softmax'))"
   ]
  },
  {
   "cell_type": "markdown",
   "metadata": {},
   "source": [
    "Before training a model, you need to configure the learning process, which is done via compile method"
   ]
  },
  {
   "cell_type": "markdown",
   "metadata": {},
   "source": [
    "- Summary will show the shape of data in each layer."
   ]
  },
  {
   "cell_type": "code",
   "execution_count": 20,
   "metadata": {},
   "outputs": [
    {
     "name": "stdout",
     "output_type": "stream",
     "text": [
      "Model: \"sequential_1\"\n",
      "_________________________________________________________________\n",
      "Layer (type)                 Output Shape              Param #   \n",
      "=================================================================\n",
      "conv2d_1 (Conv2D)            (None, 62, 62, 32)        896       \n",
      "_________________________________________________________________\n",
      "max_pooling2d_1 (MaxPooling2 (None, 31, 31, 32)        0         \n",
      "_________________________________________________________________\n",
      "conv2d_2 (Conv2D)            (None, 29, 29, 32)        9248      \n",
      "_________________________________________________________________\n",
      "max_pooling2d_2 (MaxPooling2 (None, 14, 14, 32)        0         \n",
      "_________________________________________________________________\n",
      "flatten_1 (Flatten)          (None, 6272)              0         \n",
      "_________________________________________________________________\n",
      "dense_1 (Dense)              (None, 100)               627300    \n",
      "_________________________________________________________________\n",
      "dense_2 (Dense)              (None, 1)                 101       \n",
      "=================================================================\n",
      "Total params: 637,545\n",
      "Trainable params: 637,545\n",
      "Non-trainable params: 0\n",
      "_________________________________________________________________\n"
     ]
    }
   ],
   "source": [
    "classifier.summary()"
   ]
  },
  {
   "cell_type": "markdown",
   "metadata": {},
   "source": [
    "## Step 6 : Train Model using neural network"
   ]
  },
  {
   "cell_type": "markdown",
   "metadata": {},
   "source": [
    "- Configures the model for training.\n",
    "- metrics: List of metrics to be evaluated by the model during training and testing. \n",
    "- loss : It is a loss function. If the model has multiple outputs, you can use a different loss on each output by passing a dictionary or a list of losses. The loss value that will be minimized by the model will then be the sum of all individual losses.\n",
    "- Adam is an optimization algorithm that can used to update network weights iterative based in training data."
   ]
  },
  {
   "cell_type": "code",
   "execution_count": 31,
   "metadata": {},
   "outputs": [],
   "source": [
    "classifier.compile(metrics=['accuracy'], loss='binary_crossentropy', optimizer='adam')"
   ]
  },
  {
   "cell_type": "markdown",
   "metadata": {},
   "source": [
    "255 is the maximin pixel value. Rescale 1./255 is to transform every pixel value from range [0,255] -> [0,1]. "
   ]
  },
  {
   "cell_type": "markdown",
   "metadata": {},
   "source": [
    "Now we'll apply the neural network we have created to our data.\n",
    "- fit_generator will load the data into RAM and perform training on batches that we have provided as parameters.\n",
    "- steps_per_epoch: Number of observations to use in each epoch for training.\n",
    "- Epochs: Number of iterations.\n",
    "- validation_data: Test dataset for testing the model.\n",
    "- validation_steps: Number of observations to use in each epoch for testing.\n"
   ]
  },
  {
   "cell_type": "code",
   "execution_count": 32,
   "metadata": {},
   "outputs": [
    {
     "name": "stdout",
     "output_type": "stream",
     "text": [
      "Epoch 1/10\n",
      "8/8 [==============================] - 0s 21ms/step - loss: 5.7500 - accuracy: 0.3750\n",
      "Epoch 2/10\n",
      "8/8 [==============================] - 0s 5ms/step - loss: 5.7500 - accuracy: 0.3750\n",
      "Epoch 3/10\n",
      "8/8 [==============================] - 0s 5ms/step - loss: 5.7500 - accuracy: 0.3750\n",
      "Epoch 4/10\n",
      "8/8 [==============================] - 0s 6ms/step - loss: 5.7500 - accuracy: 0.3750\n",
      "Epoch 5/10\n",
      "8/8 [==============================] - 0s 5ms/step - loss: 5.7500 - accuracy: 0.3750\n",
      "Epoch 6/10\n",
      "8/8 [==============================] - 0s 6ms/step - loss: 5.7500 - accuracy: 0.3750\n",
      "Epoch 7/10\n",
      "8/8 [==============================] - 0s 6ms/step - loss: 5.7500 - accuracy: 0.3750\n",
      "Epoch 8/10\n",
      "8/8 [==============================] - 0s 5ms/step - loss: 5.7500 - accuracy: 0.3750\n",
      "Epoch 9/10\n",
      "8/8 [==============================] - 0s 6ms/step - loss: 5.7500 - accuracy: 0.3750\n",
      "Epoch 10/10\n",
      "8/8 [==============================] - 0s 6ms/step - loss: 5.7500 - accuracy: 0.3750\n"
     ]
    },
    {
     "data": {
      "text/plain": [
       "<keras.callbacks.callbacks.History at 0x7f40e42a7950>"
      ]
     },
     "execution_count": 32,
     "metadata": {},
     "output_type": "execute_result"
    }
   ],
   "source": [
    "classifier.fit(train_set,train_label,batch_size = 32, epochs = 10)"
   ]
  },
  {
   "cell_type": "markdown",
   "metadata": {},
   "source": [
    "## Step 7: Save the model in a pickle file\n",
    "\n",
    "As logistic_model_cv gave us the highest accuracy we'll go with it and save it to pickle file.\n",
    "We save our model to pickle files so that when we want to perform predictions on unseen data, we don't have to train our model again. Any object in python can be pickled so that it can be saved on disk. What pickle does is that it “serializes” the object first before writing it to file. Pickling is a way to convert a python object (list, dict, etc.) into a character stream. "
   ]
  },
  {
   "cell_type": "code",
   "execution_count": 34,
   "metadata": {},
   "outputs": [
    {
     "name": "stdout",
     "output_type": "stream",
     "text": [
      "Saved model to disk\n"
     ]
    }
   ],
   "source": [
    "with open('age_detection_model.pkl','wb') as f:\n",
    "    pickle.dump(classifier,f)\n",
    "    \n",
    "classifier.save_weights(\"age_detection_weights.h5\")\n",
    "print(\"Saved model to disk\")"
   ]
  },
  {
   "cell_type": "markdown",
   "metadata": {},
   "source": [
    "# __Summary__"
   ]
  },
  {
   "cell_type": "markdown",
   "metadata": {},
   "source": [
    "In this problem we have trained a model to predict the age of a person by looking at the face. For this purpose we used convolutional neural network. We started with a normal picture of person's face and then converted it in the array of number and feed it to the neural network. Using this we'll train the model to predict age of the person. We have seen what are the steps we followed to train like how to reduce the size of an image, what are different layers in neural network, etc. "
   ]
  }
 ],
 "metadata": {
  "kernelspec": {
   "display_name": "Python 3",
   "language": "python",
   "name": "python3"
  },
  "language_info": {
   "codemirror_mode": {
    "name": "ipython",
    "version": 3
   },
   "file_extension": ".py",
   "mimetype": "text/x-python",
   "name": "python",
   "nbconvert_exporter": "python",
   "pygments_lexer": "ipython3",
   "version": "3.7.4"
  }
 },
 "nbformat": 4,
 "nbformat_minor": 4
}
