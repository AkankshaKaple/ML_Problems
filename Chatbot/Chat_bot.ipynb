{
 "cells": [
  {
   "cell_type": "markdown",
   "metadata": {},
   "source": [
    "# Dataset :\n",
    "The data set contains question and it's corresponding answers.\n",
    "\n",
    "## Step 1: Import libraries\n",
    "- nltk : The Natural Language ToolKit is a NLP libraries which contains packages to make machines understand human language and reply to it with an appropriate response.\n",
    "- Pandas : To import dataset in the form of dataframe\n",
    "- Numpy : To easily handel complex computations\n",
    "- Sklearn : To easily handel machine learning operations\n",
    "- Pickle : To save our model"
   ]
  },
  {
   "cell_type": "code",
   "execution_count": 12,
   "metadata": {},
   "outputs": [],
   "source": [
    "import pandas as pd\n",
    "import numpy as np\n",
    "import pickle\n",
    "import operator\n",
    "from sklearn.svm import SVC\n",
    "from sklearn.model_selection import train_test_split as tts\n",
    "from sklearn.feature_extraction.text import TfidfVectorizer\n",
    "from sklearn.preprocessing import LabelEncoder \n",
    "from sklearn.metrics.pairwise import cosine_similarity\n",
    "import random\n",
    "from nltk.stem.lancaster import LancasterStemmer\n",
    "import nltk\n",
    "nltk.download('punkt')"
   ]
  },
  {
   "cell_type": "markdown",
   "metadata": {},
   "source": [
    "# Step 2: Import Data¶"
   ]
  },
  {
   "cell_type": "code",
   "execution_count": 8,
   "metadata": {},
   "outputs": [
    {
     "data": {
      "text/html": [
       "<div>\n",
       "<style scoped>\n",
       "    .dataframe tbody tr th:only-of-type {\n",
       "        vertical-align: middle;\n",
       "    }\n",
       "\n",
       "    .dataframe tbody tr th {\n",
       "        vertical-align: top;\n",
       "    }\n",
       "\n",
       "    .dataframe thead th {\n",
       "        text-align: right;\n",
       "    }\n",
       "</style>\n",
       "<table border=\"1\" class=\"dataframe\">\n",
       "  <thead>\n",
       "    <tr style=\"text-align: right;\">\n",
       "      <th></th>\n",
       "      <th>Question</th>\n",
       "      <th>DomainIntent</th>\n",
       "      <th>Intent</th>\n",
       "      <th>Answer</th>\n",
       "      <th>Class</th>\n",
       "    </tr>\n",
       "  </thead>\n",
       "  <tbody>\n",
       "    <tr>\n",
       "      <td>0</td>\n",
       "      <td>How long is the fellowship program?</td>\n",
       "      <td>fellowship program</td>\n",
       "      <td>duration</td>\n",
       "      <td>The program is 4 months on a full-time basis.</td>\n",
       "      <td>general</td>\n",
       "    </tr>\n",
       "    <tr>\n",
       "      <td>1</td>\n",
       "      <td>How much does fellowship program cost?</td>\n",
       "      <td>fellowship program</td>\n",
       "      <td>admission_fees</td>\n",
       "      <td>The program is free to the fellows. You do no...</td>\n",
       "      <td>general</td>\n",
       "    </tr>\n",
       "    <tr>\n",
       "      <td>2</td>\n",
       "      <td>What is the fellowship program?</td>\n",
       "      <td>fellowship program</td>\n",
       "      <td>fellowship program</td>\n",
       "      <td>Coding jobs with emerging tech product compani...</td>\n",
       "      <td>general</td>\n",
       "    </tr>\n",
       "    <tr>\n",
       "      <td>3</td>\n",
       "      <td>Can the fellowship program be done remotely?</td>\n",
       "      <td>fellowship program</td>\n",
       "      <td>remote work</td>\n",
       "      <td>No! We believe that interaction with the ment...</td>\n",
       "      <td>general</td>\n",
       "    </tr>\n",
       "    <tr>\n",
       "      <td>4</td>\n",
       "      <td>How do I get in?</td>\n",
       "      <td>fellowship program</td>\n",
       "      <td>enter</td>\n",
       "      <td>You will require to register for one of our r...</td>\n",
       "      <td>general</td>\n",
       "    </tr>\n",
       "  </tbody>\n",
       "</table>\n",
       "</div>"
      ],
      "text/plain": [
       "                                       Question        DomainIntent  \\\n",
       "0           How long is the fellowship program?  fellowship program   \n",
       "1        How much does fellowship program cost?  fellowship program   \n",
       "2               What is the fellowship program?  fellowship program   \n",
       "3  Can the fellowship program be done remotely?  fellowship program   \n",
       "4                              How do I get in?  fellowship program   \n",
       "\n",
       "               Intent                                             Answer  \\\n",
       "0            duration      The program is 4 months on a full-time basis.   \n",
       "1      admission_fees   The program is free to the fellows. You do no...   \n",
       "2  fellowship program  Coding jobs with emerging tech product compani...   \n",
       "3         remote work   No! We believe that interaction with the ment...   \n",
       "4               enter   You will require to register for one of our r...   \n",
       "\n",
       "     Class  \n",
       "0  general  \n",
       "1  general  \n",
       "2  general  \n",
       "3  general  \n",
       "4  general  "
      ]
     },
     "execution_count": 8,
     "metadata": {},
     "output_type": "execute_result"
    }
   ],
   "source": [
    "FAQs = pd.read_csv('chatbot_faq.csv')\n",
    "greet = pd.read_csv('Greetings.csv')\n",
    "data = pd.concat([FAQs, greet], ignore_index=True)\n",
    "data.head()"
   ]
  },
  {
   "cell_type": "code",
   "execution_count": 9,
   "metadata": {},
   "outputs": [
    {
     "data": {
      "text/plain": [
       "(51, 5)"
      ]
     },
     "execution_count": 9,
     "metadata": {},
     "output_type": "execute_result"
    }
   ],
   "source": [
    "data.shape"
   ]
  },
  {
   "cell_type": "markdown",
   "metadata": {},
   "source": [
    "# Step 2 : Data Cleaning\n",
    "First we'll tokenzie each word from the dataset.\n",
    "After we tokenize, we will start cleaning up the tokens by Lemmatizing. Lemmatizing is the process of converting a word into its root form.\n",
    "For example, words, like run, ran and running all convey the same meaning and hence don’t need to be considered as different words, lemmatizing will reduce all the words to run."
   ]
  },
  {
   "cell_type": "markdown",
   "metadata": {},
   "source": [
    "- Tokenizing : This breaks up the strings into a list of words or pieces based on a specified pattern using Regular Expressions aka RegEx. \n",
    "- eg : white brown fox = ‘white’, ‘brown’,’fox’\n",
    "- Lemmatizing : Lemmatizing is the process of converting a word into its root form.\n",
    "- e.g., \"Playing\", \"Played\" = \"play\".\n",
    "\n",
    "In cleanup() function, we are first tokenizing the sentence (seperating each word in sentence) and then steeming (converting a word into its root form) and at the end combine all the words to form a sentence."
   ]
  },
  {
   "cell_type": "markdown",
   "metadata": {},
   "source": []
  },
  {
   "cell_type": "code",
   "execution_count": 26,
   "metadata": {},
   "outputs": [],
   "source": [
    "def cleanup(sentence):\n",
    "    word_tok = nltk.word_tokenize(sentence)\n",
    "    stemmer = LancasterStemmer()\n",
    "    stemmed_words = [stemmer.stem(w) for w in word_tok]\n",
    "    return ' '.join(stemmed_words)"
   ]
  },
  {
   "cell_type": "code",
   "execution_count": 27,
   "metadata": {},
   "outputs": [],
   "source": [
    "questions_cleaned = []\n",
    "questions = data['Question'].values\n",
    "for question in questions:\n",
    "    questions_cleaned.append(cleanup(question))"
   ]
  },
  {
   "cell_type": "markdown",
   "metadata": {},
   "source": [
    "The sentence __\"How long is the fellowship program?\"__ converted to __\"how long is the fellow program ?\"__"
   ]
  },
  {
   "cell_type": "code",
   "execution_count": null,
   "metadata": {},
   "outputs": [],
   "source": []
  }
 ],
 "metadata": {
  "kernelspec": {
   "display_name": "Python 3",
   "language": "python",
   "name": "python3"
  },
  "language_info": {
   "codemirror_mode": {
    "name": "ipython",
    "version": 3
   },
   "file_extension": ".py",
   "mimetype": "text/x-python",
   "name": "python",
   "nbconvert_exporter": "python",
   "pygments_lexer": "ipython3",
   "version": "3.6.9"
  }
 },
 "nbformat": 4,
 "nbformat_minor": 4
}
