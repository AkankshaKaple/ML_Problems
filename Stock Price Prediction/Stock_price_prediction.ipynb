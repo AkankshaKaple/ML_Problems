{
 "cells": [
  {
   "cell_type": "markdown",
   "metadata": {},
   "source": [
    "This  dataset is from kaggel. I'm using it to predict the next day’s stock market closing price for the company.\n",
    "\n",
    "* __stock_price_data.txt__ : It contains stock price data wich includes a day’s stock market attributes for the company(like Date, Opnening price, Highest values, Lowest value, Closing Price and Volume).\n",
    "\n",
    "\n",
    "\n",
    "## Step 1 : Import Libraries"
   ]
  },
  {
   "cell_type": "code",
   "execution_count": 24,
   "metadata": {},
   "outputs": [],
   "source": [
    "import numpy as np\n",
    "import matplotlib.pyplot as plt\n",
    "import pandas as pd\n",
    "from sklearn.preprocessing import MinMaxScaler\n",
    "from keras.models import Sequential\n",
    "from keras.layers import Dense\n",
    "from keras.layers import LSTM\n",
    "from keras.layers import Dropout\n",
    "import warnings\n",
    "warnings.filterwarnings('ignore')\n",
    "import pickle"
   ]
  },
  {
   "cell_type": "markdown",
   "metadata": {},
   "source": [
    "## Step 2: Import Data\n",
    "\n",
    "Import the txt data into dataframe using pandas. "
   ]
  },
  {
   "cell_type": "code",
   "execution_count": 2,
   "metadata": {},
   "outputs": [
    {
     "data": {
      "text/html": [
       "<div>\n",
       "<style scoped>\n",
       "    .dataframe tbody tr th:only-of-type {\n",
       "        vertical-align: middle;\n",
       "    }\n",
       "\n",
       "    .dataframe tbody tr th {\n",
       "        vertical-align: top;\n",
       "    }\n",
       "\n",
       "    .dataframe thead th {\n",
       "        text-align: right;\n",
       "    }\n",
       "</style>\n",
       "<table border=\"1\" class=\"dataframe\">\n",
       "  <thead>\n",
       "    <tr style=\"text-align: right;\">\n",
       "      <th></th>\n",
       "      <th>Date</th>\n",
       "      <th>Open</th>\n",
       "      <th>High</th>\n",
       "      <th>Low</th>\n",
       "      <th>Close</th>\n",
       "      <th>Volume</th>\n",
       "      <th>OpenInt</th>\n",
       "    </tr>\n",
       "  </thead>\n",
       "  <tbody>\n",
       "    <tr>\n",
       "      <td>0</td>\n",
       "      <td>1962-01-02</td>\n",
       "      <td>0.6277</td>\n",
       "      <td>0.6362</td>\n",
       "      <td>0.6201</td>\n",
       "      <td>0.6201</td>\n",
       "      <td>2575579</td>\n",
       "      <td>0</td>\n",
       "    </tr>\n",
       "    <tr>\n",
       "      <td>1</td>\n",
       "      <td>1962-01-03</td>\n",
       "      <td>0.6201</td>\n",
       "      <td>0.6201</td>\n",
       "      <td>0.6122</td>\n",
       "      <td>0.6201</td>\n",
       "      <td>1764749</td>\n",
       "      <td>0</td>\n",
       "    </tr>\n",
       "    <tr>\n",
       "      <td>2</td>\n",
       "      <td>1962-01-04</td>\n",
       "      <td>0.6201</td>\n",
       "      <td>0.6201</td>\n",
       "      <td>0.6037</td>\n",
       "      <td>0.6122</td>\n",
       "      <td>2194010</td>\n",
       "      <td>0</td>\n",
       "    </tr>\n",
       "    <tr>\n",
       "      <td>3</td>\n",
       "      <td>1962-01-05</td>\n",
       "      <td>0.6122</td>\n",
       "      <td>0.6122</td>\n",
       "      <td>0.5798</td>\n",
       "      <td>0.5957</td>\n",
       "      <td>3255244</td>\n",
       "      <td>0</td>\n",
       "    </tr>\n",
       "    <tr>\n",
       "      <td>4</td>\n",
       "      <td>1962-01-08</td>\n",
       "      <td>0.5957</td>\n",
       "      <td>0.5957</td>\n",
       "      <td>0.5716</td>\n",
       "      <td>0.5957</td>\n",
       "      <td>3696430</td>\n",
       "      <td>0</td>\n",
       "    </tr>\n",
       "  </tbody>\n",
       "</table>\n",
       "</div>"
      ],
      "text/plain": [
       "         Date    Open    High     Low   Close   Volume  OpenInt\n",
       "0  1962-01-02  0.6277  0.6362  0.6201  0.6201  2575579        0\n",
       "1  1962-01-03  0.6201  0.6201  0.6122  0.6201  1764749        0\n",
       "2  1962-01-04  0.6201  0.6201  0.6037  0.6122  2194010        0\n",
       "3  1962-01-05  0.6122  0.6122  0.5798  0.5957  3255244        0\n",
       "4  1962-01-08  0.5957  0.5957  0.5716  0.5957  3696430        0"
      ]
     },
     "execution_count": 2,
     "metadata": {},
     "output_type": "execute_result"
    }
   ],
   "source": [
    "data = pd.read_csv('stock_price_data.txt')\n",
    "data.head()"
   ]
  },
  {
   "cell_type": "markdown",
   "metadata": {},
   "source": [
    "As you can see there are around 14058 items, each representing a day’s stock market attributes for the company. Lets see how does it look on a plot :"
   ]
  },
  {
   "cell_type": "code",
   "execution_count": 3,
   "metadata": {},
   "outputs": [
    {
     "data": {
      "image/png": "[encoded data removed]",
      "text/plain": [
       "<Figure size 432x288 with 1 Axes>"
      ]
     },
     "metadata": {
      "needs_background": "light"
     },
     "output_type": "display_data"
    }
   ],
   "source": [
    "from matplotlib import pyplot as plt\n",
    "plt.figure()\n",
    "plt.plot(data[\"Open\"])\n",
    "plt.plot(data[\"High\"])\n",
    "plt.plot(data[\"Low\"])\n",
    "plt.plot(data[\"Close\"])\n",
    "plt.title('GE stock price history')\n",
    "plt.ylabel('Price (USD)')\n",
    "plt.xlabel('Days')\n",
    "plt.legend(['Open','High','Low','Close'], loc='upper left')\n",
    "plt.show()"
   ]
  },
  {
   "cell_type": "markdown",
   "metadata": {},
   "source": [
    "It seems the prices — Open, Close, Low, High — don’t vary too much from each other except for occasional slight drops in Low price.\n",
    "Now let’s check out the plot for volume :"
   ]
  },
  {
   "cell_type": "code",
   "execution_count": 4,
   "metadata": {},
   "outputs": [
    {
     "data": {
      "image/png": "[encoded data removed]",
      "text/plain": [
       "<Figure size 432x288 with 1 Axes>"
      ]
     },
     "metadata": {
      "needs_background": "light"
     },
     "output_type": "display_data"
    }
   ],
   "source": [
    "plt.figure()\n",
    "plt.plot(data[\"Volume\"])\n",
    "plt.title('GE stock volume history')\n",
    "plt.ylabel('Volume')\n",
    "plt.xlabel('Days')\n",
    "plt.show()"
   ]
  },
  {
   "cell_type": "markdown",
   "metadata": {},
   "source": [
    "There is quite a surge in the number of transactions around 12000th day on the timeline, which happens to coincide with the sudden drop of stock price. May be we can go back to that particular date and dig up old news articles to find what caused it."
   ]
  },
  {
   "cell_type": "markdown",
   "metadata": {},
   "source": [
    "## Step 3: Split data into train and test"
   ]
  },
  {
   "cell_type": "markdown",
   "metadata": {},
   "source": [
    "Transform features by scaling each feature to a given range. When your data is comprised of attributes with varying scales, many machine learning algorithms can benefit from rescaling the attributes to all have the same scale.Often this is referred to as normalization and attributes are often rescaled into the range between 0 and 1"
   ]
  },
  {
   "cell_type": "code",
   "execution_count": 5,
   "metadata": {},
   "outputs": [
    {
     "name": "stdout",
     "output_type": "stream",
     "text": [
      "Train and Test size 11246 2812\n"
     ]
    }
   ],
   "source": [
    "from sklearn.preprocessing import MinMaxScaler\n",
    "from sklearn.model_selection import train_test_split\n",
    "\n",
    "train_cols = [\"Open\",\"High\",\"Low\",\"Close\",\"Volume\"]\n",
    "df_train, df_test = train_test_split(data, train_size=0.8, test_size=0.2, shuffle=False)\n",
    "print(\"Train and Test size\", len(df_train), len(df_test))\n",
    "# scale the feature MinMax, build array\n",
    "x = df_train.loc[:,train_cols].values\n",
    "min_max_scaler = MinMaxScaler()\n",
    "x_train = min_max_scaler.fit_transform(x)\n",
    "x_test = min_max_scaler.transform(df_test.loc[:,train_cols])"
   ]
  },
  {
   "cell_type": "code",
   "execution_count": 6,
   "metadata": {},
   "outputs": [
    {
     "data": {
      "text/html": [
       "<div>\n",
       "<style scoped>\n",
       "    .dataframe tbody tr th:only-of-type {\n",
       "        vertical-align: middle;\n",
       "    }\n",
       "\n",
       "    .dataframe tbody tr th {\n",
       "        vertical-align: top;\n",
       "    }\n",
       "\n",
       "    .dataframe thead th {\n",
       "        text-align: right;\n",
       "    }\n",
       "</style>\n",
       "<table border=\"1\" class=\"dataframe\">\n",
       "  <thead>\n",
       "    <tr style=\"text-align: right;\">\n",
       "      <th></th>\n",
       "      <th>Date</th>\n",
       "      <th>Open</th>\n",
       "      <th>High</th>\n",
       "      <th>Low</th>\n",
       "      <th>Close</th>\n",
       "      <th>Volume</th>\n",
       "      <th>OpenInt</th>\n",
       "    </tr>\n",
       "  </thead>\n",
       "  <tbody>\n",
       "    <tr>\n",
       "      <td>0</td>\n",
       "      <td>1962-01-02</td>\n",
       "      <td>0.6277</td>\n",
       "      <td>0.6362</td>\n",
       "      <td>0.6201</td>\n",
       "      <td>0.6201</td>\n",
       "      <td>2575579</td>\n",
       "      <td>0</td>\n",
       "    </tr>\n",
       "    <tr>\n",
       "      <td>1</td>\n",
       "      <td>1962-01-03</td>\n",
       "      <td>0.6201</td>\n",
       "      <td>0.6201</td>\n",
       "      <td>0.6122</td>\n",
       "      <td>0.6201</td>\n",
       "      <td>1764749</td>\n",
       "      <td>0</td>\n",
       "    </tr>\n",
       "    <tr>\n",
       "      <td>2</td>\n",
       "      <td>1962-01-04</td>\n",
       "      <td>0.6201</td>\n",
       "      <td>0.6201</td>\n",
       "      <td>0.6037</td>\n",
       "      <td>0.6122</td>\n",
       "      <td>2194010</td>\n",
       "      <td>0</td>\n",
       "    </tr>\n",
       "    <tr>\n",
       "      <td>3</td>\n",
       "      <td>1962-01-05</td>\n",
       "      <td>0.6122</td>\n",
       "      <td>0.6122</td>\n",
       "      <td>0.5798</td>\n",
       "      <td>0.5957</td>\n",
       "      <td>3255244</td>\n",
       "      <td>0</td>\n",
       "    </tr>\n",
       "    <tr>\n",
       "      <td>4</td>\n",
       "      <td>1962-01-08</td>\n",
       "      <td>0.5957</td>\n",
       "      <td>0.5957</td>\n",
       "      <td>0.5716</td>\n",
       "      <td>0.5957</td>\n",
       "      <td>3696430</td>\n",
       "      <td>0</td>\n",
       "    </tr>\n",
       "  </tbody>\n",
       "</table>\n",
       "</div>"
      ],
      "text/plain": [
       "         Date    Open    High     Low   Close   Volume  OpenInt\n",
       "0  1962-01-02  0.6277  0.6362  0.6201  0.6201  2575579        0\n",
       "1  1962-01-03  0.6201  0.6201  0.6122  0.6201  1764749        0\n",
       "2  1962-01-04  0.6201  0.6201  0.6037  0.6122  2194010        0\n",
       "3  1962-01-05  0.6122  0.6122  0.5798  0.5957  3255244        0\n",
       "4  1962-01-08  0.5957  0.5957  0.5716  0.5957  3696430        0"
      ]
     },
     "execution_count": 6,
     "metadata": {},
     "output_type": "execute_result"
    }
   ],
   "source": [
    "df_train.head()"
   ]
  },
  {
   "cell_type": "code",
   "execution_count": 7,
   "metadata": {},
   "outputs": [
    {
     "data": {
      "text/plain": [
       "array([[0.00356678, 0.00352766, 0.00358385, 0.00338425, 0.02108267],\n",
       "       [0.00340607, 0.00319219, 0.00341628, 0.00338425, 0.01365459],\n",
       "       [0.00340607, 0.00319219, 0.00323598, 0.00321827, 0.01758709],\n",
       "       ...,\n",
       "       [0.56738965, 0.56144866, 0.56900922, 0.56564471, 0.16041384],\n",
       "       [0.56658613, 0.5678247 , 0.56695173, 0.57270398, 0.24217621],\n",
       "       [0.57639752, 0.57292971, 0.57755734, 0.57677987, 0.25339457]])"
      ]
     },
     "execution_count": 7,
     "metadata": {},
     "output_type": "execute_result"
    }
   ],
   "source": [
    "x_train"
   ]
  },
  {
   "cell_type": "markdown",
   "metadata": {},
   "source": [
    "## Step 4: Converting data to time-series and supervised learning problem\n",
    "\n",
    "Here we are applying LSTM on the training dataset.\n",
    "LSTM networks are well-suited to classifying, processing and making predictions based on time series data. LSTMs deal with the exploding and vanishing gradient problems that can be encountered when training traditional RNNs.\n",
    "LSTMs consume input in format [ batch_size, time_steps, Features ]; a 3- dimensional array.\n",
    "Where,\n",
    "* __batch_size__ : How many samples of input do you want your Neural Net to see before updating the weights\n",
    "* __time_steps__ : How many units back in time you want your network to see.\n",
    "* __Features__ : Number of attributes used to represent each time step, i.e., total number of features used for prediction.\n",
    "\n",
    "\n",
    "__Time Steps : Here I chose time steps to be 60 which means, I want the network to look back on 60 days of data to predict price on 61th day__"
   ]
  },
  {
   "cell_type": "code",
   "execution_count": 8,
   "metadata": {},
   "outputs": [],
   "source": [
    "def build_timeseries(mat, y_col_index):\n",
    "    # y_col_index is the index of column that would act as output column\n",
    "    # total number of time-series samples would be len(mat) - TIME_STEPS\n",
    "    dim_0 = mat.shape[0] - TIME_STEPS\n",
    "    dim_1 = mat.shape[1]\n",
    "    x = np.zeros((dim_0, TIME_STEPS, dim_1))\n",
    "    y = np.zeros((dim_0,))\n",
    "    print(dim_0)\n",
    "    for i in range(dim_0):\n",
    "        x[i] = mat[i:TIME_STEPS+i]\n",
    "        y[i] = mat[TIME_STEPS+i, y_col_index]\n",
    "    print(\"length of time-series i/o\",x.shape,y.shape)\n",
    "    return x, y"
   ]
  },
  {
   "cell_type": "code",
   "execution_count": 9,
   "metadata": {},
   "outputs": [],
   "source": [
    "def trim_dataset(mat, batch_size):\n",
    "    \"\"\"\n",
    "    trims dataset to a size that's divisible by BATCH_SIZE\n",
    "    \"\"\"\n",
    "    no_of_rows_drop = mat.shape[0]%batch_size\n",
    "    if(no_of_rows_drop > 0):\n",
    "        return mat[:-no_of_rows_drop]\n",
    "    else:\n",
    "        return mat"
   ]
  },
  {
   "cell_type": "markdown",
   "metadata": {},
   "source": [
    "Now using the above functions lets form our train, validation and test datasets"
   ]
  },
  {
   "cell_type": "code",
   "execution_count": 10,
   "metadata": {},
   "outputs": [
    {
     "name": "stdout",
     "output_type": "stream",
     "text": [
      "11186\n",
      "length of time-series i/o (11186, 60, 5) (11186,)\n",
      "2752\n",
      "length of time-series i/o (2752, 60, 5) (2752,)\n"
     ]
    }
   ],
   "source": [
    "BATCH_SIZE = 30\n",
    "TIME_STEPS = 60\n",
    "x_t, y_t = build_timeseries(x_train, 3)\n",
    "x_t = trim_dataset(x_t, BATCH_SIZE)\n",
    "y_t = trim_dataset(y_t, BATCH_SIZE)\n",
    "x_temp, y_temp = build_timeseries(x_test, 3)\n",
    "x_val, x_test_t = np.split(trim_dataset(x_temp, BATCH_SIZE),2)\n",
    "y_val, y_test_t = np.split(trim_dataset(y_temp, BATCH_SIZE),2)"
   ]
  },
  {
   "cell_type": "code",
   "execution_count": 11,
   "metadata": {},
   "outputs": [
    {
     "data": {
      "text/plain": [
       "((11160, 60, 5), (11160,), (1365, 60, 5), (1365, 60, 5), (2752, 60, 5))"
      ]
     },
     "execution_count": 11,
     "metadata": {},
     "output_type": "execute_result"
    }
   ],
   "source": [
    "x_t.shape, y_t.shape, x_val.shape, x_test_t.shape, x_temp.shape"
   ]
  },
  {
   "cell_type": "markdown",
   "metadata": {},
   "source": [
    "## Step 5 : Create Model : \n",
    "We will be using LSTM for this task, which is a variation of Recurrent Neural Network. Creating LSTM model is as simple as this:"
   ]
  },
  {
   "cell_type": "code",
   "execution_count": 12,
   "metadata": {},
   "outputs": [],
   "source": [
    "\n",
    "lstm_model = Sequential()\n",
    "lstm_model.add(LSTM(100, batch_input_shape=(BATCH_SIZE, TIME_STEPS, x_t.shape[2]), dropout=0.0, recurrent_dropout=0.0, stateful=True,     kernel_initializer='random_uniform'))\n",
    "lstm_model.add(Dropout(0.5))\n",
    "lstm_model.add(Dense(20,activation='relu'))\n",
    "lstm_model.add(Dense(1,activation='sigmoid'))\n",
    "lstm_model.compile(optimizer='adam',loss='mean_squared_error')"
   ]
  },
  {
   "cell_type": "markdown",
   "metadata": {},
   "source": [
    "Now that you have your model compiled and ready to be trained, train it like shown below."
   ]
  },
  {
   "cell_type": "markdown",
   "metadata": {},
   "source": [
    "## Step 6 : Train Model "
   ]
  },
  {
   "cell_type": "code",
   "execution_count": null,
   "metadata": {},
   "outputs": [],
   "source": [
    "from keras.callbacks import CSVLogger\n",
    "csv_logger = CSVLogger((\"/home/akanksha/Akanksha/Company_Work/Seminar/ML_Problems/Stock Price Prediction/Output.log\"), \n",
    "                       append=True)\n",
    "\n",
    "history = lstm_model.fit(x_t, y_t, epochs=100, verbose=1, batch_size=BATCH_SIZE,\n",
    "                    shuffle=False, validation_data=(trim_dataset(x_val, BATCH_SIZE),\n",
    "                    trim_dataset(y_val, BATCH_SIZE)), callbacks=[csv_logger])\n",
    "\n"
   ]
  },
  {
   "cell_type": "code",
   "execution_count": 14,
   "metadata": {},
   "outputs": [
    {
     "name": "stdout",
     "output_type": "stream",
     "text": [
      "1350/1350 [==============================] - 0s 232us/step\n",
      "0.0010145881315919622\n"
     ]
    }
   ],
   "source": [
    "score = lstm_model.evaluate(trim_dataset(x_test_t, BATCH_SIZE),\n",
    "                    trim_dataset(y_test_t, BATCH_SIZE), verbose=1, batch_size=BATCH_SIZE)\n",
    "\n",
    "print(score)"
   ]
  },
  {
   "cell_type": "code",
   "execution_count": 15,
   "metadata": {},
   "outputs": [
    {
     "name": "stdout",
     "output_type": "stream",
     "text": [
      "dict_keys(['val_loss', 'loss'])\n"
     ]
    },
    {
     "data": {
      "image/png": "[encoded data removed]",
      "text/plain": [
       "<Figure size 432x288 with 1 Axes>"
      ]
     },
     "metadata": {
      "needs_background": "light"
     },
     "output_type": "display_data"
    }
   ],
   "source": [
    "print(history.history.keys())\n",
    "# summarize history for loss\n",
    "plt.plot(history.history['loss'])\n",
    "plt.plot(history.history['val_loss'])\n",
    "plt.title('model loss')\n",
    "plt.ylabel('loss')\n",
    "plt.xlabel('epoch')\n",
    "plt.legend(['train', 'test'], loc='upper left')\n",
    "plt.show()"
   ]
  },
  {
   "cell_type": "code",
   "execution_count": 16,
   "metadata": {},
   "outputs": [],
   "source": [
    "lstm_model.save('lstm_model.h5')"
   ]
  },
  {
   "cell_type": "code",
   "execution_count": 18,
   "metadata": {},
   "outputs": [
    {
     "name": "stdout",
     "output_type": "stream",
     "text": [
      "Model: \"sequential_1\"\n",
      "_________________________________________________________________\n",
      "Layer (type)                 Output Shape              Param #   \n",
      "=================================================================\n",
      "lstm_1 (LSTM)                (30, 100)                 42400     \n",
      "_________________________________________________________________\n",
      "dropout_1 (Dropout)          (30, 100)                 0         \n",
      "_________________________________________________________________\n",
      "dense_1 (Dense)              (30, 20)                  2020      \n",
      "_________________________________________________________________\n",
      "dense_2 (Dense)              (30, 1)                   21        \n",
      "=================================================================\n",
      "Total params: 44,441\n",
      "Trainable params: 44,441\n",
      "Non-trainable params: 0\n",
      "_________________________________________________________________\n"
     ]
    }
   ],
   "source": [
    "lstm_model.summary()"
   ]
  },
  {
   "cell_type": "code",
   "execution_count": 21,
   "metadata": {},
   "outputs": [
    {
     "name": "stdout",
     "output_type": "stream",
     "text": [
      "1350/1350 [==============================] - 0s 332us/step\n"
     ]
    }
   ],
   "source": [
    "y_pred = lstm_model.predict(trim_dataset(x_test_t, BATCH_SIZE), verbose=1, batch_size=BATCH_SIZE)"
   ]
  },
  {
   "cell_type": "code",
   "execution_count": 22,
   "metadata": {},
   "outputs": [
    {
     "data": {
      "text/plain": [
       "((1350, 1), (1365, 60, 5), (1365,))"
      ]
     },
     "execution_count": 22,
     "metadata": {},
     "output_type": "execute_result"
    }
   ],
   "source": [
    "y_pred.shape, x_test_t.shape, y_test_t.shape"
   ]
  },
  {
   "cell_type": "code",
   "execution_count": 23,
   "metadata": {},
   "outputs": [
    {
     "data": {
      "text/plain": [
       "(0.32747834001232845, array([0.3753854], dtype=float32))"
      ]
     },
     "execution_count": 23,
     "metadata": {},
     "output_type": "execute_result"
    }
   ],
   "source": [
    "y_test_t[0], y_pred[0] "
   ]
  }
 ],
 "metadata": {
  "kernelspec": {
   "display_name": "Python 3",
   "language": "python",
   "name": "python3"
  },
  "language_info": {
   "codemirror_mode": {
    "name": "ipython",
    "version": 3
   },
   "file_extension": ".py",
   "mimetype": "text/x-python",
   "name": "python",
   "nbconvert_exporter": "python",
   "pygments_lexer": "ipython3",
   "version": "3.7.4"
  }
 },
 "nbformat": 4,
 "nbformat_minor": 4
}
