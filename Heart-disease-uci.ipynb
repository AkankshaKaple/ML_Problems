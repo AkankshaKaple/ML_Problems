{
  "cells": [
    {
      "metadata": {
        "_uuid": "8f2839f25d086af736a60e9eeb907d3b93b6e0e5",
        "_cell_guid": "b1076dfc-b9ad-4769-8c92-a6c4dae69d19",
        "trusted": true
      },
      "cell_type": "code",
      "source": "# This Python 3 environment comes with many helpful analytics libraries installed\n# It is defined by the kaggle/python docker image: https://github.com/kaggle/docker-python\n# For example, here's several helpful packages to load in \n\nimport numpy as np # linear algebra\nimport pandas as pd # data processing, CSV file I/O (e.g. pd.read_csv)\n\n# Input data files are available in the \"../input/\" directory.\n# For example, running this (by clicking run or pressing Shift+Enter) will list the files in the input directory\n\nimport os\nprint(os.listdir(\"../input\"))\n\n# Any results you write to the current directory are saved as output.",
      "execution_count": null,
      "outputs": []
    },
    {
      "metadata": {
        "_cell_guid": "79c7e3d0-c299-4dcb-8224-4455121ee9b0",
        "_uuid": "d629ff2d2480ee46fbb7e2d37f6b5fab8052498a",
        "trusted": true
      },
      "cell_type": "code",
      "source": "data = pd.read_csv(\"../input/heart.csv\")\ndata.head()",
      "execution_count": null,
      "outputs": []
    },
    {
      "metadata": {
        "trusted": true,
        "_uuid": "ecbe830cc6f8cb2fa7434e3586ef035cf2fc2437"
      },
      "cell_type": "code",
      "source": "data.describe().T",
      "execution_count": null,
      "outputs": []
    },
    {
      "metadata": {
        "trusted": true,
        "_uuid": "f968516c87d5cc22982497a08b2e70a2141549f1"
      },
      "cell_type": "code",
      "source": "data.isnull().sum()",
      "execution_count": null,
      "outputs": []
    },
    {
      "metadata": {
        "trusted": true,
        "_uuid": "babeebbeb6cd72a29001f58257e015865bc9d358"
      },
      "cell_type": "code",
      "source": "import seaborn as sb\nimport matplotlib.pyplot as plt",
      "execution_count": null,
      "outputs": []
    },
    {
      "metadata": {
        "trusted": true,
        "_uuid": "0db1ac2a39927e2bb9d555ef319471e28fc96b32"
      },
      "cell_type": "code",
      "source": "data.nunique()",
      "execution_count": null,
      "outputs": []
    },
    {
      "metadata": {
        "_uuid": "c529728401a04f1f37c3b11d61188b87147d375b"
      },
      "cell_type": "markdown",
      "source": "\n<h1>Data visualization  :</h1>\n**Sex : **"
    },
    {
      "metadata": {
        "trusted": true,
        "_uuid": "86f03599eee616e9c607a3baf54007553e026c1e"
      },
      "cell_type": "code",
      "source": "import matplotlib.pyplot as plt\n \nmale =len(data[data['sex'] == 1])\nfemale = len(data[data['sex']== 0])\n\nplt.figure(figsize=(8,6))\n\n# Data to plot\nlabels = 'Male','Female'\nsizes = [male,female]\ncolors = ['skyblue', 'yellowgreen']\nexplode = (0.1, 0)  # explode 1st slice\n \n# Plot\nplt.pie(sizes, explode=explode, labels=labels, colors=colors,\nautopct='%1.1f%%', shadow=True, startangle=90)\n \nplt.axis('equal')\nplt.show()\n\n",
      "execution_count": null,
      "outputs": []
    },
    {
      "metadata": {
        "_uuid": "0300dba6dcd8dbb4bf5661540638b55926690303"
      },
      "cell_type": "markdown",
      "source": "**<h2>chest pain type (4 values)</h2> **"
    },
    {
      "metadata": {
        "trusted": true,
        "_uuid": "b920385cabff79d90f51d3eb17bd1e8aecb40a45"
      },
      "cell_type": "code",
      "source": "# len(df[df['cp'] == 0])\n# (df[df['cp'] == 0])",
      "execution_count": null,
      "outputs": []
    },
    {
      "metadata": {
        "trusted": true,
        "_uuid": "68e3ee2e9883b45a2deba9d9412219f23cacedaf"
      },
      "cell_type": "code",
      "source": "df = data\n\nplt.figure(figsize=(8,6))\n\nsizes = [len(data[data['cp'] == 0]),\n         len(data[data['cp'] == 1]),\n         len(data[data['cp'] == 2]),\n         len(data[data['cp'] == 3])]\nlabels = \"type_1\", \"type_2\", \"type_3\", \"type_4\"\ncolor = [\"red\", \"blue\", \"purple\", \"gold\"]\nexplode = (0.1,0,0.1,0)\n\nplt.pie(sizes, labels=labels, colors=color, explode=explode, shadow=True, autopct='%1.1f%%')\nplt.axis(\"equal\")\nplt.show()\n",
      "execution_count": null,
      "outputs": []
    },
    {
      "metadata": {
        "trusted": true,
        "_uuid": "0059afc7c66d5b64b295e22bcd261d871d9d6598"
      },
      "cell_type": "code",
      "source": "len(data[data[\"cp\"] == 0]), len(data[data[\"fbs\"] == 1])",
      "execution_count": null,
      "outputs": []
    },
    {
      "metadata": {
        "trusted": true,
        "_uuid": "e3eabde29950afec2a1f712a3ec67dccbb2ccdc2"
      },
      "cell_type": "code",
      "source": "plt.figure(figsize=(8,9))\n\nsizes = [len(data[data[\"fbs\"] == 1]), len(data[data[\"cp\"] == 0])]\nlabels = 'fasting blood sugar < 120 mg/dl','fasting blood sugar > 120 mg/dl'\ncolors = ['#42f4cb', 'Violet']\nexplode = (0.1,0)\nplt.pie(sizes, explode=explode, labels=labels, colors=colors,\nautopct='%1.1f%%', shadow=True, startangle=180)\n \n\nplt.axis(\"equal\")\nplt.show()\n\n",
      "execution_count": null,
      "outputs": []
    },
    {
      "metadata": {
        "trusted": true,
        "_uuid": "bf911f12aea1c31d573a828d4e6debb132a219b5"
      },
      "cell_type": "code",
      "source": "plt.figure(figsize=(8,6))\n\n# Data to plot\nlabels = 'fasting blood sugar < 120 mg/dl','fasting blood sugar > 120 mg/dl'\nsizes = [len(data[data['fbs'] == 0]),len(data[data['cp'] == 1])]\ncolors = ['skyblue', 'yellowgreen','orange','gold']\nexplode = (0.1, 0)  # explode 1st slice\n \n# Plot\nplt.pie(sizes, explode=explode, labels=labels, colors=colors,\nautopct='%1.1f%%', shadow=True, startangle=180)\n \nplt.axis('equal')\nplt.show()\n\n",
      "execution_count": null,
      "outputs": []
    },
    {
      "metadata": {
        "trusted": true,
        "_uuid": "42736d8c5894343e7ef5a048fa1b83d3b65a3f7a"
      },
      "cell_type": "code",
      "source": "sb.distplot(df['thalach'],kde=False,bins=30,color='violet')\n",
      "execution_count": null,
      "outputs": []
    },
    {
      "metadata": {
        "trusted": true,
        "_uuid": "f620eb39295f71868c3c0269a407157769d8ed3b"
      },
      "cell_type": "code",
      "source": "sb.distplot(data['chol'],kde=False,bins=30,color='red')\nplt.show()",
      "execution_count": null,
      "outputs": []
    },
    {
      "metadata": {
        "trusted": true,
        "_uuid": "cbc33eec4f8cb9b497eea0084025085a0a301203"
      },
      "cell_type": "code",
      "source": "plt.figure(figsize=(15,6))\nsb.countplot(x='age',data = data, hue = 'target',palette='GnBu')\nplt.show()",
      "execution_count": null,
      "outputs": []
    },
    {
      "metadata": {
        "trusted": true,
        "_uuid": "525fc1f002b2d00896fef66782a3c5447242d5b9"
      },
      "cell_type": "code",
      "source": "plt.figure(figsize=(8,6))\nsb.scatterplot(x='chol',y='thalach',data=data,hue='target')\nplt.show()",
      "execution_count": null,
      "outputs": []
    },
    {
      "metadata": {
        "trusted": true,
        "_uuid": "f8d007435950aa8a7072c922cc8789e8ff45df87"
      },
      "cell_type": "code",
      "source": "plt.figure(figsize=(8,6))\nsb.scatterplot(x='trestbps',y='thalach',data=data,hue='target')\nplt.show()",
      "execution_count": null,
      "outputs": []
    },
    {
      "metadata": {
        "trusted": true,
        "_uuid": "cb26a6e7c8cf3b56e995c649c5e64c7cd1a843d1"
      },
      "cell_type": "code",
      "source": "X= df.drop('target',axis=1)\ny=df['target']\n",
      "execution_count": null,
      "outputs": []
    },
    {
      "metadata": {
        "trusted": true,
        "_uuid": "a92d3af7357ee399db2bb29f6208406f9d7f778d"
      },
      "cell_type": "code",
      "source": "from sklearn.model_selection import train_test_split\nX_train,X_test,y_train,y_test = train_test_split(X,y,test_size=.3,random_state=42)",
      "execution_count": null,
      "outputs": []
    },
    {
      "metadata": {
        "trusted": true,
        "_uuid": "824731cba2e9858c9ace3d477e6e76bb192a80bb"
      },
      "cell_type": "code",
      "source": "from sklearn.preprocessing import StandardScaler\nscaler = StandardScaler()\n\nX_train_scaled = scaler.fit_transform(X_train)\nX_train = pd.DataFrame(X_train_scaled)\n\nX_test_scaled = scaler.transform(X_test)\nX_test = pd.DataFrame(X_test_scaled)",
      "execution_count": null,
      "outputs": []
    },
    {
      "metadata": {
        "trusted": true,
        "_uuid": "191090d6810341633b7c1a6e03c19be555f9c5fc"
      },
      "cell_type": "code",
      "source": "X_train.head()",
      "execution_count": null,
      "outputs": []
    },
    {
      "metadata": {
        "_uuid": "d343f42190460ca8ec981dba2120e7c8a032703b"
      },
      "cell_type": "markdown",
      "source": "**<h2>Logistic Regression</h2>**"
    },
    {
      "metadata": {
        "trusted": true,
        "_uuid": "f8087e35156005123dc3dfbcadaa79289d2dfced"
      },
      "cell_type": "code",
      "source": "from sklearn.linear_model import LogisticRegression\nclassify = LogisticRegression(random_state=0)\nclassify.fit(X_train, y_train)\n\ny_pred = classify.predict(X_test)\n\nfrom sklearn.metrics import confusion_matrix\ncm = confusion_matrix(y_test, y_pred)\nprint(cm)\n\nfrom sklearn.metrics import accuracy_score\nprint('Accuracy Score: ',accuracy_score(y_test,y_pred))\nprint('Using Logistic Regression we get an accuracy score of: ',\n      round(accuracy_score(y_test,y_pred),5)*100,'%')\n",
      "execution_count": null,
      "outputs": []
    },
    {
      "metadata": {
        "_uuid": "1d1c798c7393a4315eee7d1aa58172c7447a2b3e"
      },
      "cell_type": "markdown",
      "source": "**<h2>DecisionTree</h2>**"
    },
    {
      "metadata": {
        "trusted": true,
        "_uuid": "5458e2bd24df4239f325b32ce7080e54f7309ecb"
      },
      "cell_type": "code",
      "source": "from sklearn.tree import DecisionTreeClassifier\nclassifier = DecisionTreeClassifier(criterion = 'entropy', random_state = 0)\nclassifier.fit(X_train, y_train)\n\n# Predicting the Test set results\ny_pred = classifier.predict(X_test)\n\n# Making the Confusion Matrix\nfrom sklearn.metrics import confusion_matrix\ncm = confusion_matrix(y_test, y_pred)\nprint(cm)\n\nfrom sklearn.metrics import accuracy_score\nprint('Accuracy Score: ',accuracy_score(y_test,y_pred))\nprint('Using Logistic Regression we get an accuracy score of: ',\n      round(accuracy_score(y_test,y_pred),5)*100,'%')\n\n",
      "execution_count": null,
      "outputs": []
    },
    {
      "metadata": {
        "_uuid": "974a40e8f491b06090723c103d6caf3924925744"
      },
      "cell_type": "markdown",
      "source": "**<h2>KNN</h2>**"
    },
    {
      "metadata": {
        "trusted": true,
        "_uuid": "b25ce2e0ff94eed2eec94a86438d3077564345e0"
      },
      "cell_type": "code",
      "source": "from sklearn.neighbors import KNeighborsClassifier\nclassify = KNeighborsClassifier(n_neighbors = 5, metric = \"minkowski\", p = 2)\nclassify.fit(X_train, y_train)\n\ny_pred = classify.predict(X_test)\n\nfrom sklearn.metrics import confusion_matrix\ncm = confusion_matrix(y_test, y_pred)\nprint(cm)\n\n\nfrom sklearn.metrics import accuracy_score\nprint('Accuracy Score: ',accuracy_score(y_test,y_pred))\nprint('Using Logistic Regression we get an accuracy score of: ',\n      round(accuracy_score(y_test,y_pred),5)*100,'%')\n\n\n",
      "execution_count": null,
      "outputs": []
    },
    {
      "metadata": {
        "_uuid": "961e252a99203fc39ce47ba1ddda7e31f63277d8"
      },
      "cell_type": "markdown",
      "source": "**<h2>Random Forest</h2>**"
    },
    {
      "metadata": {
        "trusted": true,
        "_uuid": "bae5193e85b28aaa4356802562eed61c8f7e9075"
      },
      "cell_type": "code",
      "source": "# Fitting Random Forest Classification to the Training set\nfrom sklearn.ensemble import RandomForestClassifier\nclassifier = RandomForestClassifier(n_estimators = 10, criterion = 'entropy', random_state = 0)\nclassifier.fit(X_train, y_train)\n\n# Predicting the Test set results\ny_pred = classifier.predict(X_test)\n\n# Making the Confusion Matrix\nfrom sklearn.metrics import confusion_matrix\ncm = confusion_matrix(y_test, y_pred)\nprint(cm)\n\nfrom sklearn.metrics import accuracy_score\nprint('Accuracy Score: ',accuracy_score(y_test,y_pred))\nprint('Using Logistic Regression we get an accuracy score of: ',\n      round(accuracy_score(y_test,y_pred),5)*100,'%')\n\n",
      "execution_count": null,
      "outputs": []
    },
    {
      "metadata": {
        "_uuid": "af3e12c46f6f8e77bc8a241ab5138cf6c2cba829"
      },
      "cell_type": "markdown",
      "source": "**<h2>SVC</h2>**"
    },
    {
      "metadata": {
        "trusted": true,
        "_uuid": "657bb9faeef8ac5e8f7b8c5ac892f305edc9d395"
      },
      "cell_type": "code",
      "source": "from sklearn.svm import SVC\nclassifier = SVC(kernel = 'linear', random_state = 0)\nclassifier.fit(X_train, y_train)\n\n# Predicting the Test set results\ny_pred = classifier.predict(X_test)\n\n# Making the Confusion Matrix\nfrom sklearn.metrics import confusion_matrix\ncm = confusion_matrix(y_test, y_pred)\nprint(cm)\n\nfrom sklearn.metrics import accuracy_score\nprint('Accuracy Score: ',accuracy_score(y_test,y_pred))\nprint('Using Logistic Regression we get an accuracy score of: ',\n      round(accuracy_score(y_test,y_pred),5)*100,'%')\n\n",
      "execution_count": null,
      "outputs": []
    },
    {
      "metadata": {
        "trusted": true,
        "_uuid": "5cce1cc0ec99439676b7e6c5fd361da5f8d42a31"
      },
      "cell_type": "code",
      "source": "",
      "execution_count": null,
      "outputs": []
    }
  ],
  "metadata": {
    "kernelspec": {
      "display_name": "Python 3",
      "language": "python",
      "name": "python3"
    },
    "language_info": {
      "name": "python",
      "version": "3.6.6",
      "mimetype": "text/x-python",
      "codemirror_mode": {
        "name": "ipython",
        "version": 3
      },
      "pygments_lexer": "ipython3",
      "nbconvert_exporter": "python",
      "file_extension": ".py"
    }
  },
  "nbformat": 4,
  "nbformat_minor": 1
}