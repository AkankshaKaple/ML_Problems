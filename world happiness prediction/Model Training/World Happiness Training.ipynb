{
 "cells": [
  {
   "cell_type": "markdown",
   "metadata": {},
   "source": [
    "## <b>Happiness Model Training</b>"
   ]
  },
  {
   "cell_type": "markdown",
   "metadata": {},
   "source": [
    "## Problem Statement:\n",
    "The World Happiness Report is a landmark survey of the state of global happiness. The first report was published in 2012, the second in 2013, the third in 2015, and the fourth in the 2016 Update. The World Happiness 2017, which ranks 155 countries by their happiness levels, was released at the United Nations at an event celebrating International Day of Happiness on March 20th. The report continues to gain global recognition as governments, organizations and civil society increasingly use happiness indicators to inform their policy-making decisions. Leading experts across fields – economics, psychology, survey analysis, national statistics, health, public policy and more – describe how measurements of well-being can be used effectively to assess the progress of nations. The reports review the state of happiness in the world today and show how the new science of happiness explains personal and national variations in happiness.\n",
    "\n",
    "\n",
    "## Dataset: \n",
    "World Happiness Dataset of 2017\n"
   ]
  },
  {
   "cell_type": "markdown",
   "metadata": {},
   "source": [
    "### Immersive Experience to be gained ?\n",
    "\n",
    "There are various parameters happinees of a country depends. In this example we are using world happiness parameters and creating the model to predict happiness index of a country."
   ]
  },
  {
   "cell_type": "markdown",
   "metadata": {},
   "source": [
    "## Step 1: Import all the required libraries \n",
    "* __Pandas__ : In computer programming, pandas is a software library written for the Python programming language for data manipulation and analysis and storing in a proper way. In particular, it offers data structures and operations for manipulating numerical tables and time series\n",
    "* __Sklearn__ : Scikit-learn (formerly scikits.learn) is a free software machine learning library for the Python programming language. It features various classification, regression and clustering algorithms including support vector machines, random forests, gradient boosting, k-means and DBSCAN, and is designed to interoperate with the Python numerical and scientific libraries NumPy and SciPy. The library is built upon the SciPy (Scientific Python) that must be installed before you can use scikit-learn.\n",
    "* __Pickle__ : Python pickle module is used for serializing and de-serializing a Python object structure. Pickling is a way to convert a python object (list, dict, etc.) into a character stream. The idea is that this character stream contains all the information necessary to reconstruct the object in another python script.\n",
    "* __Seaborn__ : Seaborn is a Python data visualization library based on matplotlib. It provides a high-level interface for drawing attractive and informative statistical graphics."
   ]
  },
  {
   "cell_type": "code",
   "execution_count": 25,
   "metadata": {
    "ExecuteTime": {
     "end_time": "2019-10-16T12:47:57.347403Z",
     "start_time": "2019-10-16T12:47:56.885572Z"
    }
   },
   "outputs": [],
   "source": [
    "#Loading libraries \n",
    "import pandas as pd\n",
    "import seaborn as sns\n",
    "from sklearn.model_selection import train_test_split\n",
    "from sklearn import preprocessing\n",
    "import sklearn.linear_model \n",
    "import sklearn\n",
    "import pickle\n",
    "import numpy as np\n",
    "import warnings\n",
    "warnings.filterwarnings('ignore')\n"
   ]
  },
  {
   "cell_type": "markdown",
   "metadata": {},
   "source": [
    "## Step 2 : Read all the required data\n",
    "In this stage we are going to read our problem dataset and have a look on it."
   ]
  },
  {
   "cell_type": "code",
   "execution_count": 2,
   "metadata": {
    "ExecuteTime": {
     "end_time": "2019-10-16T12:38:19.374981Z",
     "start_time": "2019-10-16T12:38:19.344732Z"
    }
   },
   "outputs": [
    {
     "name": "stdout",
     "output_type": "stream",
     "text": [
      "Data Reading done successfully...\n"
     ]
    }
   ],
   "source": [
    "#loading training data\n",
    "try:\n",
    "    data = pd.read_csv('Data/world-happiness_2017_trainig_dataset.csv')\n",
    "    print('Data Reading done successfully...')\n",
    "except (FileNotFoundError, IOError):\n",
    "    print(\"Wrong file or file path\")   "
   ]
  },
  {
   "cell_type": "code",
   "execution_count": 3,
   "metadata": {
    "ExecuteTime": {
     "end_time": "2019-10-16T12:38:19.610961Z",
     "start_time": "2019-10-16T12:38:19.552410Z"
    }
   },
   "outputs": [
    {
     "name": "stdout",
     "output_type": "stream",
     "text": [
      "       Country  Economy..GDP.per.Capita.    Family  Health..Life.Expectancy.  \\\n",
      "0       Norway                  1.616463  1.533524                  0.796667   \n",
      "1      Denmark                  1.482383  1.551122                  0.792566   \n",
      "2      Iceland                  1.480633  1.610574                  0.833552   \n",
      "3  Switzerland                  1.564980  1.516912                  0.858131   \n",
      "4      Finland                  1.443572  1.540247                  0.809158   \n",
      "\n",
      "    Freedom  Generosity  Trust..Government.Corruption.  Dystopia.Residual  \\\n",
      "0  0.635423    0.362012                       0.315964           2.277027   \n",
      "1  0.626007    0.355280                       0.400770           2.313707   \n",
      "2  0.627163    0.475540                       0.153527           2.322715   \n",
      "3  0.620071    0.290549                       0.367007           2.276716   \n",
      "4  0.617951    0.245483                       0.382612           2.430182   \n",
      "\n",
      "   Whisker.high  Whisker.low  Happiness.Score  \n",
      "0      7.594445     7.479556            7.537  \n",
      "1      7.581728     7.462272            7.522  \n",
      "2      7.622030     7.385970            7.504  \n",
      "3      7.561772     7.426227            7.494  \n",
      "4      7.527542     7.410458            7.469  \n"
     ]
    }
   ],
   "source": [
    "print(data.head())"
   ]
  },
  {
   "cell_type": "markdown",
   "metadata": {},
   "source": [
    "After we read the data, we can look at the data using:\n"
   ]
  },
  {
   "cell_type": "code",
   "execution_count": 4,
   "metadata": {
    "ExecuteTime": {
     "end_time": "2019-10-16T12:38:20.124680Z",
     "start_time": "2019-10-16T12:38:20.119255Z"
    }
   },
   "outputs": [
    {
     "name": "stdout",
     "output_type": "stream",
     "text": [
      "The train data has 120 rows and 11 columns\n"
     ]
    }
   ],
   "source": [
    "#count the total number of rows and columns.\n",
    "print ('The train data has {0} rows and {1} columns'.format(data.shape[0],data.shape[1]))"
   ]
  },
  {
   "cell_type": "markdown",
   "metadata": {},
   "source": [
    "## Step 3: Data Exploration\n"
   ]
  },
  {
   "cell_type": "markdown",
   "metadata": {},
   "source": [
    "Let's proceed and check the distribution of the target variable."
   ]
  },
  {
   "cell_type": "code",
   "execution_count": 5,
   "metadata": {
    "ExecuteTime": {
     "end_time": "2019-10-16T12:38:21.118979Z",
     "start_time": "2019-10-16T12:38:20.841553Z"
    }
   },
   "outputs": [
    {
     "data": {
      "text/plain": [
       "<matplotlib.axes._subplots.AxesSubplot at 0x7f8b946b7a20>"
      ]
     },
     "execution_count": 5,
     "metadata": {},
     "output_type": "execute_result"
    },
    {
     "data": {
      "image/png": "[encoded data removed]",
      "text/plain": [
       "<Figure size 432x288 with 1 Axes>"
      ]
     },
     "metadata": {},
     "output_type": "display_data"
    }
   ],
   "source": [
    "#Happiness Score\n",
    "sns.distplot(data['Happiness.Score'])"
   ]
  },
  {
   "cell_type": "markdown",
   "metadata": {},
   "source": [
    "We see that the target variable Happiness.Score has a no skewed distribution. This is not always our case for target varibale sometime it happens we have right or left skewed distribution. In that case we'll need to log transform this variable so that it becomes normally distributed. A normally distributed (or close to normal) target variable helps in better modeling the relationship between target and independent variables. In addition, linear algorithms assume constant variance in the error term. Alternatively, we can also confirm this skewed behavior using the skewness metric."
   ]
  },
  {
   "cell_type": "markdown",
   "metadata": {},
   "source": [
    "## Step 4: Data pre-processing\n"
   ]
  },
  {
   "cell_type": "markdown",
   "metadata": {},
   "source": [
    "In this stage, we'll deal, encode variables from the dataset."
   ]
  },
  {
   "cell_type": "code",
   "execution_count": 19,
   "metadata": {
    "ExecuteTime": {
     "end_time": "2019-10-16T12:45:44.760382Z",
     "start_time": "2019-10-16T12:45:44.747033Z"
    }
   },
   "outputs": [],
   "source": [
    "# Encoding Categorical Data\n",
    "le = preprocessing.LabelEncoder()\n",
    "  \n",
    "data['Country']= le.fit_transform(data['Country']) \n",
    "\n",
    "X = data.iloc[:, :-1]\n",
    "Y = data.iloc[:, 10]\n",
    "Y= Y.values.reshape(Y.shape[0],1)"
   ]
  },
  {
   "cell_type": "code",
   "execution_count": 21,
   "metadata": {
    "ExecuteTime": {
     "end_time": "2019-10-16T12:45:55.503762Z",
     "start_time": "2019-10-16T12:45:55.481204Z"
    }
   },
   "outputs": [],
   "source": [
    "after_labelencoder = np.append(X, Y, axis=1)\n",
    "np.savetxt(\"01_after_labelencoder.csv\", after_labelencoder, delimiter=\",\")"
   ]
  },
  {
   "cell_type": "code",
   "execution_count": 22,
   "metadata": {
    "ExecuteTime": {
     "end_time": "2019-10-16T12:47:25.012047Z",
     "start_time": "2019-10-16T12:47:24.997863Z"
    }
   },
   "outputs": [
    {
     "name": "stdout",
     "output_type": "stream",
     "text": [
      "   Country  Economy..GDP.per.Capita.    Family  Health..Life.Expectancy.  \\\n",
      "0       79                  1.616463  1.533524                  0.796667   \n",
      "1       25                  1.482383  1.551122                  0.792566   \n",
      "2       41                  1.480633  1.610574                  0.833552   \n",
      "3      104                  1.564980  1.516912                  0.858131   \n",
      "4       32                  1.443572  1.540247                  0.809158   \n",
      "\n",
      "    Freedom  Generosity  Trust..Government.Corruption.  Dystopia.Residual  \\\n",
      "0  0.635423    0.362012                       0.315964           2.277027   \n",
      "1  0.626007    0.355280                       0.400770           2.313707   \n",
      "2  0.627163    0.475540                       0.153527           2.322715   \n",
      "3  0.620071    0.290549                       0.367007           2.276716   \n",
      "4  0.617951    0.245483                       0.382612           2.430182   \n",
      "\n",
      "   Whisker.high  Whisker.low  Happiness.Score  \n",
      "0      7.594445     7.479556            7.537  \n",
      "1      7.581728     7.462272            7.522  \n",
      "2      7.622030     7.385970            7.504  \n",
      "3      7.561772     7.426227            7.494  \n",
      "4      7.527542     7.410458            7.469  \n"
     ]
    }
   ],
   "source": [
    "# check the encoding categorical Data\n",
    "print(data.head())"
   ]
  },
  {
   "cell_type": "markdown",
   "metadata": {},
   "source": [
    "## Step 5: Split the data into train and test set\n",
    "- Now our data is ready to feed to the program. But here we'll split the data into train and test dataset so that after training the model we can test the model on the test dataset and find out how accurate are its predictions.\n",
    "- Here we are splitting the data so that the training dataset contains 80% of the data and the test dataset contains 20% of the total data.\n",
    "- Here we are using the train_test_split method from the sklearn library. We'll train our model on x_train and y_train, test it on x_test and y_test.\n",
    "\n",
    "- test_size: Here we specify the size we want for our test dataset.\n",
    "- random_state: When we use a random number generator for number or sequence generation, we give a starting number (AKA seed). When we provide the same seed, every time it’ll generate the same sequence as the first one. That’s why to keep the same random values every time, we give seed as random_state in train_test_split()."
   ]
  },
  {
   "cell_type": "code",
   "execution_count": 26,
   "metadata": {
    "ExecuteTime": {
     "end_time": "2019-10-16T12:48:01.650296Z",
     "start_time": "2019-10-16T12:48:01.635927Z"
    }
   },
   "outputs": [],
   "source": [
    "#split the dataset into x and y\n",
    "x_data_train, x_data_test, y_data_train, y_data_test = sklearn.model_selection.train_test_split(\n",
    "        X, Y, test_size=0.25,random_state=42)"
   ]
  },
  {
   "cell_type": "markdown",
   "metadata": {},
   "source": [
    "We can't see the values of an entire matrix, but by looking at its shape, we decide if we going in the right direction or not. By using \".shape\" we can see shape of a matrix and it will also helpful in debugging."
   ]
  },
  {
   "cell_type": "code",
   "execution_count": 27,
   "metadata": {
    "ExecuteTime": {
     "end_time": "2019-10-16T12:48:04.561930Z",
     "start_time": "2019-10-16T12:48:04.544063Z"
    }
   },
   "outputs": [
    {
     "name": "stdout",
     "output_type": "stream",
     "text": [
      "(90, 10) (30, 10) (90, 1) (30, 1)\n"
     ]
    }
   ],
   "source": [
    "#display the shapes of the x and y train and test dataset.\n",
    "print(x_data_train.shape, x_data_test.shape, y_data_train.shape, y_data_test.shape)"
   ]
  },
  {
   "cell_type": "markdown",
   "metadata": {},
   "source": [
    "## Step 6: Train the Model using Linear Regression"
   ]
  },
  {
   "cell_type": "code",
   "execution_count": 28,
   "metadata": {
    "ExecuteTime": {
     "end_time": "2019-10-16T12:48:11.974974Z",
     "start_time": "2019-10-16T12:48:11.132118Z"
    },
    "scrolled": true
   },
   "outputs": [
    {
     "name": "stdout",
     "output_type": "stream",
     "text": [
      "Model trained successfully\n"
     ]
    }
   ],
   "source": [
    "#Using sklearn linear regression model\n",
    "model = sklearn.linear_model.LinearRegression()\n",
    "model.fit(x_data_train, y_data_train)\n",
    "print(\"Model trained successfully\")"
   ]
  },
  {
   "cell_type": "code",
   "execution_count": 29,
   "metadata": {
    "ExecuteTime": {
     "end_time": "2019-10-16T12:49:52.450107Z",
     "start_time": "2019-10-16T12:49:52.436307Z"
    }
   },
   "outputs": [
    {
     "data": {
      "text/plain": [
       "(numpy.ndarray, (30, 1))"
      ]
     },
     "execution_count": 29,
     "metadata": {},
     "output_type": "execute_result"
    }
   ],
   "source": [
    "#using the test data to test the model\n",
    "y_data_pred = model.predict(x_data_test)\n",
    "y_data_pred = y_data_pred.reshape(len(y_data_pred),1)\n",
    "type(y_data_pred), y_data_pred.shape"
   ]
  },
  {
   "cell_type": "code",
   "execution_count": 30,
   "metadata": {
    "ExecuteTime": {
     "end_time": "2019-10-16T12:49:59.702545Z",
     "start_time": "2019-10-16T12:49:59.648314Z"
    }
   },
   "outputs": [],
   "source": [
    "#saving the y_pred_test_comparison in the csv file\n",
    "y_pred_test_comparison = np.append(y_data_test, y_data_pred, axis=1)\n",
    "np.savetxt(\"02_y_pred_test_comparison.csv\", y_pred_test_comparison, delimiter=\",\")"
   ]
  },
  {
   "cell_type": "code",
   "execution_count": 31,
   "metadata": {
    "ExecuteTime": {
     "end_time": "2019-10-16T12:50:16.174455Z",
     "start_time": "2019-10-16T12:50:16.158064Z"
    }
   },
   "outputs": [
    {
     "name": "stdout",
     "output_type": "stream",
     "text": [
      "[[-1.29674049e-13]\n",
      " [-6.21724894e-14]\n",
      " [-1.18127730e-13]\n",
      " [ 1.15463195e-14]\n",
      " [ 5.32907052e-15]\n",
      " [-1.53654867e-13]\n",
      " [-5.15143483e-14]\n",
      " [-6.30606678e-14]\n",
      " [-2.12274642e-13]\n",
      " [-7.54951657e-14]\n",
      " [ 1.93622895e-13]\n",
      " [ 8.34887715e-14]\n",
      " [-1.62536651e-13]\n",
      " [ 1.12798659e-13]\n",
      " [-1.89182003e-13]\n",
      " [-1.06581410e-14]\n",
      " [-2.13162821e-13]\n",
      " [ 5.77315973e-14]\n",
      " [ 9.68114477e-14]\n",
      " [-1.87405647e-13]\n",
      " [-1.19015908e-13]\n",
      " [ 8.70414851e-14]\n",
      " [ 1.72306613e-13]\n",
      " [-9.23705556e-14]\n",
      " [ 5.59552404e-14]\n",
      " [-2.28261854e-13]\n",
      " [-1.03916875e-13]\n",
      " [ 1.12798659e-13]\n",
      " [-1.56319402e-13]\n",
      " [-2.75335310e-14]]\n"
     ]
    }
   ],
   "source": [
    "diffs = y_data_test - y_data_pred\n",
    "print(diffs)"
   ]
  },
  {
   "cell_type": "code",
   "execution_count": 32,
   "metadata": {
    "ExecuteTime": {
     "end_time": "2019-10-16T12:50:49.647974Z",
     "start_time": "2019-10-16T12:50:49.635103Z"
    }
   },
   "outputs": [
    {
     "name": "stdout",
     "output_type": "stream",
     "text": [
      "Linear Regression: 1.0\n",
      "LinearRegression(copy_X=True, fit_intercept=True, n_jobs=1, normalize=False)\n"
     ]
    }
   ],
   "source": [
    "#Score of the Linear Regression\n",
    "print(\"Linear Regression:\", model.score(x_data_test, y_data_test))\n",
    "print(model)"
   ]
  },
  {
   "cell_type": "markdown",
   "metadata": {},
   "source": [
    "## Step 7: Save the model in a pickle file\n",
    "\n",
    "As Linear regression gave us the highest accuracy we'll go with it and save it to pickle file.\n",
    "We save our model to pickle files so that when we want to perform predictions on unseen data, we don't have to train our model again. Any object in python can be pickled so that it can be saved on disk. What pickle does is that it “serializes” the object first before writing it to file. Pickling is a way to convert a python object (list, dict, etc.) into a character stream. "
   ]
  },
  {
   "cell_type": "code",
   "execution_count": 33,
   "metadata": {
    "ExecuteTime": {
     "end_time": "2019-10-16T12:50:51.981277Z",
     "start_time": "2019-10-16T12:50:51.973971Z"
    }
   },
   "outputs": [],
   "source": [
    "# save the model to disk\n",
    "with open('Model/world_happiness_prediction.pkl','wb') as f:\n",
    "    pickle.dump(model,f)"
   ]
  },
  {
   "cell_type": "markdown",
   "metadata": {},
   "source": [
    "## Summary "
   ]
  },
  {
   "cell_type": "markdown",
   "metadata": {},
   "source": [
    "Happiness data was divided in train and test set.Using the test set regression model has been devleoped and same has been tested using test set."
   ]
  }
 ],
 "metadata": {
  "kernelspec": {
   "display_name": "Python 3",
   "language": "python",
   "name": "python3"
  },
  "language_info": {
   "codemirror_mode": {
    "name": "ipython",
    "version": 3
   },
   "file_extension": ".py",
   "mimetype": "text/x-python",
   "name": "python",
   "nbconvert_exporter": "python",
   "pygments_lexer": "ipython3",
   "version": "3.6.7"
  }
 },
 "nbformat": 4,
 "nbformat_minor": 2
}
