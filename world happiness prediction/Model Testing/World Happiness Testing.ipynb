{
 "cells": [
  {
   "cell_type": "markdown",
   "metadata": {},
   "source": [
    "# Model testing for World Happiness\n",
    "- Here we are going apply the model we created on live data."
   ]
  },
  {
   "cell_type": "markdown",
   "metadata": {},
   "source": [
    "## Step 1: Import libraries\n",
    "- __Pickle__: To load model from pickle file.\n",
    "* __Pandas__ : In computer programming, pandas is a software library written for the Python programming language for data manipulation and analysis and storing in a proper way. In particular, it offers data structures and operations for manipulating numerical tables and time series"
   ]
  },
  {
   "cell_type": "code",
   "execution_count": 52,
   "metadata": {
    "ExecuteTime": {
     "end_time": "2019-10-16T13:26:14.791977Z",
     "start_time": "2019-10-16T13:26:14.782374Z"
    }
   },
   "outputs": [],
   "source": [
    "import pickle\n",
    "import pandas as pd\n",
    "import warnings\n",
    "import numpy\n",
    "warnings.filterwarnings('ignore')\n",
    "from sklearn import preprocessing"
   ]
  },
  {
   "cell_type": "markdown",
   "metadata": {},
   "source": [
    "## Step 2: Import Model\n",
    "- Now we'll import the model "
   ]
  },
  {
   "cell_type": "code",
   "execution_count": 53,
   "metadata": {
    "ExecuteTime": {
     "end_time": "2019-10-16T13:26:15.264781Z",
     "start_time": "2019-10-16T13:26:15.258466Z"
    }
   },
   "outputs": [],
   "source": [
    "with open('../Model Training/Model/world_happiness_prediction.pkl','rb') as file:\n",
    "    model = pickle.load(file)"
   ]
  },
  {
   "cell_type": "markdown",
   "metadata": {},
   "source": [
    "## Step 3: Apply model on the test data"
   ]
  },
  {
   "cell_type": "code",
   "execution_count": 54,
   "metadata": {
    "ExecuteTime": {
     "end_time": "2019-10-16T13:26:15.566088Z",
     "start_time": "2019-10-16T13:26:15.552317Z"
    }
   },
   "outputs": [
    {
     "name": "stdout",
     "output_type": "stream",
     "text": [
      "Data Reading done successfully...\n"
     ]
    }
   ],
   "source": [
    "#loading testing data\n",
    "try:\n",
    "    data = pd.read_csv('../Model Testing/Data/world-happiness_2017_testing_dataset.csv')\n",
    "    print('Data Reading done successfully...')\n",
    "except (FileNotFoundError, IOError):\n",
    "    print(\"Wrong file or file path\")   "
   ]
  },
  {
   "cell_type": "code",
   "execution_count": 55,
   "metadata": {
    "ExecuteTime": {
     "end_time": "2019-10-16T13:26:15.718489Z",
     "start_time": "2019-10-16T13:26:15.705910Z"
    }
   },
   "outputs": [
    {
     "name": "stdout",
     "output_type": "stream",
     "text": [
      "               Country  Economy..GDP.per.Capita.    Family  \\\n",
      "0              Armenia                  0.900597  1.007484   \n",
      "1                India                  0.792221  0.754373   \n",
      "2           Mauritania                  0.648457  1.272031   \n",
      "3  Congo (Brazzaville)                  0.808964  0.832044   \n",
      "4              Georgia                  0.950613  0.570615   \n",
      "\n",
      "   Health..Life.Expectancy.   Freedom  Generosity  \\\n",
      "0                  0.637524  0.198303    0.083488   \n",
      "1                  0.455428  0.469987    0.231538   \n",
      "2                  0.285349  0.096098    0.201870   \n",
      "3                  0.289957  0.435026    0.120852   \n",
      "4                  0.649547  0.309410    0.054009   \n",
      "\n",
      "   Trust..Government.Corruption.  Dystopia.Residual  Whisker.high  \\\n",
      "0                       0.026674           1.521499      4.466735   \n",
      "1                       0.092227           1.519117      4.371522   \n",
      "2                       0.136957           1.651637      4.377164   \n",
      "3                       0.079618           1.724136      4.410054   \n",
      "4                       0.251667           1.500138      4.374934   \n",
      "\n",
      "   Whisker.low  Happiness.Score  \n",
      "0     4.285265            4.376  \n",
      "1     4.258478            4.315  \n",
      "2     4.206836            4.292  \n",
      "3     4.171946            4.291  \n",
      "4     4.197066            4.286  \n"
     ]
    }
   ],
   "source": [
    "#show the first five rows of the data\n",
    "print(data.head())"
   ]
  },
  {
   "cell_type": "code",
   "execution_count": 56,
   "metadata": {
    "ExecuteTime": {
     "end_time": "2019-10-16T13:26:15.883967Z",
     "start_time": "2019-10-16T13:26:15.870365Z"
    }
   },
   "outputs": [],
   "source": [
    "#split the dataset into x_data_test and y_data_test\n",
    "x_data_test = data.iloc[:, :-1]\n",
    "y_data_test = data.iloc[:, 10]"
   ]
  },
  {
   "cell_type": "code",
   "execution_count": 63,
   "metadata": {
    "ExecuteTime": {
     "end_time": "2019-10-16T13:30:34.768034Z",
     "start_time": "2019-10-16T13:30:34.747101Z"
    }
   },
   "outputs": [],
   "source": [
    "#function to display fetch data from the specific country name\n",
    "def happiness_score(country_name):\n",
    "    country_data = x_data_test.loc[data['Country'] == country_name]\n",
    "\n",
    "    #encode the Country column\n",
    "    le = preprocessing.LabelEncoder() \n",
    "    country_data['Country']= le.fit_transform(country_data['Country']) \n",
    "    return model.predict(country_data)[0][0]"
   ]
  },
  {
   "cell_type": "code",
   "execution_count": 64,
   "metadata": {
    "ExecuteTime": {
     "end_time": "2019-10-16T13:30:35.291971Z",
     "start_time": "2019-10-16T13:30:35.203591Z"
    }
   },
   "outputs": [
    {
     "name": "stdout",
     "output_type": "stream",
     "text": [
      "Happiness score of the India 4.315000057220697\n"
     ]
    }
   ],
   "source": [
    "#predict the world happiness \n",
    "country_name = 'India'\n",
    "print('Happiness score of the ' + country_name, happiness_score(country_name))"
   ]
  }
 ],
 "metadata": {
  "kernelspec": {
   "display_name": "Python 3",
   "language": "python",
   "name": "python3"
  },
  "language_info": {
   "codemirror_mode": {
    "name": "ipython",
    "version": 3
   },
   "file_extension": ".py",
   "mimetype": "text/x-python",
   "name": "python",
   "nbconvert_exporter": "python",
   "pygments_lexer": "ipython3",
   "version": "3.6.7"
  }
 },
 "nbformat": 4,
 "nbformat_minor": 4
}
