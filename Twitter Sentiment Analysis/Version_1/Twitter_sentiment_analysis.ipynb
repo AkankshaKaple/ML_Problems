{
 "cells": [
  {
   "cell_type": "markdown",
   "metadata": {
    "_uuid": "40e3b533add5c85d66d7987325df519e90205f5c"
   },
   "source": [
    "To detect negative speech in tweets. Here we are gonna train and develop a simple Twitter Sentiment Analysis supervised learning model using python and NLP libraries.\n",
    "\n",
    "## Dataset : \n",
    "The data set contains tweets and sentiment related to it. Here we need to predict the sentiment for a given tweet.\n",
    "Here, in label \n",
    "* __label “0”: Positive Sentiment__ \n",
    "* __label “1”: Negative Sentiment__  "
   ]
  },
  {
   "cell_type": "markdown",
   "metadata": {},
   "source": [
    "* __nltk__ : Natural Language Tool Kit is a natural language processing library that contains packages to make machines understand human language and reply to it with an appropriate response.\n",
    "* __Pandas__ : For analysis and manipulation of data \n",
    "* __Numpy__ : To handle matrices and arrays of large size\n",
    "* __Sklearn__ : To easily handle machine learning operations\n",
    "* __Pickle__ : It is an object serializer and we are using it to save our model.\n",
    "* __Seaborn__ : For statistical data visualization.\n",
    "* __re__ : To use regular expressions"
   ]
  },
  {
   "cell_type": "code",
   "execution_count": 142,
   "metadata": {
    "_uuid": "1b77e64eeb8e12f930065e5c058aef60f4db39f4"
   },
   "outputs": [],
   "source": [
    "import pandas as pd\n",
    "import numpy as np\n",
    "import pickle\n",
    "import sklearn\n",
    "import nltk\n",
    "import re\n",
    "import seaborn\n",
    "import warnings  # To ignore warnings\n",
    "warnings.filterwarnings('ignore')\n",
    "import IPython # To diplay images\n",
    "import texttable as tt  # To print data in tabular format"
   ]
  },
  {
   "cell_type": "markdown",
   "metadata": {},
   "source": [
    "## Step 2: Import datasets\n",
    "\n",
    "Read the data with pandas.\n",
    "* __twitter_data.csv__ : It contains tweets with its corresponding sentiment. We'll use this to train as well as test our model to predict the sentiment behind the tweet."
   ]
  },
  {
   "cell_type": "code",
   "execution_count": 246,
   "metadata": {
    "_uuid": "f0ecbffbb1689a2878fcc9f58ea5a8ef3a48b08b"
   },
   "outputs": [],
   "source": [
    "try:\n",
    "    data  = pd.read_csv(\"Dataset/twitter_data.csv\")\n",
    "except FileNotFoundError:\n",
    "    print(\"File does not exist!\")"
   ]
  },
  {
   "cell_type": "code",
   "execution_count": 247,
   "metadata": {},
   "outputs": [
    {
     "name": "stdout",
     "output_type": "stream",
     "text": [
      "First 5 observations from the data : \n",
      "   id  label                                              tweet\n",
      "0   1      0   @user when a father is dysfunctional and is s...\n",
      "1   2      0  @user @user thanks for #lyft credit i can't us...\n",
      "2   3      0                                bihday your majesty\n",
      "3   4      0  #model   i love u take with u all the time in ...\n",
      "4   5      0             factsguide: society now    #motivation\n"
     ]
    }
   ],
   "source": [
    "print(\"First 5 observations from the data : \")\n",
    "print(data.head())"
   ]
  },
  {
   "cell_type": "code",
   "execution_count": 248,
   "metadata": {},
   "outputs": [
    {
     "data": {
      "text/plain": [
       "(31962, 3)"
      ]
     },
     "execution_count": 248,
     "metadata": {},
     "output_type": "execute_result"
    }
   ],
   "source": [
    "data.shape"
   ]
  },
  {
   "cell_type": "markdown",
   "metadata": {},
   "source": [
    "Here, 31962 is the number of observations data set, and 3 is the number of columns in the data set."
   ]
  },
  {
   "cell_type": "code",
   "execution_count": 146,
   "metadata": {},
   "outputs": [],
   "source": [
    "data.to_csv('CSVs/01_original_data.csv')"
   ]
  },
  {
   "cell_type": "markdown",
   "metadata": {
    "_uuid": "90a1e47a1f5bda41ee89ab644b0fd7c2e0a1aabc"
   },
   "source": [
    "### Hashtags\n",
    "The graph shows normal tweets. Check the top 20 most used hashtags and plot them according to their frequency.\n",
    "- Following is the graphical representation for the most occurred hashtags in data with positive sentiment.\n",
    "- __Hashtag__ : A word or phrase preceded by a hash sign (#), used on social media websites and applications, especially Twitter, to identify messages on a specific topic."
   ]
  },
  {
   "cell_type": "code",
   "execution_count": 147,
   "metadata": {
    "_uuid": "350721643bb4ff356dda8632b7ec9e0dcffaef3d"
   },
   "outputs": [],
   "source": [
    "#Select all words from normal tweet\n",
    "normal_words = ' '.join([word for word in data['tweet'][data['label'] == 0]])\n",
    "#Collect all hashtags\n",
    "pos_htag = [htag for htag in normal_words.split() if htag.startswith('#')]\n",
    "#Remove hashtag symbol (#)\n",
    "pos_htag = [pos_htag[i][1:] for i in range(len(pos_htag))]\n",
    "#Count frequency of each word\n",
    "pos_htag_freqcount = nltk.FreqDist(pos_htag)\n",
    "pos_htag_df = pd.DataFrame({'Hashtag' : list(pos_htag_freqcount.keys()),\n",
    "                            'Count' : list(pos_htag_freqcount.values())})"
   ]
  },
  {
   "cell_type": "code",
   "execution_count": 148,
   "metadata": {
    "_uuid": "018c93071768685990def7f74ae288bd238f979e"
   },
   "outputs": [
    {
     "data": {
      "text/plain": [
       "[Text(0, 0.5, 'Count')]"
      ]
     },
     "execution_count": 148,
     "metadata": {},
     "output_type": "execute_result"
    },
    {
     "data": {
      "image/png": "[encoded data removed]",
      "text/plain": [
       "<Figure size 1080x360 with 1 Axes>"
      ]
     },
     "metadata": {},
     "output_type": "display_data"
    }
   ],
   "source": [
    "#Select top 20 most frequent hashtags and plot them \n",
    "most_frequent = pos_htag_df.nlargest(columns=\"Count\", n = 20) \n",
    "seaborn.set(rc={'figure.figsize':(15,5)})\n",
    "ax = seaborn.barplot( data=most_frequent, x= \"Hashtag\", y = \"Count\")\n",
    "ax.set(ylabel = 'Count')"
   ]
  },
  {
   "cell_type": "markdown",
   "metadata": {},
   "source": [
    "The graph shows negative tweets. In negative tweets, 20 hashtags that appeared the most are shown in graph.\n",
    "- Following is the graphical representation for the most occurred hashtags in data with negative sentiment.\n",
    "\n",
    "\n"
   ]
  },
  {
   "cell_type": "code",
   "execution_count": 149,
   "metadata": {
    "_uuid": "a50731fa0c6dd78f37276f7b9dab578c7374d463"
   },
   "outputs": [],
   "source": [
    "#Repeat same steps for negative tweets\n",
    "negative_words = ' '.join([word for word in data['tweet'][data['label'] == 1]])\n",
    "neg_htag = [htag for htag in negative_words.split() if htag.startswith('#')]\n",
    "neg_htag = [neg_htag[i][1:] for i in range(len(neg_htag))]\n",
    "neg_htag_freqcount = nltk.FreqDist(neg_htag)\n",
    "neg_htag_df = pd.DataFrame({'Hashtag' : list(neg_htag_freqcount.keys()),\n",
    "                            'Count' : list(neg_htag_freqcount.values())})"
   ]
  },
  {
   "cell_type": "code",
   "execution_count": 150,
   "metadata": {
    "_uuid": "c6dd897bfb0be4b836f37f6df3b391cc561e9213"
   },
   "outputs": [
    {
     "data": {
      "image/png": "[encoded data removed]",
      "text/plain": [
       "<Figure size 1080x360 with 1 Axes>"
      ]
     },
     "metadata": {},
     "output_type": "display_data"
    }
   ],
   "source": [
    "most_frequent = neg_htag_df.nlargest(columns=\"Count\", n = 20) \n",
    "seaborn.set(rc={'figure.figsize':(15,5)})\n",
    "ax = seaborn.barplot(data=most_frequent, x= \"Hashtag\", y = \"Count\")\n"
   ]
  },
  {
   "cell_type": "markdown",
   "metadata": {
    "_uuid": "9a8176d7edcd0189735892a03fa02400aa2b51ff"
   },
   "source": [
    "- From both plots, we can conclude that hashtags are very important for sentiment analysis and should not be ignored.\n",
    "- Words used like love, friend, happy are used in positive tweets whereas negative can be found in words like trump, black, politics, etc."
   ]
  },
  {
   "cell_type": "markdown",
   "metadata": {},
   "source": [
    "## Step 3 : Data cleaning and Preprocessing"
   ]
  },
  {
   "cell_type": "markdown",
   "metadata": {},
   "source": [
    "### __Lemmating__ and __Tokenization__\n",
    "\n",
    "In data cleaning, we remove the unwanted contents from data so that we can get better accuracy. \n",
    "Here we are converting each word in its root form. Some times we want our program to recognize that the words “register” and “registration” are just different tenses of the same verb, like for example, we have two questions \"How do I register for BridgeLabz?\" and \"What is the registration processing for BridgeLabz?\". Here we want our program to know that registration and register are the same so their answers are also the same, and that's the reason why we lemmatize.\n",
    "\n",
    "* First we'll tokenize each word from the dataset.\n",
    "- __Tokenizing__ : This breaks up the strings into a list of words or pieces based on a specified pattern using Regular Expressions aka RegEx. \n",
    "- eg : white brown fox = ‘white’, ‘brown’, ’fox’\n",
    "\n",
    "* After we tokenize, we will start cleaning up the tokens by Lemmatizing. \n",
    "- __Lemmatizing__ : Lemmatizing is the process of converting a word into its root form.\n",
    "- e.g., \"Playing\", \"Played\" = \"play\"."
   ]
  },
  {
   "cell_type": "code",
   "execution_count": 193,
   "metadata": {},
   "outputs": [],
   "source": [
    "def lemmatizeation(data):\n",
    "\n",
    "    stop_words = set(nltk.corpus.stopwords.words('english'))\n",
    "\n",
    "    lemma_function = nltk.stem.wordnet.WordNetLemmatizer()\n",
    "    \n",
    "    tokenizer = nltk.tokenize.TweetTokenizer()\n",
    "    sentence = []\n",
    "    for text in data:\n",
    "        lemma = []\n",
    "        text = ' '.join(re.sub(\"(@[A-Za-z0-9]+)\",\" \",a).split())\n",
    "        tokens = tokenizer.tokenize(text) \n",
    "        for token in tokens:\n",
    "            if token not in stop_words:\n",
    "                lemma.append(lemma_function.lemmatize(token))\n",
    "        sentence.append(\" \".join(lemma))\n",
    "\n",
    "    return sentence"
   ]
  },
  {
   "cell_type": "code",
   "execution_count": 194,
   "metadata": {},
   "outputs": [],
   "source": [
    "cleaned_tweet = lemmatizeation(list(data['tweet']))"
   ]
  },
  {
   "cell_type": "markdown",
   "metadata": {},
   "source": [
    "- Add the cleaned data to the data frame."
   ]
  },
  {
   "cell_type": "code",
   "execution_count": 249,
   "metadata": {},
   "outputs": [],
   "source": [
    "data['cleaned_tweet'] = cleaned_tweet"
   ]
  },
  {
   "cell_type": "code",
   "execution_count": 250,
   "metadata": {},
   "outputs": [
    {
     "name": "stdout",
     "output_type": "stream",
     "text": [
      "Original tweet ::\n",
      "   @user @user thanks for #lyft credit i can't use cause they don't offer wheelchair vans in pdx.    #disapointed #getthanked\n",
      "==========================================================================================\n",
      "Cleaned tweet ::\n",
      "   thanks #lyft can't use cause offer wheelchair van pdx #disapointed #getthanked\n"
     ]
    }
   ],
   "source": [
    "print(\"Original tweet ::\\n  \",data['tweet'].iloc[1])\n",
    "print('='*90)\n",
    "print(\"Cleaned tweet ::\\n  \",data['cleaned_tweet'].iloc[1])"
   ]
  },
  {
   "cell_type": "markdown",
   "metadata": {},
   "source": [
    "## Step 3: Split data into train and test datasets\n",
    "- Now our data is ready to feed to the program. But here we'll split the data into train and test dataset so that after training the model we can test the model on the test dataset and find out how accurate our model is.\n",
    "* Here we are spliting the data so that the training dataset contains 80% of the data and test dataset contains 20% of the total data.\n",
    "* __test_size__ : Here we specify the size we want for our test dataset.\n",
    "* __random_state__ : When we use a random number generator for number or sequence generation, we give a  starting number (AKA seed). When we provide the same seed, every time it’ll generate the same sequence as the first one. That’s why to keep the same random values every time, we give seed as random_state in train_test_split(). "
   ]
  },
  {
   "cell_type": "code",
   "execution_count": 251,
   "metadata": {
    "_uuid": "8582542c7c3a554f86272e4e888749558ab5a3a3"
   },
   "outputs": [],
   "source": [
    "feature_train, feature_test, label_train, label_test = sklearn.model_selection.train_test_split(data['cleaned_tweet'], \n",
    "                                                                                                    data['label'], \n",
    "                                                                                                    random_state = 42,\n",
    "                                                                                                    test_size = 0.2)"
   ]
  },
  {
   "cell_type": "markdown",
   "metadata": {},
   "source": [
    "After splitting, the size of the train and test data sets are:"
   ]
  },
  {
   "cell_type": "code",
   "execution_count": 200,
   "metadata": {},
   "outputs": [
    {
     "name": "stdout",
     "output_type": "stream",
     "text": [
      "+---------------+----------+\n",
      "|     Name      |  Shape   |\n",
      "+===============+==========+\n",
      "| feature_train | (25569,) |\n",
      "+---------------+----------+\n",
      "| feature_test  | (6393,)  |\n",
      "+---------------+----------+\n",
      "| label_train   | (25569,) |\n",
      "+---------------+----------+\n",
      "| label_test    | (6393,)  |\n",
      "+---------------+----------+\n"
     ]
    }
   ],
   "source": [
    "# print(\"Size of features for train : \", train_features.shape)\n",
    "# print(\"Size of labels for train : \", train_labels.shape)\n",
    "# print(\"Size of features for test : \", test_features.shape)\n",
    "# print(\"Size of labels for test : \", test_labels.shape)\n",
    "def display_shapes():\n",
    "    tab = tt.Texttable()\n",
    "    namespace = globals()\n",
    "    headings = ['Name','Shape']\n",
    "    variable_names = ['feature_train', 'feature_test', 'label_train', 'label_test']\n",
    "    tab.header(headings)\n",
    "    for name in variable_names:\n",
    "        tab.add_row([name, eval(name).shape])\n",
    "    return print(tab.draw())\n",
    "\n",
    "display_shapes()"
   ]
  },
  {
   "cell_type": "code",
   "execution_count": 201,
   "metadata": {},
   "outputs": [],
   "source": [
    "train_features.to_csv('CSVs/02.1_train_features.csv')\n",
    "train_labels.to_csv('CSVs/02.2_train_labels.csv')\n",
    "test_features.to_csv('CSVs/02.3_test_features.csv')\n",
    "test_labels.to_csv('CSVs/02.4_test_labels.csv')"
   ]
  },
  {
   "cell_type": "markdown",
   "metadata": {},
   "source": [
    "# Step 4 : Model Creation"
   ]
  },
  {
   "cell_type": "markdown",
   "metadata": {
    "_uuid": "84f426e28891e0a03d8b10a94fe3a896f240819b"
   },
   "source": [
    "## Applying Bag-of-Words\n",
    "\n",
    " - Bag of words is nothing but a collection of all the unique words along with its number of occurrences in our dataset. It is AKA Corpus.\n",
    " - As the machine can't understand text data, we need to convert it in numeric form. So we count the occurrence of each word and save it. This is our bag of words.\n",
    " - __Approaches build Bag of Words__:\n",
    "     - 1. Count Occurrence:\n",
    "     - 2. TF-IDF"
   ]
  },
  {
   "cell_type": "markdown",
   "metadata": {
    "_uuid": "f5146351649030c32e49a28c8f90925b020e4cf3"
   },
   "source": [
    "# __CountVectorizer__\n",
    "Counting word occurrence. The reason behind using this approach is that keyword or important signal will occur again and again. So if the number of occurrences represents the importance of the word. More frequency means more importance."
   ]
  },
  {
   "cell_type": "code",
   "execution_count": 252,
   "metadata": {
    "_uuid": "ec38f8465b508e95533030f356ca5115c2c34a35"
   },
   "outputs": [
    {
     "name": "stdout",
     "output_type": "stream",
     "text": [
      "Total Features = 34687\n"
     ]
    }
   ],
   "source": [
    "cv = sklearn.feature_extraction.text.CountVectorizer()\n",
    "cv.fit(train_features)\n",
    "test_features_vectorized = cv.transform(test_features)\n",
    "print('Total Features =', len(cv.get_feature_names()))\n",
    "train_features_vectorized = cv.transform(train_features)"
   ]
  },
  {
   "cell_type": "code",
   "execution_count": 253,
   "metadata": {},
   "outputs": [
    {
     "data": {
      "text/plain": [
       "(<6393x34687 sparse matrix of type '<class 'numpy.int64'>'\n",
       " \twith 45842 stored elements in Compressed Sparse Row format>,\n",
       " <25569x34687 sparse matrix of type '<class 'numpy.int64'>'\n",
       " \twith 203140 stored elements in Compressed Sparse Row format>)"
      ]
     },
     "execution_count": 253,
     "metadata": {},
     "output_type": "execute_result"
    }
   ],
   "source": [
    "test_features_vectorized, train_features_vectorized"
   ]
  },
  {
   "cell_type": "code",
   "execution_count": 254,
   "metadata": {},
   "outputs": [],
   "source": [
    "pd.DataFrame([cv.vocabulary_]).T.to_csv('CSVs/03_Vocabulary.csv')"
   ]
  },
  {
   "cell_type": "markdown",
   "metadata": {},
   "source": [
    "- Here we are going to apply two algorithms on our data\n",
    "- Logistic regression the simplest classification algorithm and one of the most efficient algorithms."
   ]
  },
  {
   "cell_type": "markdown",
   "metadata": {
    "_uuid": "f5acf6d41ce735a4c80244f860f170fee1a0de5c"
   },
   "source": [
    "## __Logistic Regression__"
   ]
  },
  {
   "cell_type": "code",
   "execution_count": 205,
   "metadata": {
    "_uuid": "6a49787843f896f2e33d2079518e91cd072068d6"
   },
   "outputs": [
    {
     "data": {
      "text/plain": [
       "LogisticRegression(C=1.0, class_weight=None, dual=False, fit_intercept=True,\n",
       "                   intercept_scaling=1, l1_ratio=None, max_iter=100,\n",
       "                   multi_class='warn', n_jobs=None, penalty='l2',\n",
       "                   random_state=None, solver='warn', tol=0.0001, verbose=0,\n",
       "                   warm_start=False)"
      ]
     },
     "execution_count": 205,
     "metadata": {},
     "output_type": "execute_result"
    }
   ],
   "source": [
    "logistic_model_cv = sklearn.linear_model.LogisticRegression()\n",
    "logistic_model_cv.fit(train_features_vectorized, train_labels)"
   ]
  },
  {
   "cell_type": "markdown",
   "metadata": {},
   "source": [
    "### Predict using our model"
   ]
  },
  {
   "cell_type": "code",
   "execution_count": 206,
   "metadata": {},
   "outputs": [],
   "source": [
    "pred = logistic_model_cv.predict(test_features_vectorized)"
   ]
  },
  {
   "cell_type": "code",
   "execution_count": 207,
   "metadata": {},
   "outputs": [
    {
     "name": "stdout",
     "output_type": "stream",
     "text": [
      "Accuracy_score : 0.9593305177537932\n"
     ]
    }
   ],
   "source": [
    "print('Accuracy_score :', sklearn.metrics.accuracy_score(test_labels, pred))"
   ]
  },
  {
   "cell_type": "markdown",
   "metadata": {},
   "source": [
    "- ### Confusion matrix:\n",
    "Now, up to here we have done data cleaning, pre-processing, feed it to the algorithm, got our outputs with 96% accuracy, but what about effectiveness of our model. Better the effectiveness, better the performance and that are exactly what we want. So to check the effectiveness of our model we need to check all the predictions and compare them. Here confusing matrix comes in the picture. Confusion Matrix is a performance measurement for machine learning classification. "
   ]
  },
  {
   "cell_type": "code",
   "execution_count": 208,
   "metadata": {},
   "outputs": [
    {
     "data": {
      "text/plain": [
       "array([[5895,   42],\n",
       "       [ 218,  238]])"
      ]
     },
     "execution_count": 208,
     "metadata": {},
     "output_type": "execute_result"
    }
   ],
   "source": [
    "sklearn.metrics.confusion_matrix(test_labels, pred)"
   ]
  },
  {
   "cell_type": "markdown",
   "metadata": {},
   "source": [
    "- __Recall__ : Out of all the positive classes, how much we predicted correctly. It should be high   as possible."
   ]
  },
  {
   "cell_type": "code",
   "execution_count": 209,
   "metadata": {},
   "outputs": [
    {
     "data": {
      "image/png": "[encoded data removed]",
      "text/plain": [
       "<IPython.core.display.Image object>"
      ]
     },
     "execution_count": 209,
     "metadata": {},
     "output_type": "execute_result"
    }
   ],
   "source": [
    "IPython.display.Image(\"images/recall.png\")"
   ]
  },
  {
   "cell_type": "markdown",
   "metadata": {},
   "source": [
    "- __Precision__ : Out of all the positive classes we have predicted correctly, how many are actually positive."
   ]
  },
  {
   "cell_type": "code",
   "execution_count": 210,
   "metadata": {},
   "outputs": [
    {
     "data": {
      "image/png": "[encoded data removed]",
      "text/plain": [
       "<IPython.core.display.Image object>"
      ]
     },
     "execution_count": 210,
     "metadata": {},
     "output_type": "execute_result"
    }
   ],
   "source": [
    "IPython.display.Image(\"images/precision.png\")"
   ]
  },
  {
   "cell_type": "markdown",
   "metadata": {},
   "source": [
    "- __F1_measure__ : It is difficult to compare two models with low precision and high recall or vice versa. So to make them comparable, we use F-Score. F-score helps to measure Recall and Precision at the same time. "
   ]
  },
  {
   "cell_type": "code",
   "execution_count": 211,
   "metadata": {},
   "outputs": [
    {
     "data": {
      "image/png": "[encoded data removed]",
      "text/plain": [
       "<IPython.core.display.Image object>"
      ]
     },
     "execution_count": 211,
     "metadata": {},
     "output_type": "execute_result"
    }
   ],
   "source": [
    "IPython.display.Image(\"images/f1_score.png\")"
   ]
  },
  {
   "cell_type": "code",
   "execution_count": 230,
   "metadata": {},
   "outputs": [
    {
     "name": "stdout",
     "output_type": "stream",
     "text": [
      "F1 : 0.6438356164383562\n"
     ]
    }
   ],
   "source": [
    "f1_score_logistic_cv = sklearn.metrics.f1_score(test_labels, pred)\n",
    "print('F1 :', f1_score_logistic_cv)"
   ]
  },
  {
   "cell_type": "markdown",
   "metadata": {},
   "source": [
    "- ### Confusion Matrix :"
   ]
  },
  {
   "cell_type": "code",
   "execution_count": 213,
   "metadata": {},
   "outputs": [
    {
     "data": {
      "text/plain": [
       "array([[5895,   42],\n",
       "       [ 218,  238]])"
      ]
     },
     "execution_count": 213,
     "metadata": {},
     "output_type": "execute_result"
    }
   ],
   "source": [
    "sklearn.metrics.confusion_matrix(test_labels, pred)"
   ]
  },
  {
   "cell_type": "markdown",
   "metadata": {},
   "source": [
    "- ### Save model for Logistic regrssion:"
   ]
  },
  {
   "cell_type": "code",
   "execution_count": 214,
   "metadata": {},
   "outputs": [],
   "source": [
    "with open('model/count_vectorizer/logistic_model.pkl', 'wb') as file:\n",
    "    pickle.dump(cv, file)\n",
    "    pickle.dump(logistic_model_cv, file)"
   ]
  },
  {
   "cell_type": "markdown",
   "metadata": {},
   "source": [
    "## __SVM__"
   ]
  },
  {
   "cell_type": "code",
   "execution_count": 215,
   "metadata": {},
   "outputs": [
    {
     "data": {
      "text/plain": [
       "SVC(C=1.0, cache_size=200, class_weight=None, coef0=0.0,\n",
       "    decision_function_shape='ovr', degree=3, gamma='auto', kernel='linear',\n",
       "    max_iter=-1, probability=False, random_state=None, shrinking=True,\n",
       "    tol=0.001, verbose=False)"
      ]
     },
     "execution_count": 215,
     "metadata": {},
     "output_type": "execute_result"
    }
   ],
   "source": [
    "SVM_cv = sklearn.svm.SVC(C=1.0, kernel='linear', degree=3, gamma='auto')\n",
    "SVM_cv.fit(train_features_vectorized, train_labels)"
   ]
  },
  {
   "cell_type": "markdown",
   "metadata": {},
   "source": [
    "- ### Predict values using our model:\n",
    "    - Here we'll make predictions on vectorized test features"
   ]
  },
  {
   "cell_type": "code",
   "execution_count": 216,
   "metadata": {},
   "outputs": [],
   "source": [
    "pred = SVM_cv.predict(test_features_vectorized)"
   ]
  },
  {
   "cell_type": "markdown",
   "metadata": {},
   "source": [
    "- ### Calculate f1 score\n",
    "     - F-score helps to measure test's accuracy for classification type of problems"
   ]
  },
  {
   "cell_type": "code",
   "execution_count": 232,
   "metadata": {},
   "outputs": [
    {
     "name": "stdout",
     "output_type": "stream",
     "text": [
      "F1 : 0.6438356164383562\n"
     ]
    }
   ],
   "source": [
    "f1_score_svm_cv = sklearn.metrics.f1_score(test_labels, pred)\n",
    "print('F1 :', f1_score_svm_cv)"
   ]
  },
  {
   "cell_type": "markdown",
   "metadata": {},
   "source": [
    "- ### Confusing Matrix"
   ]
  },
  {
   "cell_type": "code",
   "execution_count": 255,
   "metadata": {},
   "outputs": [
    {
     "data": {
      "text/plain": [
       "array([[5898,   39],\n",
       "       [ 221,  235]])"
      ]
     },
     "execution_count": 255,
     "metadata": {},
     "output_type": "execute_result"
    }
   ],
   "source": [
    "sklearn.metrics.confusion_matrix(test_labels, pred)"
   ]
  },
  {
   "cell_type": "markdown",
   "metadata": {},
   "source": [
    "- ### Save model for SVM:"
   ]
  },
  {
   "cell_type": "code",
   "execution_count": 219,
   "metadata": {},
   "outputs": [],
   "source": [
    "with open('model/count_vectorizer/svm_model.pkl', 'wb') as file:\n",
    "    pickle.dump(cv, file)\n",
    "    pickle.dump(SVM_cv, file)"
   ]
  },
  {
   "cell_type": "markdown",
   "metadata": {
    "_uuid": "596e7b8005aa0afb57fea55e0def7fc793946189"
   },
   "source": [
    "Logistic Regression performed well then Naive Bayes for the default parameters. Thus, we will be using only Logistic Regression ahead."
   ]
  },
  {
   "cell_type": "markdown",
   "metadata": {
    "_uuid": "803004ff4379e5e419e63217bfa6e023aa6b7c71"
   },
   "source": [
    "# __Tfidf__\n",
    "\n",
    "- TF-IDF take another approach which is believe that high frequency may not able to provide much information gain. In another word, rare words contribute more weights to the model.\n",
    "- Word importance will be increased if the number of occurrence within same document (i.e. training record). On the other hand, it will be decreased if it occurs in corpus (i.e. other training records).\n",
    "- In simple words it removes the stopwords and stores the important words which might be used less but gives us more better features and stores the frequency of the words."
   ]
  },
  {
   "cell_type": "markdown",
   "metadata": {},
   "source": [
    "# __WHICH ONE TO KEEP__"
   ]
  },
  {
   "cell_type": "markdown",
   "metadata": {},
   "source": [
    "- This is another method which is based on the frequency method but it is different to the bag-of-words approach in the sense that it takes into account, not just the occurrence of a word in a single document (or tweet) but in the entire corpus.\n",
    "\n",
    "- TF-IDF works by penalizing the common words by assigning them lower weights while giving importance to words which are rare in the entire corpus but appear in good numbers in few documents.\n",
    "\n",
    "- Let’s have a look at the important terms related to TF-IDF:\n",
    "\n",
    "    - TF = (Number of times term t appears in a document)/(Number of terms in the document)\n",
    "    - IDF = log(N/n), where, N is the number of documents and n is the number of documents a               term t has appeared in.\n",
    "    - TF-IDF = TF*IDF"
   ]
  },
  {
   "cell_type": "code",
   "execution_count": 220,
   "metadata": {
    "_uuid": "c0929c79069eaedde4a0a87adea99d541d80c98b"
   },
   "outputs": [
    {
     "name": "stdout",
     "output_type": "stream",
     "text": [
      "Total Features = 34687\n"
     ]
    }
   ],
   "source": [
    "# Fit the TfidfVectorizer to the training data specifiying a minimum document frequency of 5\n",
    "tf = sklearn.feature_extraction.text.TfidfVectorizer()\n",
    "tf.fit(train_features)\n",
    "test_features_vectorized = tf.transform(test_features)\n",
    "print('Total Features =', len(tf.get_feature_names()))\n",
    "train_features_vectorized = tf.transform(train_features)"
   ]
  },
  {
   "cell_type": "markdown",
   "metadata": {},
   "source": [
    "## __Logistic Regression__"
   ]
  },
  {
   "cell_type": "code",
   "execution_count": 221,
   "metadata": {},
   "outputs": [
    {
     "data": {
      "text/plain": [
       "LogisticRegression(C=1.0, class_weight=None, dual=False, fit_intercept=True,\n",
       "                   intercept_scaling=1, l1_ratio=None, max_iter=100,\n",
       "                   multi_class='warn', n_jobs=None, penalty='l2',\n",
       "                   random_state=None, solver='warn', tol=0.0001, verbose=0,\n",
       "                   warm_start=False)"
      ]
     },
     "execution_count": 221,
     "metadata": {},
     "output_type": "execute_result"
    }
   ],
   "source": [
    "logistic_model_tf = sklearn.linear_model.LogisticRegression()\n",
    "logistic_model_tf.fit(train_features_vectorized, train_labels)"
   ]
  },
  {
   "cell_type": "markdown",
   "metadata": {},
   "source": [
    "- ### Predict values using our model:\n",
    "- Here we'll make predictions on vectorized test features"
   ]
  },
  {
   "cell_type": "code",
   "execution_count": 222,
   "metadata": {},
   "outputs": [],
   "source": [
    "pred = logistic_model_tf.predict(test_features_vectorized)"
   ]
  },
  {
   "cell_type": "markdown",
   "metadata": {},
   "source": [
    "- ### Calculate f1 score\n",
    " F-score helps to measure test's accuracy for classification type of problems"
   ]
  },
  {
   "cell_type": "code",
   "execution_count": 233,
   "metadata": {},
   "outputs": [
    {
     "name": "stdout",
     "output_type": "stream",
     "text": [
      "F1 : 0.6438356164383562\n"
     ]
    }
   ],
   "source": [
    "f1_score_logistic_tfidf = sklearn.metrics.f1_score(test_labels, pred)\n",
    "print('F1 :', f1_score_logistic_tfidf)"
   ]
  },
  {
   "cell_type": "markdown",
   "metadata": {},
   "source": [
    "- ### Confusion Matrix"
   ]
  },
  {
   "cell_type": "code",
   "execution_count": 224,
   "metadata": {},
   "outputs": [
    {
     "data": {
      "text/plain": [
       "array([[5922,   15],\n",
       "       [ 317,  139]])"
      ]
     },
     "execution_count": 224,
     "metadata": {},
     "output_type": "execute_result"
    }
   ],
   "source": [
    "sklearn.metrics.confusion_matrix(test_labels, pred)"
   ]
  },
  {
   "cell_type": "markdown",
   "metadata": {},
   "source": [
    "- ### Save model for SVM:"
   ]
  },
  {
   "cell_type": "code",
   "execution_count": 225,
   "metadata": {},
   "outputs": [],
   "source": [
    "with open('model/TF-IDF/logistic_model.pkl', 'wb') as file:\n",
    "    pickle.dump(cv, file)\n",
    "    pickle.dump(logistic_model_tf, file)"
   ]
  },
  {
   "cell_type": "markdown",
   "metadata": {},
   "source": [
    "## __SVM__"
   ]
  },
  {
   "cell_type": "code",
   "execution_count": 226,
   "metadata": {},
   "outputs": [
    {
     "data": {
      "text/plain": [
       "SVC(C=1.0, cache_size=200, class_weight=None, coef0=0.0,\n",
       "    decision_function_shape='ovr', degree=3, gamma='auto', kernel='linear',\n",
       "    max_iter=-1, probability=False, random_state=None, shrinking=True,\n",
       "    tol=0.001, verbose=False)"
      ]
     },
     "execution_count": 226,
     "metadata": {},
     "output_type": "execute_result"
    }
   ],
   "source": [
    "SVM_tf = sklearn.svm.SVC(C=1.0, kernel='linear', degree=3, gamma='auto')\n",
    "SVM_tf.fit(train_features_vectorized, train_labels)"
   ]
  },
  {
   "cell_type": "markdown",
   "metadata": {},
   "source": [
    "- ### Predict values usin our model:\n",
    "    - Here we'll make predictions on vectorized test features"
   ]
  },
  {
   "cell_type": "code",
   "execution_count": 227,
   "metadata": {},
   "outputs": [],
   "source": [
    "pred = SVM_tf.predict(test_features_vectorized)"
   ]
  },
  {
   "cell_type": "markdown",
   "metadata": {},
   "source": [
    "- ### Calculate f1 score\n",
    "     - F-score helps to measure test's accuracy for classification type of problems"
   ]
  },
  {
   "cell_type": "code",
   "execution_count": 234,
   "metadata": {},
   "outputs": [
    {
     "name": "stdout",
     "output_type": "stream",
     "text": [
      "F1 : 0.6438356164383562\n"
     ]
    }
   ],
   "source": [
    "f1_score_svm_tfidf = sklearn.metrics.f1_score(test_labels, pred)\n",
    "print('F1 :', f1_score_svm_tfidf)"
   ]
  },
  {
   "cell_type": "markdown",
   "metadata": {},
   "source": [
    "- ### Confusion Matrix"
   ]
  },
  {
   "cell_type": "code",
   "execution_count": 229,
   "metadata": {},
   "outputs": [
    {
     "data": {
      "text/plain": [
       "array([[5898,   39],\n",
       "       [ 221,  235]])"
      ]
     },
     "execution_count": 229,
     "metadata": {},
     "output_type": "execute_result"
    }
   ],
   "source": [
    "sklearn.metrics.confusion_matrix(test_labels, pred)"
   ]
  },
  {
   "cell_type": "markdown",
   "metadata": {},
   "source": [
    "- ### Save model for SVM:"
   ]
  },
  {
   "cell_type": "code",
   "execution_count": 182,
   "metadata": {},
   "outputs": [],
   "source": [
    "with open('model/TF-IDF/svm_model.pkl', 'wb') as file:\n",
    "    pickle.dump(cv, file)\n",
    "    pickle.dump(SVM_tf, file)"
   ]
  },
  {
   "cell_type": "markdown",
   "metadata": {},
   "source": [
    "## Compare f1 score for all the algorithms"
   ]
  },
  {
   "cell_type": "code",
   "execution_count": 245,
   "metadata": {},
   "outputs": [
    {
     "name": "stdout",
     "output_type": "stream",
     "text": [
      "+----------------+----------+\n",
      "|   Algorithm    | f1_score |\n",
      "+================+==========+\n",
      "| logistic cv    | 0.644    |\n",
      "+----------------+----------+\n",
      "| svm cv         | 0.644    |\n",
      "+----------------+----------+\n",
      "| logistic tfidf | 0.644    |\n",
      "+----------------+----------+\n",
      "| svm tfidf      | 0.644    |\n",
      "+----------------+----------+\n"
     ]
    }
   ],
   "source": [
    "def compare_f1_score():\n",
    "    tab = tt.Texttable()\n",
    "    headings = ['Algorithm','f1_score']\n",
    "    variable_names = ['f1_score_logistic_cv', 'f1_score_svm_cv', 'f1_score_logistic_tfidf', 'f1_score_svm_tfidf']\n",
    "    tab.header(headings)\n",
    "\n",
    "    for name in variable_names:\n",
    "        algorithm = name.split('_')[2] + \" \" + name.split('_')[3]\n",
    "        tab.add_row([algorithm, eval(name)])\n",
    "    return print(tab.draw())\n",
    "\n",
    "compare_f1_score()"
   ]
  }
 ],
 "metadata": {
  "kernelspec": {
   "display_name": "Python 3",
   "language": "python",
   "name": "python3"
  },
  "language_info": {
   "codemirror_mode": {
    "name": "ipython",
    "version": 3
   },
   "file_extension": ".py",
   "mimetype": "text/x-python",
   "name": "python",
   "nbconvert_exporter": "python",
   "pygments_lexer": "ipython3",
   "version": "3.7.4"
  }
 },
 "nbformat": 4,
 "nbformat_minor": 4
}
