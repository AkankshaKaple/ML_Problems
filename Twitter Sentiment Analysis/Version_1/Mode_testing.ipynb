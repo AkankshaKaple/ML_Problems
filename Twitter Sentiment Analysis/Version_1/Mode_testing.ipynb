{
 "cells": [
  {
   "cell_type": "code",
   "execution_count": 1,
   "metadata": {},
   "outputs": [],
   "source": [
    "import pickle\n",
    "import nltk\n",
    "with open('model.pkl','rb') as file:\n",
    "    cv = pickle.load(file)\n",
    "    loaded_model = pickle.load(file)"
   ]
  },
  {
   "cell_type": "code",
   "execution_count": 2,
   "metadata": {},
   "outputs": [],
   "source": [
    "def lemmatizeation(data):\n",
    "\n",
    "    stop_words = set(nltk.corpus.stopwords.words('english'))\n",
    "\n",
    "    lemma_function = nltk.stem.wordnet.WordNetLemmatizer()\n",
    "\n",
    "    sentence = []\n",
    "    for text in data:\n",
    "        lemma = []\n",
    "        tokens = nltk.tokenize.regexp_tokenize(text, \"[#\\w']+\") \n",
    "        for token in tokens:\n",
    "            if (token not in stop_words) and (not token.startswith('@')):\n",
    "                lemma.append(lemma_function.lemmatize(token))\n",
    "\n",
    "        val = ' '\n",
    "        for word in lemma:\n",
    "            val = val + \" \"+word \n",
    "        sentence.append(val.strip())\n",
    "    return sentence "
   ]
  },
  {
   "cell_type": "code",
   "execution_count": null,
   "metadata": {},
   "outputs": [
    {
     "name": "stdout",
     "output_type": "stream",
     "text": [
      "status.text :  RT @RichardScribbl1: Just need to correct a few @lbc #brexit callers today:\n",
      "\n",
      "* We do not lose our veto under the Lisbon Treaty.\n",
      "\n",
      "* We can v…\n",
      "['RT RichardScribbl1 Just need correct lbc #brexit caller today We lose veto Lisbon Treaty We v']\n",
      "Negative\n",
      "status.text :  Me: * logging onto A recipe site*\n",
      "Need to find the ingredients then I can make supper.\n",
      "Site:You silly human..of cou… https://t.co/ji8Xaa7Wky\n",
      "['Me logging onto A recipe site Need find ingredient I make supper Site You silly human cou http co ji8Xaa7Wky']\n",
      "Negative\n",
      "status.text :  * Double click the .stl file or open it in Cura\n",
      "\n",
      "* Click the object on the virtual bed. Using the menu context opti… https://t.co/lyaRyPVJyw\n",
      "['Double click stl file open Cura Click object virtual bed Using menu context opti http co lyaRyPVJyw']\n",
      "Negative\n",
      "status.text :  RT @Detnox_nsfw: friend artist: * don't do commissions*\n",
      "\n",
      "me: https://t.co/Eq8id86dFw\n",
      "['RT Detnox_nsfw friend artist commission http co Eq8id86dFw']\n",
      "Negative\n"
     ]
    }
   ],
   "source": [
    "from tweepy import Stream\n",
    "from tweepy import OAuthHandler\n",
    "from tweepy.streaming import StreamListener\n",
    "import tweepy\n",
    "\n",
    "#consumer key, consumer secret, access token, access secret.\n",
    "consumer_key = \"hQKfYaPzWBEJCXNcEP32GUB00\"\n",
    "consumer_secret = \"ZaopszV0F1KMd949jIkI3Ek3jTDNzIIcVsS962oJzWVk7EVGzV\"\n",
    "access_key = \"978109606068211713-m6WqntZJ74sJOM1xiie55kvYPDg7EqI\"\n",
    "access_secret = \"jwkCJlf8NLHsNK8oMjRqpvwJNCj1RI4ml3xXKTIorci3q\"\n",
    "tweets = []\n",
    "\n",
    "class listener(StreamListener):\n",
    "\n",
    "    def on_data(self, data):\n",
    "        print('Data : ', data)\n",
    "        return(True)\n",
    "\n",
    "    def on_error(self, status):\n",
    "        print(\"status : \", status)\n",
    "\n",
    "auth = OAuthHandler(consumer_key, consumer_secret)\n",
    "auth.set_access_token(access_key, access_secret)\n",
    "\n",
    "api = tweepy.API(auth)\n",
    "class StreamListener(tweepy.StreamListener):\n",
    "    def on_status(self, status):\n",
    "        print(\"status.text : \",status.text)\n",
    "        cleaned_tweet = lemmatizeation([status.text])\n",
    "        print(cleaned_tweet)\n",
    "        x = cv.transform(cleaned_tweet)\n",
    "        if loaded_model.predict(x) == 1:\n",
    "            print('Negative')\n",
    "        else:\n",
    "            print(\"Positive\")\n",
    "        \n",
    "stream_listener = StreamListener()\n",
    "stream = tweepy.Stream(auth=api.auth, listener=stream_listener)\n",
    "stream.filter(track=['*'], languages = ['en'])"
   ]
  }
 ],
 "metadata": {
  "kernelspec": {
   "display_name": "Python 3",
   "language": "python",
   "name": "python3"
  },
  "language_info": {
   "codemirror_mode": {
    "name": "ipython",
    "version": 3
   },
   "file_extension": ".py",
   "mimetype": "text/x-python",
   "name": "python",
   "nbconvert_exporter": "python",
   "pygments_lexer": "ipython3",
   "version": "3.7.4"
  }
 },
 "nbformat": 4,
 "nbformat_minor": 4
}
