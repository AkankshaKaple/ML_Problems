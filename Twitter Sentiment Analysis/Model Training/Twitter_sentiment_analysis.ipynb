{
 "cells": [
  {
   "cell_type": "markdown",
   "metadata": {
    "_uuid": "40e3b533add5c85d66d7987325df519e90205f5c"
   },
   "source": [
    "## __Twitter Sentiment Analysis:__\n",
    "\n",
    "## Problem Statement: \n",
    "To understand the sentiment of a tweeter. Here we are going to train and develop a simple Twitter Sentiment Analysis supervised learning model using python and NLP libraries. This model will be able to detect the sentiment behind the given tweet.\n",
    "\n",
    "## Dataset: \n",
    "The data set contains a set of tweets which are labeled along with the sentiments. And this data we are going to user for training the model. Here we need to predict the sentiment for a given tweet.\n",
    "Here, in label \n",
    "* __label “0”: Positive Sentiment__ \n",
    "* __label “1”: Negative Sentiment__  "
   ]
  },
  {
   "cell_type": "markdown",
   "metadata": {},
   "source": [
    "## How are we going to predict whether a tweet is positive or negative based on the tweet?\n",
    "- Just like a child, we are going to train the model to differentiate between positive and negative words.\n",
    "- Here we'll train our model to know the difference between positive and negative context.\n",
    "- We will feed our model the set of positive and negative tweets. \n",
    "- Based on these tweets it will analyze that the combination of which words cause the senetence to be positive or negative.\n",
    "- And that's how it will train.\n",
    "- Application : Like in politics, the part can analyze how may people tweeted positively about which politician and to whom should they select to lead the campaign."
   ]
  },
  {
   "cell_type": "markdown",
   "metadata": {},
   "source": [
    "## <b>Step 1 </b>: Import all the required libraries "
   ]
  },
  {
   "cell_type": "markdown",
   "metadata": {},
   "source": [
    "* __nltk__ : Natural Language Tool Kit is a natural language processing library that contains packages to make machines understand human language and reply to it with an appropriate response.\n",
    "* __Pandas__ : For analysis and manipulation of data \n",
    "* __Sklearn__ : To easily handle machine learning operations\n",
    "* __Pickle__ : It is an object serializer and we are using it to save our model.\n",
    "* __Seaborn__ : For statistical data visualization.\n",
    "* __re__ : To use regular expressions"
   ]
  },
  {
   "cell_type": "code",
   "execution_count": 1,
   "metadata": {
    "_uuid": "1b77e64eeb8e12f930065e5c058aef60f4db39f4"
   },
   "outputs": [],
   "source": [
    "import pandas as pd\n",
    "import pickle\n",
    "import sklearn\n",
    "import nltk\n",
    "import re\n",
    "import seaborn\n",
    "import warnings  # To ignore warnings\n",
    "warnings.filterwarnings('ignore')"
   ]
  },
  {
   "cell_type": "markdown",
   "metadata": {},
   "source": [
    "## Step 2: Import datasets\n",
    "\n",
    "Read the data with pandas.\n",
    "* __twitter_data.csv__ : It contains tweets with its corresponding sentiment. We'll use this to train as well as test our model to predict the sentiment behind the tweet."
   ]
  },
  {
   "cell_type": "code",
   "execution_count": 4,
   "metadata": {
    "_uuid": "f0ecbffbb1689a2878fcc9f58ea5a8ef3a48b08b"
   },
   "outputs": [],
   "source": [
    "try:\n",
    "    data  = pd.read_csv(\"Data/twitter_data.csv\")\n",
    "except FileNotFoundError:\n",
    "    print(\"File does not exist!\")"
   ]
  },
  {
   "cell_type": "markdown",
   "metadata": {},
   "source": [
    "## __Data Exploration__:\n",
    "- To build a model, it is very important for us to understand the data we are dealing with.\n",
    "- We'll need to know what is going to be feature and label to train our model.\n",
    "- __Feature :__ Feature is nothing but the input we are going to provide.\n",
    "- __Label :__ Label is what we want as an output.\n",
    "- For our problem, feature is an image and label is the age.\n",
    "- For this let's see what do we have in the data"
   ]
  },
  {
   "cell_type": "code",
   "execution_count": 5,
   "metadata": {},
   "outputs": [
    {
     "name": "stdout",
     "output_type": "stream",
     "text": [
      "First 5 observations from the data : \n",
      "   id  label                                              tweet\n",
      "0   1      0   @user when a father is dysfunctional and is s...\n",
      "1   2      0  @user @user thanks for #lyft credit i can't us...\n",
      "2   3      0                                bihday your majesty\n",
      "3   4      0  #model   i love u take with u all the time in ...\n",
      "4   5      0             factsguide: society now    #motivation\n"
     ]
    }
   ],
   "source": [
    "print(\"First 5 observations from the data : \")\n",
    "print(data.head())"
   ]
  },
  {
   "cell_type": "markdown",
   "metadata": {},
   "source": [
    "- To see how much data we have i.e., number of rows AKA observations and number of columns."
   ]
  },
  {
   "cell_type": "code",
   "execution_count": 6,
   "metadata": {},
   "outputs": [
    {
     "name": "stdout",
     "output_type": "stream",
     "text": [
      "The shape of the data in matrix form :  (31962, 3)\n"
     ]
    }
   ],
   "source": [
    "print(\"The shape of the data in matrix form : \", data.shape)"
   ]
  },
  {
   "cell_type": "markdown",
   "metadata": {},
   "source": [
    "Here, 31962 is the number of observations data set, and 3 is the number of columns in the data set."
   ]
  },
  {
   "cell_type": "code",
   "execution_count": 7,
   "metadata": {},
   "outputs": [
    {
     "data": {
      "text/plain": [
       "<matplotlib.axes._subplots.AxesSubplot at 0x7effe111d150>"
      ]
     },
     "execution_count": 7,
     "metadata": {},
     "output_type": "execute_result"
    },
    {
     "data": {
      "image/png": "[encoded data removed]",
      "text/plain": [
       "<Figure size 432x288 with 1 Axes>"
      ]
     },
     "metadata": {
      "needs_background": "light"
     },
     "output_type": "display_data"
    }
   ],
   "source": [
    "seaborn.countplot(data.label)"
   ]
  },
  {
   "cell_type": "markdown",
   "metadata": {
    "_uuid": "90a1e47a1f5bda41ee89ab644b0fd7c2e0a1aabc"
   },
   "source": [
    "### Hashtags\n",
    "The graph shows normal tweets. Check the top 20 most used hashtags and plot them according to their frequency.\n",
    "- Following is the graphical representation for the most occurred hashtags in data with positive sentiment.\n",
    "- __Hashtag__ : A word or phrase preceded by a hash sign (#), used on social media websites and applications, especially Twitter, to identify messages on a specific topic."
   ]
  },
  {
   "cell_type": "code",
   "execution_count": 8,
   "metadata": {
    "_uuid": "350721643bb4ff356dda8632b7ec9e0dcffaef3d"
   },
   "outputs": [],
   "source": [
    "#Select all words from normal tweet\n",
    "normal_words = ' '.join([word for word in data['tweet'][data['label'] == 0]])\n",
    "#Collect all hashtags\n",
    "pos_htag = [htag for htag in normal_words.split() if htag.startswith('#')]\n",
    "#Remove hashtag symbol (#)\n",
    "pos_htag = [pos_htag[i][1:] for i in range(len(pos_htag))]\n",
    "#Count frequency of each word\n",
    "pos_htag_freqcount = nltk.FreqDist(pos_htag)\n",
    "pos_htag_df = pd.DataFrame({'Hashtag' : list(pos_htag_freqcount.keys()),\n",
    "                            'Count' : list(pos_htag_freqcount.values())})"
   ]
  },
  {
   "cell_type": "code",
   "execution_count": 9,
   "metadata": {
    "_uuid": "018c93071768685990def7f74ae288bd238f979e"
   },
   "outputs": [
    {
     "data": {
      "text/plain": [
       "[Text(0, 0.5, 'Count')]"
      ]
     },
     "execution_count": 9,
     "metadata": {},
     "output_type": "execute_result"
    },
    {
     "data": {
      "image/png": "[encoded data removed]",
      "text/plain": [
       "<Figure size 1080x360 with 1 Axes>"
      ]
     },
     "metadata": {},
     "output_type": "display_data"
    }
   ],
   "source": [
    "#Select top 20 most frequent hashtags and plot them \n",
    "most_frequent = pos_htag_df.nlargest(columns=\"Count\", n = 20) \n",
    "seaborn.set(rc={'figure.figsize':(15,5)})\n",
    "ax = seaborn.barplot( data=most_frequent, x= \"Hashtag\", y = \"Count\")\n",
    "ax.set(ylabel = 'Count')"
   ]
  },
  {
   "cell_type": "markdown",
   "metadata": {},
   "source": [
    "The graph shows negative tweets. In negative tweets, 20 hashtags that appeared the most are shown in graph.\n",
    "- Following is the graphical representation for the most occurred hashtags in data with negative sentiment.\n",
    "\n",
    "\n"
   ]
  },
  {
   "cell_type": "code",
   "execution_count": 10,
   "metadata": {
    "_uuid": "a50731fa0c6dd78f37276f7b9dab578c7374d463"
   },
   "outputs": [],
   "source": [
    "#Repeat same steps for negative tweets\n",
    "negative_words = ' '.join([word for word in data['tweet'][data['label'] == 1]])\n",
    "neg_htag = [htag for htag in negative_words.split() if htag.startswith('#')]\n",
    "neg_htag = [neg_htag[i][1:] for i in range(len(neg_htag))]\n",
    "neg_htag_freqcount = nltk.FreqDist(neg_htag)\n",
    "neg_htag_df = pd.DataFrame({'Hashtag' : list(neg_htag_freqcount.keys()),\n",
    "                            'Count' : list(neg_htag_freqcount.values())})"
   ]
  },
  {
   "cell_type": "code",
   "execution_count": 11,
   "metadata": {
    "_uuid": "c6dd897bfb0be4b836f37f6df3b391cc561e9213"
   },
   "outputs": [
    {
     "data": {
      "image/png": "[encoded data removed]",
      "text/plain": [
       "<Figure size 1080x360 with 1 Axes>"
      ]
     },
     "metadata": {},
     "output_type": "display_data"
    }
   ],
   "source": [
    "most_frequent = neg_htag_df.nlargest(columns=\"Count\", n = 20) \n",
    "seaborn.set(rc={'figure.figsize':(15,5)})\n",
    "ax = seaborn.barplot(data=most_frequent, x= \"Hashtag\", y = \"Count\")\n"
   ]
  },
  {
   "cell_type": "markdown",
   "metadata": {
    "_uuid": "9a8176d7edcd0189735892a03fa02400aa2b51ff"
   },
   "source": [
    "- From both plots, we can conclude that hashtags are very important for sentiment analysis and should not be ignored.\n",
    "- Words used like love, friend, happy are used in positive tweets whereas negative can be found in words like trump, black, politics, etc."
   ]
  },
  {
   "cell_type": "markdown",
   "metadata": {},
   "source": [
    "## Step 3 : Data cleaning and Preprocessing\n",
    "\n",
    "- In data cleaning, we remove the unwanted contents from data so that we can get better results. \n",
    "- Here we are going perform three things,\n",
    "    - Tokenization: First, we'll split each sentence into words\n",
    "    - Remove Stop Words: Then we'll remove stop words and any special characters\n",
    "    - Lemmatization: After this, we'll convert these words into their root form."
   ]
  },
  {
   "cell_type": "markdown",
   "metadata": {},
   "source": [
    "### __Tokenization and removing stopwords:__\n",
    "\n",
    "#### __Tokenizing__ : \n",
    "- This breaks up the strings into a list of words or pieces based on a specified pattern using Regular Expressions aka RegEx. \n",
    "- eg : white brown fox = ‘white’, ‘brown’, ’fox’\n",
    "\n",
    "#### __Stop Words__ : \n",
    "- In NLP, words like in, the, a, an, etc referred to as stop words.\n"
   ]
  },
  {
   "cell_type": "code",
   "execution_count": 12,
   "metadata": {},
   "outputs": [],
   "source": [
    "def tokenization(data):\n",
    "    stop_words = set(nltk.corpus.stopwords.words('english'))\n",
    "    stop_words.remove('no')\n",
    "    stop_words.remove('not')\n",
    "    \n",
    "    tokenizer = nltk.tokenize.TweetTokenizer()\n",
    "    \n",
    "    document = []\n",
    "    for text in data:\n",
    "        collection = []\n",
    "        tokens = tokenizer.tokenize(text) \n",
    "        for token in tokens:\n",
    "            if token not in stop_words:\n",
    "                if '#' in token:\n",
    "                    collection.append(token)\n",
    "                else:\n",
    "                    collection.append(re.sub(\"@\\S+|https?:\\S+|http?:\\S|[^A-Za-z0-9]+\", \" \", token))\n",
    "        document.append(\" \".join(collection))     \n",
    "    return document\n",
    "                "
   ]
  },
  {
   "cell_type": "code",
   "execution_count": 13,
   "metadata": {},
   "outputs": [],
   "source": [
    "tokenized_tweets = tokenization(data.tweet.values)"
   ]
  },
  {
   "cell_type": "code",
   "execution_count": 14,
   "metadata": {},
   "outputs": [],
   "source": [
    "cleaned_data = pd.DataFrame({'original_tweet':data.tweet, 'Tokenized Tweets': tokenized_tweets})\n",
    "cleaned_data.to_csv('CSVs/01_tokenization.csv')"
   ]
  },
  {
   "cell_type": "markdown",
   "metadata": {},
   "source": [
    "#### __Lemmatizing__ : \n",
    "- Lemmatizing is the process of converting a word into its root form.\n",
    "- e.g., \"Playing\", \"Played\" = \"play\".\n",
    "\n",
    "\n",
    "- Here we are converting each word in its root form. Some times we want our program to recognize that the words “register” and “registration” are just different tenses of the same verb, like for example, we have two questions \"How do I register for BridgeLabz?\" and \"What is the registration processing for BridgeLabz?\". Here we want our program to know that registration and register are the same so their answers are also the same, and that's the reason why we lemmatize.\n"
   ]
  },
  {
   "cell_type": "code",
   "execution_count": 15,
   "metadata": {},
   "outputs": [],
   "source": [
    "def lemmatization(data):\n",
    "    lemma_function = nltk.stem.wordnet.WordNetLemmatizer()\n",
    "    sentence = []\n",
    "    for text in data:\n",
    "        document = []\n",
    "        words = text.split(' ')\n",
    "        for word in words:\n",
    "            document.append(lemma_function.lemmatize(word))\n",
    "        sentence.append(\" \".join(document))\n",
    "    return sentence"
   ]
  },
  {
   "cell_type": "code",
   "execution_count": 16,
   "metadata": {},
   "outputs": [],
   "source": [
    "lemmatized_tweets = lemmatization(tokenized_tweets)"
   ]
  },
  {
   "cell_type": "code",
   "execution_count": 17,
   "metadata": {},
   "outputs": [],
   "source": [
    "cleaned_data['cleaned_tweet'] = lemmatized_tweets\n",
    "cleaned_data.to_csv('CSVs/02_Lemmatization.csv')"
   ]
  },
  {
   "cell_type": "markdown",
   "metadata": {},
   "source": [
    "- Add the cleaned data to the data frame."
   ]
  },
  {
   "cell_type": "code",
   "execution_count": 18,
   "metadata": {},
   "outputs": [],
   "source": [
    "data['cleaned_tweet'] = lemmatized_tweets"
   ]
  },
  {
   "cell_type": "code",
   "execution_count": 19,
   "metadata": {},
   "outputs": [
    {
     "name": "stdout",
     "output_type": "stream",
     "text": [
      "Original tweet : \n",
      "  @user camping tomorrow @user @user @user @user @user @user @user dannyâ¦  \n",
      "==========================================================================================\n",
      "Tokenized tweet ::\n",
      "    camping tomorrow               danny      \n",
      "==========================================================================================\n",
      "Lemmatized tweet ::\n",
      "    camping tomorrow               danny      \n"
     ]
    }
   ],
   "source": [
    "print(\"Original tweet : \\n {}  \".format(data['tweet'].iloc[6]))\n",
    "print('='*90)\n",
    "print(\"Tokenized tweet ::\\n  {} \".format(tokenized_tweets[6]))\n",
    "print('='*90)\n",
    "print(\"Lemmatized tweet ::\\n  {} \".format(lemmatized_tweets[6]))\n"
   ]
  },
  {
   "cell_type": "markdown",
   "metadata": {},
   "source": [
    "## Step 4: Split data into train and test datasets\n",
    "- Now our data is ready to feed to the program. But here we'll split the data into train and test dataset so that after training the model we can test the model on the test dataset and find out how accurate our model is.\n",
    "* Here we are spliting the data so that the training dataset contains 80% of the data and test dataset contains 20% of the total data.\n",
    "* __test_size__ : Here we specify the size we want for our test dataset.\n",
    "* __random_state__ : When we use a random number generator for number or sequence generation, we give a  starting number (AKA seed). When we provide the same seed, every time it’ll generate the same sequence as the first one. That’s why to keep the same random values every time, we give seed as random_state in train_test_split(). "
   ]
  },
  {
   "cell_type": "code",
   "execution_count": 20,
   "metadata": {
    "_uuid": "8582542c7c3a554f86272e4e888749558ab5a3a3"
   },
   "outputs": [],
   "source": [
    "train_set, test_set, train_labels, test_labels = sklearn.model_selection.train_test_split(data['cleaned_tweet'], \n",
    "                                                                                                    data['label'], \n",
    "                                                                                                    random_state = 2,\n",
    "                                                                                                    test_size = 0.2)"
   ]
  },
  {
   "cell_type": "markdown",
   "metadata": {},
   "source": [
    "After splitting, the size of the train and test data sets are:"
   ]
  },
  {
   "cell_type": "code",
   "execution_count": 21,
   "metadata": {},
   "outputs": [
    {
     "name": "stdout",
     "output_type": "stream",
     "text": [
      "Shape for train set is : (25569,) \n",
      "Shape for test set is : (6393,) \n",
      "Shape for train label is : (25569,) \n",
      "Shape for test label is : (6393,) \n"
     ]
    }
   ],
   "source": [
    "print(\"Shape for train set is : {} \".format(train_set.shape))\n",
    "print(\"Shape for test set is : {} \".format(test_set.shape))\n",
    "print(\"Shape for train label is : {} \".format(train_labels.shape))\n",
    "print(\"Shape for test label is : {} \".format(test_labels.shape))"
   ]
  },
  {
   "cell_type": "code",
   "execution_count": 22,
   "metadata": {},
   "outputs": [],
   "source": [
    "train_df = pd.DataFrame({\"Train_set\":train_set, \"Train_labels\": train_labels})\n",
    "test_df = pd.DataFrame({\"Test_set\":test_set, \"Test_labels\": test_labels})\n",
    "train_df.to_csv('CSVs/03.1_training_data.csv')\n",
    "test_df.to_csv('CSVs/03.2_testing_data.csv')"
   ]
  },
  {
   "cell_type": "markdown",
   "metadata": {},
   "source": [
    "## Step 5 : Model Creation"
   ]
  },
  {
   "cell_type": "markdown",
   "metadata": {
    "_uuid": "84f426e28891e0a03d8b10a94fe3a896f240819b"
   },
   "source": [
    "## Applying Bag-of-Words\n",
    "\n",
    " - Bag of words is nothing but a collection of all the unique words along with its number of occurrences in our dataset. It is AKA Corpus.\n",
    " - As the machine can't understand text data, we need to convert it in numeric form. So we count the occurrence of each word and save it. This is our bag of words."
   ]
  },
  {
   "cell_type": "markdown",
   "metadata": {
    "_uuid": "f5146351649030c32e49a28c8f90925b020e4cf3"
   },
   "source": [
    "# __CountVectorizer__\n",
    "Counting word occurrence. The reason behind using this approach is that keyword or important signal will occur again and again. So if the number of occurrences represents the importance of the word. More frequency means more importance."
   ]
  },
  {
   "cell_type": "code",
   "execution_count": 23,
   "metadata": {
    "_uuid": "ec38f8465b508e95533030f356ca5115c2c34a35"
   },
   "outputs": [
    {
     "data": {
      "text/plain": [
       "CountVectorizer(analyzer='word', binary=False, decode_error='strict',\n",
       "                dtype=<class 'numpy.int64'>, encoding='utf-8', input='content',\n",
       "                lowercase=True, max_df=1.0, max_features=None, min_df=1,\n",
       "                ngram_range=(1, 1), preprocessor=None, stop_words=None,\n",
       "                strip_accents=None, token_pattern='(?u)\\\\b\\\\w\\\\w+\\\\b',\n",
       "                tokenizer=None, vocabulary=None)"
      ]
     },
     "execution_count": 23,
     "metadata": {},
     "output_type": "execute_result"
    }
   ],
   "source": [
    "cv = sklearn.feature_extraction.text.CountVectorizer()\n",
    "cv.fit(train_set)"
   ]
  },
  {
   "cell_type": "code",
   "execution_count": 24,
   "metadata": {},
   "outputs": [
    {
     "name": "stdout",
     "output_type": "stream",
     "text": [
      "Total Features = 33681\n"
     ]
    }
   ],
   "source": [
    "print('Total Features =', len(cv.get_feature_names()))"
   ]
  },
  {
   "cell_type": "markdown",
   "metadata": {},
   "source": [
    "This is the dictionary created for our dataset."
   ]
  },
  {
   "cell_type": "code",
   "execution_count": 25,
   "metadata": {},
   "outputs": [],
   "source": [
    "pd.DataFrame([cv.vocabulary_]).T.to_csv('CSVs/04_Vocabulary.csv')"
   ]
  },
  {
   "cell_type": "code",
   "execution_count": 26,
   "metadata": {},
   "outputs": [
    {
     "data": {
      "text/plain": [
       "<6393x33681 sparse matrix of type '<class 'numpy.int64'>'\n",
       "\twith 43011 stored elements in Compressed Sparse Row format>"
      ]
     },
     "execution_count": 26,
     "metadata": {},
     "output_type": "execute_result"
    }
   ],
   "source": [
    "test_features_vectorized = cv.transform(test_set)\n",
    "test_features_vectorized"
   ]
  },
  {
   "cell_type": "code",
   "execution_count": 27,
   "metadata": {},
   "outputs": [
    {
     "data": {
      "text/plain": [
       "<25569x33681 sparse matrix of type '<class 'numpy.int64'>'\n",
       "\twith 194030 stored elements in Compressed Sparse Row format>"
      ]
     },
     "execution_count": 27,
     "metadata": {},
     "output_type": "execute_result"
    }
   ],
   "source": [
    "train_features_vectorized = cv.transform(train_set)\n",
    "train_features_vectorized"
   ]
  },
  {
   "cell_type": "markdown",
   "metadata": {},
   "source": [
    "- Here we are going to apply the algorithms on our data"
   ]
  },
  {
   "cell_type": "markdown",
   "metadata": {
    "_uuid": "f5acf6d41ce735a4c80244f860f170fee1a0de5c"
   },
   "source": [
    "## __Logistic Regression__\n",
    "\n",
    "\n",
    "- Logistic Regression is a Machine Learning classification algorithm that is used to predict the probability of a categorical dependent variable. \n",
    "- In logistic regression, the dependent variable is a binary variable that contains data coded as 1 (yes, success, etc.) or 0 (no, failure, etc.).\n",
    "- It is a predictive analysis algorithm and based on the concept of probability.\n",
    "- Logistic regression transforms its output using the logistic sigmoid function to return a probability value.\n",
    "- We use sigmoid function as it always returns a value between 0 and 1.\n",
    "- Hence, in order to map predicted values to probabilities, we use the sigmoid function. \n",
    "- The function maps any real value into another value between 0 and 1. \n",
    "- In machine learning, we use sigmoid to map predictions to probabilities.\n",
    "<img src=\"images/sigmoid_function.png\" alt=\"Drawing\" style=\"width: 400px;\"/>\n"
   ]
  },
  {
   "cell_type": "markdown",
   "metadata": {},
   "source": [
    "- s(z) = output between 0 and 1 (probability estimate)\n",
    "- z = input to the function (your algorithm’s prediction e.g. mx + b)\n",
    "- e = base of natural log"
   ]
  },
  {
   "cell_type": "markdown",
   "metadata": {},
   "source": [
    "__Decision Boundary:__\n",
    "- To predict which class a data belongs, a threshold can be set. Based upon this threshold, the classes are divided\n",
    "- In above figure, we can see that the decision boundery is set as 0.5, which means if the value of our sigmod function for any observation is below 0.5, we'll consider it as 0 and if greater than or equal to 0.5, we'll consider it as 1. \n",
    "\n",
    "<img src=\"images/decidion_boundary.gif\" alt=\"Drawing\" style=\"width: 600px;\"/>\n"
   ]
  },
  {
   "cell_type": "markdown",
   "metadata": {},
   "source": [
    "- This fits perfectly when we have 2 categorical variables, but what if we have multiple categorical variables?\n",
    "- In this case we'll go for Multivariate Logistic Regression\n",
    "- Multivariate Logistic Regression is based on conditional probability.\n",
    "\n",
    "<img src=\"images/Multivariate_Logistic_Regression.png\" alt=\"Drawing\" style=\"width: 600px;\"/>"
   ]
  },
  {
   "cell_type": "markdown",
   "metadata": {},
   "source": [
    "- In the above Multi Class classification example, there are 3 classes. \n",
    "- Hence, we need to train 3 different logistic regression classifiers.\n",
    "    - When training the classifier for Class 1, we will treat input data with class 1 labels as +ve samples (y==1) and all other classes as -ve samples (y==0).\n",
    "    - When training the classifier for Class 2, we will treat input data with class 2 labels as +ve samples (y==1) and all other classes as -ve samples (y==0).\n",
    "    - This will continue for all the classes.\n",
    "\n",
    "__Now let's train our model__\n",
    "### __Model Creation:__"
   ]
  },
  {
   "cell_type": "code",
   "execution_count": 28,
   "metadata": {
    "_uuid": "6a49787843f896f2e33d2079518e91cd072068d6"
   },
   "outputs": [
    {
     "data": {
      "text/plain": [
       "LogisticRegression(C=1.0, class_weight=None, dual=False, fit_intercept=True,\n",
       "                   intercept_scaling=1, l1_ratio=None, max_iter=100,\n",
       "                   multi_class='warn', n_jobs=None, penalty='l2',\n",
       "                   random_state=None, solver='warn', tol=0.0001, verbose=0,\n",
       "                   warm_start=False)"
      ]
     },
     "execution_count": 28,
     "metadata": {},
     "output_type": "execute_result"
    }
   ],
   "source": [
    "logistic_model_cv = sklearn.linear_model.LogisticRegression()\n",
    "logistic_model_cv.fit(train_features_vectorized, train_labels)"
   ]
  },
  {
   "cell_type": "markdown",
   "metadata": {},
   "source": [
    "### __Model Testing:__\n",
    "- Predict using our model\n",
    "\n",
    "__Prediction phase: One vs all prediction__\n",
    "- Once training all our classifiers, we can now use it to predict which class the test data belongs to.\n",
    "- For the test input, we should check the “probability” that it belongs to each class using the trained logistic regression. \n",
    "- Your one-vs-all prediction function will pick the class for which the corresponding logistic regression outputs the highest probability and return the class label (1, 2,..., or N) as the prediction for the input example.\n"
   ]
  },
  {
   "cell_type": "code",
   "execution_count": 29,
   "metadata": {},
   "outputs": [],
   "source": [
    "pred = logistic_model_cv.predict(test_features_vectorized)"
   ]
  },
  {
   "cell_type": "code",
   "execution_count": 30,
   "metadata": {},
   "outputs": [
    {
     "name": "stdout",
     "output_type": "stream",
     "text": [
      "Accuracy_score : 0.9568277803847959\n"
     ]
    }
   ],
   "source": [
    "print('Accuracy_score :', sklearn.metrics.accuracy_score(test_labels, pred))"
   ]
  },
  {
   "cell_type": "markdown",
   "metadata": {},
   "source": [
    "- ### Confusion matrix:\n",
    "Now, up to here we have done data cleaning, pre-processing, feed it to the algorithm, got our outputs with 96% accuracy, but what about effectiveness of our model. Better the effectiveness, better the performance and that are exactly what we want. So to check the effectiveness of our model we need to check all the predictions and compare them. Here confusing matrix comes in the picture. Confusion Matrix is a performance measurement for machine learning classification. "
   ]
  },
  {
   "cell_type": "code",
   "execution_count": 31,
   "metadata": {},
   "outputs": [
    {
     "data": {
      "text/plain": [
       "array([[5887,   30],\n",
       "       [ 246,  230]])"
      ]
     },
     "execution_count": 31,
     "metadata": {},
     "output_type": "execute_result"
    }
   ],
   "source": [
    "sklearn.metrics.confusion_matrix(test_labels, pred)"
   ]
  },
  {
   "cell_type": "code",
   "execution_count": 32,
   "metadata": {},
   "outputs": [
    {
     "name": "stdout",
     "output_type": "stream",
     "text": [
      "F1 : 0.625\n"
     ]
    }
   ],
   "source": [
    "f1_score_logistic_cv = sklearn.metrics.f1_score(test_labels, pred)\n",
    "print('F1 :', f1_score_logistic_cv)"
   ]
  },
  {
   "cell_type": "code",
   "execution_count": 33,
   "metadata": {},
   "outputs": [
    {
     "data": {
      "text/plain": [
       "array([[5887,   30],\n",
       "       [ 246,  230]])"
      ]
     },
     "execution_count": 33,
     "metadata": {},
     "output_type": "execute_result"
    }
   ],
   "source": [
    "sklearn.metrics.confusion_matrix(test_labels, pred)"
   ]
  },
  {
   "cell_type": "markdown",
   "metadata": {},
   "source": [
    "- ### Save model for Logistic regression:"
   ]
  },
  {
   "cell_type": "code",
   "execution_count": 34,
   "metadata": {},
   "outputs": [],
   "source": [
    "with open('model/count_vectorizer/logistic_model.pkl', 'wb') as file:\n",
    "    pickle.dump(cv, file)\n",
    "    pickle.dump(logistic_model_cv, file)"
   ]
  },
  {
   "cell_type": "markdown",
   "metadata": {},
   "source": [
    "# __Summary:__ "
   ]
  },
  {
   "cell_type": "markdown",
   "metadata": {},
   "source": [
    "Here, we have trained the model to understand the sentiment of a tweeter using Logistic regressionand got f1 score as 0.625 and after this we have saved the trained model into pickle file."
   ]
  }
 ],
 "metadata": {
  "kernelspec": {
   "display_name": "Python 3",
   "language": "python",
   "name": "python3"
  },
  "language_info": {
   "codemirror_mode": {
    "name": "ipython",
    "version": 3
   },
   "file_extension": ".py",
   "mimetype": "text/x-python",
   "name": "python",
   "nbconvert_exporter": "python",
   "pygments_lexer": "ipython3",
   "version": "3.7.4"
  }
 },
 "nbformat": 4,
 "nbformat_minor": 4
}
