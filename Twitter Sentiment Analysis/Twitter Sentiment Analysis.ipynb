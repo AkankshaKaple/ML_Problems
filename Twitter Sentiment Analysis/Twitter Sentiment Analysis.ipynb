{
 "cells": [
  {
   "cell_type": "markdown",
   "metadata": {
    "_uuid": "40e3b533add5c85d66d7987325df519e90205f5c"
   },
   "source": [
    "To detect negative speech in tweets.\n",
    "\n",
    "## Dataset : \n",
    "The data set contains tweets and sentiment related to it. Here we need to predict the sentiment for a given tweet.\n",
    "Here, in label \n",
    "* __label “0”: Positive Sentiment__ \n",
    "* __label “1”: Negative Sentiment__  "
   ]
  },
  {
   "cell_type": "markdown",
   "metadata": {},
   "source": [
    "## Step 1 : Import libraries\n",
    "\n",
    "Here we are gonna use NLTK, i.e., Natural Language Tool Kit\n",
    "As name suggests, it is contains all the modules required for NLP operations.\n",
    "In this problem, as we are dealing with statements, NLTK suits well."
   ]
  },
  {
   "cell_type": "code",
   "execution_count": 75,
   "metadata": {
    "_uuid": "1b77e64eeb8e12f930065e5c058aef60f4db39f4"
   },
   "outputs": [],
   "source": [
    "import pandas as pd \n",
    "import numpy as np \n",
    "import matplotlib.pyplot as plt \n",
    "import seaborn as sns\n",
    "import nltk\n",
    "from wordcloud import WordCloud,STOPWORDS\n",
    "from sklearn.model_selection import train_test_split, GridSearchCV\n",
    "from sklearn.feature_extraction.text import CountVectorizer, TfidfVectorizer, ENGLISH_STOP_WORDS\n",
    "from sklearn.linear_model import LogisticRegression\n",
    "from sklearn.naive_bayes import MultinomialNB\n",
    "from sklearn.metrics import f1_score, roc_auc_score\n",
    "from sklearn.pipeline import make_pipeline\n",
    "import warnings \n",
    "warnings.filterwarnings(\"ignore\")\n",
    "import pickle"
   ]
  },
  {
   "cell_type": "markdown",
   "metadata": {},
   "source": [
    "## Step 2: Import datasets\n",
    "\n",
    "Read the data with pandas.\n",
    "* __train.csv__ : It contains tweets with its corresponding sentiment. We'll use this to train our model to predict the sentiment behind the tweet.\n",
    "\n",
    "* __test.csv__ : It contains the data we are gonna use to test our model.\n"
   ]
  },
  {
   "cell_type": "code",
   "execution_count": 76,
   "metadata": {
    "_uuid": "f0ecbffbb1689a2878fcc9f58ea5a8ef3a48b08b"
   },
   "outputs": [
    {
     "data": {
      "text/html": [
       "<div>\n",
       "<style scoped>\n",
       "    .dataframe tbody tr th:only-of-type {\n",
       "        vertical-align: middle;\n",
       "    }\n",
       "\n",
       "    .dataframe tbody tr th {\n",
       "        vertical-align: top;\n",
       "    }\n",
       "\n",
       "    .dataframe thead th {\n",
       "        text-align: right;\n",
       "    }\n",
       "</style>\n",
       "<table border=\"1\" class=\"dataframe\">\n",
       "  <thead>\n",
       "    <tr style=\"text-align: right;\">\n",
       "      <th></th>\n",
       "      <th>id</th>\n",
       "      <th>label</th>\n",
       "      <th>tweet</th>\n",
       "    </tr>\n",
       "  </thead>\n",
       "  <tbody>\n",
       "    <tr>\n",
       "      <td>957</td>\n",
       "      <td>958</td>\n",
       "      <td>0</td>\n",
       "      <td>â #eur/gbp subdued trading action around 0....</td>\n",
       "    </tr>\n",
       "    <tr>\n",
       "      <td>19314</td>\n",
       "      <td>19315</td>\n",
       "      <td>0</td>\n",
       "      <td>preston up next #pirelli #ormsuk   #britishmx</td>\n",
       "    </tr>\n",
       "  </tbody>\n",
       "</table>\n",
       "</div>"
      ],
      "text/plain": [
       "          id  label                                              tweet\n",
       "957      958      0   â #eur/gbp subdued trading action around 0....\n",
       "19314  19315      0     preston up next #pirelli #ormsuk   #britishmx "
      ]
     },
     "execution_count": 76,
     "metadata": {},
     "output_type": "execute_result"
    }
   ],
   "source": [
    "train  = pd.read_csv(\"twitter-sentiment-analysis/train.csv\")\n",
    "test = pd.read_csv(\"twitter-sentiment-analysis/test.csv\")\n",
    "train.head()"
   ]
  },
  {
   "cell_type": "code",
   "execution_count": 77,
   "metadata": {
    "_uuid": "3900cb2fbd40a995bb2d638c252e4f8c9b3212be"
   },
   "outputs": [
    {
     "data": {
      "text/plain": [
       "((31962, 3), (17197, 2))"
      ]
     },
     "execution_count": 77,
     "metadata": {},
     "output_type": "execute_result"
    }
   ],
   "source": [
    "train.shape, test.shape"
   ]
  },
  {
   "cell_type": "markdown",
   "metadata": {},
   "source": [
    "## Step 3 : Data cleaning and Preprocessing"
   ]
  },
  {
   "cell_type": "markdown",
   "metadata": {
    "_uuid": "85e8e4848d223da56c7b3bacf9a46a38fb8ea019"
   },
   "source": [
    "Remove twitter handlers i.e., @user"
   ]
  },
  {
   "cell_type": "code",
   "execution_count": 78,
   "metadata": {
    "_uuid": "dd576fb0e23772de113e06a7ad33c0b1b8d1b98b"
   },
   "outputs": [],
   "source": [
    "train['cleaned_tweet'] = train.tweet.apply(lambda x: ' '.join([word for word in x.split() if not word.startswith('@')]))\n",
    "test['cleaned_tweet'] = test.tweet.apply(lambda x: ' '.join([word for word in x.split() if not word.startswith('@')]))"
   ]
  },
  {
   "cell_type": "markdown",
   "metadata": {
    "_uuid": "90a1e47a1f5bda41ee89ab644b0fd7c2e0a1aabc"
   },
   "source": [
    "### Hashtags\n",
    "Graph to show normal tweets. Check top 20 most used hashtags and plot them according to their frequency"
   ]
  },
  {
   "cell_type": "code",
   "execution_count": 79,
   "metadata": {
    "_uuid": "350721643bb4ff356dda8632b7ec9e0dcffaef3d"
   },
   "outputs": [],
   "source": [
    "#Select all words from normal tweet\n",
    "normal_words = ' '.join([word for word in train['cleaned_tweet'][train['label'] == 0]])\n",
    "#Collect all hashtags\n",
    "pos_htag = [htag for htag in normal_words.split() if htag.startswith('#')]\n",
    "#Remove hashtag symbol (#)\n",
    "pos_htag = [pos_htag[i][1:] for i in range(len(pos_htag))]\n",
    "#Count frequency of each word\n",
    "pos_htag_freqcount = nltk.FreqDist(pos_htag)\n",
    "pos_htag_df = pd.DataFrame({'Hashtag' : list(pos_htag_freqcount.keys()),\n",
    "                            'Count' : list(pos_htag_freqcount.values())})"
   ]
  },
  {
   "cell_type": "code",
   "execution_count": 80,
   "metadata": {
    "_uuid": "018c93071768685990def7f74ae288bd238f979e"
   },
   "outputs": [
    {
     "data": {
      "image/png": "[encoded data removed]",
      "text/plain": [
       "<Figure size 1152x360 with 1 Axes>"
      ]
     },
     "metadata": {
      "needs_background": "light"
     },
     "output_type": "display_data"
    }
   ],
   "source": [
    "#Select top 20 most frequent hashtags and plot them   \n",
    "most_frequent = pos_htag_df.nlargest(columns=\"Count\", n = 20) \n",
    "plt.figure(figsize=(16,5))\n",
    "ax = sns.barplot(data=most_frequent, x= \"Hashtag\", y = \"Count\")\n",
    "ax.set(ylabel = 'Count')\n",
    "plt.show()"
   ]
  },
  {
   "cell_type": "markdown",
   "metadata": {},
   "source": [
    "Graph to show negative tweets. In negative tweets, 20 hashtags that appeared the most is shown in graph."
   ]
  },
  {
   "cell_type": "code",
   "execution_count": 81,
   "metadata": {
    "_uuid": "a50731fa0c6dd78f37276f7b9dab578c7374d463"
   },
   "outputs": [],
   "source": [
    "#Repeat same steps for negative tweets\n",
    "negative_words = ' '.join([word for word in train['cleaned_tweet'][train['label'] == 1]])\n",
    "neg_htag = [htag for htag in negative_words.split() if htag.startswith('#')]\n",
    "neg_htag = [neg_htag[i][1:] for i in range(len(neg_htag))]\n",
    "neg_htag_freqcount = nltk.FreqDist(neg_htag)\n",
    "neg_htag_df = pd.DataFrame({'Hashtag' : list(neg_htag_freqcount.keys()),\n",
    "                            'Count' : list(neg_htag_freqcount.values())})"
   ]
  },
  {
   "cell_type": "code",
   "execution_count": 82,
   "metadata": {
    "_uuid": "c6dd897bfb0be4b836f37f6df3b391cc561e9213"
   },
   "outputs": [
    {
     "data": {
      "image/png": "[encoded data removed]",
      "text/plain": [
       "<Figure size 1152x360 with 1 Axes>"
      ]
     },
     "metadata": {
      "needs_background": "light"
     },
     "output_type": "display_data"
    }
   ],
   "source": [
    "most_frequent = neg_htag_df.nlargest(columns=\"Count\", n = 20) \n",
    "plt.figure(figsize=(16,5))\n",
    "ax = sns.barplot(data=most_frequent, x= \"Hashtag\", y = \"Count\")\n",
    "plt.show()"
   ]
  },
  {
   "cell_type": "markdown",
   "metadata": {
    "_uuid": "9a8176d7edcd0189735892a03fa02400aa2b51ff"
   },
   "source": [
    "From both plots, we can conclude that hashtags are very important for sentiment analysis and should not be ignored."
   ]
  },
  {
   "cell_type": "markdown",
   "metadata": {
    "_uuid": "bf58a8a9f2f660fc25922612caebbb0ac64093b3"
   },
   "source": [
    "Words used like love, friend, happy are used in normal tweets whereas negative can be found in words like trump, black, politics etc."
   ]
  },
  {
   "cell_type": "code",
   "execution_count": 83,
   "metadata": {
    "_uuid": "0e0853100203d8a90d1f93f282c89fdce53592e0"
   },
   "outputs": [
    {
     "data": {
      "text/html": [
       "<div>\n",
       "<style scoped>\n",
       "    .dataframe tbody tr th:only-of-type {\n",
       "        vertical-align: middle;\n",
       "    }\n",
       "\n",
       "    .dataframe tbody tr th {\n",
       "        vertical-align: top;\n",
       "    }\n",
       "\n",
       "    .dataframe thead th {\n",
       "        text-align: right;\n",
       "    }\n",
       "</style>\n",
       "<table border=\"1\" class=\"dataframe\">\n",
       "  <thead>\n",
       "    <tr style=\"text-align: right;\">\n",
       "      <th></th>\n",
       "      <th>id</th>\n",
       "      <th>label</th>\n",
       "      <th>tweet</th>\n",
       "      <th>cleaned_tweet</th>\n",
       "    </tr>\n",
       "  </thead>\n",
       "  <tbody>\n",
       "    <tr>\n",
       "      <td>0</td>\n",
       "      <td>1</td>\n",
       "      <td>0</td>\n",
       "      <td>@user when a father is dysfunctional and is s...</td>\n",
       "      <td>when a father is dysfunctional and is so selfi...</td>\n",
       "    </tr>\n",
       "    <tr>\n",
       "      <td>1</td>\n",
       "      <td>2</td>\n",
       "      <td>0</td>\n",
       "      <td>@user @user thanks for #lyft credit i can't us...</td>\n",
       "      <td>thanks for #lyft credit i can't use cause they...</td>\n",
       "    </tr>\n",
       "  </tbody>\n",
       "</table>\n",
       "</div>"
      ],
      "text/plain": [
       "   id  label                                              tweet  \\\n",
       "0   1      0   @user when a father is dysfunctional and is s...   \n",
       "1   2      0  @user @user thanks for #lyft credit i can't us...   \n",
       "\n",
       "                                       cleaned_tweet  \n",
       "0  when a father is dysfunctional and is so selfi...  \n",
       "1  thanks for #lyft credit i can't use cause they...  "
      ]
     },
     "execution_count": 83,
     "metadata": {},
     "output_type": "execute_result"
    }
   ],
   "source": [
    "train.head(2)"
   ]
  },
  {
   "cell_type": "code",
   "execution_count": 84,
   "metadata": {
    "_uuid": "8582542c7c3a554f86272e4e888749558ab5a3a3"
   },
   "outputs": [
    {
     "data": {
      "text/plain": [
       "((23971,), (7991,))"
      ]
     },
     "execution_count": 84,
     "metadata": {},
     "output_type": "execute_result"
    }
   ],
   "source": [
    "X_train, X_val, y_train, y_val = train_test_split(train['cleaned_tweet'], train['label'], random_state = 0)\n",
    "X_train.shape, X_val.shape"
   ]
  },
  {
   "cell_type": "markdown",
   "metadata": {
    "_uuid": "84f426e28891e0a03d8b10a94fe3a896f240819b"
   },
   "source": [
    "## Applying Bag-of-Words"
   ]
  },
  {
   "cell_type": "markdown",
   "metadata": {
    "_uuid": "f5146351649030c32e49a28c8f90925b020e4cf3"
   },
   "source": [
    "Rescale data using CountVectorizer\n",
    "# __CountVectorizer__\n",
    "It’ll see the unique words in the complete para or content given to it and then does one hot encoding accordingly. CountVectorization generates a sparse matrix representing all the words in the document. "
   ]
  },
  {
   "cell_type": "code",
   "execution_count": 85,
   "metadata": {
    "_uuid": "ec38f8465b508e95533030f356ca5115c2c34a35"
   },
   "outputs": [
    {
     "data": {
      "text/plain": [
       "CountVectorizer(analyzer='word', binary=False, decode_error='strict',\n",
       "                dtype=<class 'numpy.int64'>, encoding='utf-8', input='content',\n",
       "                lowercase=True, max_df=1.0, max_features=None, min_df=1,\n",
       "                ngram_range=(1, 1), preprocessor=None, stop_words=None,\n",
       "                strip_accents=None, token_pattern='(?u)\\\\b\\\\w\\\\w+\\\\b',\n",
       "                tokenizer=None, vocabulary=None)"
      ]
     },
     "execution_count": 85,
     "metadata": {},
     "output_type": "execute_result"
    }
   ],
   "source": [
    "cv = CountVectorizer()\n",
    "vect = cv.fit(X_train)\n",
    "vect"
   ]
  },
  {
   "cell_type": "code",
   "execution_count": 86,
   "metadata": {
    "_uuid": "9adbae4a7a0b03da68b690bc9d345c3e756f1e9c"
   },
   "outputs": [
    {
     "data": {
      "text/plain": [
       "<23971x34478 sparse matrix of type '<class 'numpy.int64'>'\n",
       "\twith 266363 stored elements in Compressed Sparse Row format>"
      ]
     },
     "execution_count": 86,
     "metadata": {},
     "output_type": "execute_result"
    }
   ],
   "source": [
    "X_train_vectorized = vect.transform(X_train)\n",
    "X_train_vectorized"
   ]
  },
  {
   "cell_type": "markdown",
   "metadata": {
    "_uuid": "d865737112c5fd86faa8fd18fd8f6a9885c1c1b9"
   },
   "source": [
    "### Naive Bayes"
   ]
  },
  {
   "cell_type": "code",
   "execution_count": 87,
   "metadata": {
    "_uuid": "a561b33942167ff23ff52fbe7e11454bd84e97cd"
   },
   "outputs": [
    {
     "name": "stdout",
     "output_type": "stream",
     "text": [
      "F1 : 0.5725288831835686\n"
     ]
    }
   ],
   "source": [
    "naive_base_model = MultinomialNB()\n",
    "naive_base_model.fit(X_train_vectorized, y_train)\n",
    "pred = naive_base_model.predict(vect.transform(X_val))\n",
    "print('F1 :', f1_score(y_val, pred))"
   ]
  },
  {
   "cell_type": "markdown",
   "metadata": {
    "_uuid": "f5acf6d41ce735a4c80244f860f170fee1a0de5c"
   },
   "source": [
    "### Logistic Regression"
   ]
  },
  {
   "cell_type": "code",
   "execution_count": 88,
   "metadata": {
    "_uuid": "6a49787843f896f2e33d2079518e91cd072068d6"
   },
   "outputs": [
    {
     "name": "stdout",
     "output_type": "stream",
     "text": [
      "F1 : 0.6473317865429236\n"
     ]
    }
   ],
   "source": [
    "logistic_model_cv = LogisticRegression()\n",
    "logistic_model_cv.fit(X_train_vectorized, y_train)\n",
    "pred = logistic_model_cv.predict(vect.transform(X_val))\n",
    "print('F1 :', f1_score(y_val, pred))"
   ]
  },
  {
   "cell_type": "markdown",
   "metadata": {
    "_uuid": "596e7b8005aa0afb57fea55e0def7fc793946189"
   },
   "source": [
    "Logistic Regression performed well then Naive Bayes for the default parameters. Thus, we will be using only Logistic Regression ahead."
   ]
  },
  {
   "cell_type": "markdown",
   "metadata": {
    "_uuid": "803004ff4379e5e419e63217bfa6e023aa6b7c71"
   },
   "source": [
    "# __Tfidf__\n",
    " This one is similar to countvectorizer, however it removes the stopwords and stores the important words which might be used less but gives us more better features.And stores the frequency of the words."
   ]
  },
  {
   "cell_type": "code",
   "execution_count": 89,
   "metadata": {
    "_uuid": "c0929c79069eaedde4a0a87adea99d541d80c98b"
   },
   "outputs": [
    {
     "name": "stdout",
     "output_type": "stream",
     "text": [
      "Total Features = 34478\n"
     ]
    }
   ],
   "source": [
    "# Fit the TfidfVectorizer to the training data specifiying a minimum document frequency of 5\n",
    "vect = TfidfVectorizer().fit(X_train)\n",
    "print('Total Features =', len(vect.get_feature_names()))\n",
    "X_train_vectorized = vect.transform(X_train)"
   ]
  },
  {
   "cell_type": "markdown",
   "metadata": {},
   "source": [
    "### Naive Bayes"
   ]
  },
  {
   "cell_type": "code",
   "execution_count": 90,
   "metadata": {},
   "outputs": [
    {
     "name": "stdout",
     "output_type": "stream",
     "text": [
      "F1 : 0.18771331058020477\n"
     ]
    }
   ],
   "source": [
    "naive_base_model = MultinomialNB()\n",
    "naive_base_model.fit(X_train_vectorized, y_train)\n",
    "pred = naive_base_model.predict(vect.transform(X_val))\n",
    "print('F1 :', f1_score(y_val, pred))"
   ]
  },
  {
   "cell_type": "markdown",
   "metadata": {},
   "source": [
    "### Logistic Regression"
   ]
  },
  {
   "cell_type": "code",
   "execution_count": 91,
   "metadata": {},
   "outputs": [
    {
     "name": "stdout",
     "output_type": "stream",
     "text": [
      "F1:  0.41907514450867056\n"
     ]
    }
   ],
   "source": [
    "logistic_model_tf = LogisticRegression()\n",
    "logistic_model_tf.fit(X_train_vectorized, y_train)\n",
    "pred = logistic_model_tf.predict(vect.transform(X_val))\n",
    "print('F1: ', f1_score(y_val, pred))"
   ]
  },
  {
   "cell_type": "markdown",
   "metadata": {
    "_uuid": "11e17e42e74d0c2a8812f853bb5e660d570173b4"
   },
   "source": [
    "tf-idf not performed well for this data."
   ]
  },
  {
   "cell_type": "markdown",
   "metadata": {},
   "source": [
    "## Save the model in pickle file\n",
    "\n",
    "As logistic_model_cv gave us highest accuracy we'll go with it and save it to pickle file.\n",
    "We save our model to pickle file so that when we want to perform predictions on unseen data, we don't have to train our model again. Any object in python can be pickled so that it can be saved on disk. What pickle does is that it “serialises” the object first before writing it to file. Pickling is a way to convert a python object (list, dict, etc.) into a character stream.  "
   ]
  },
  {
   "cell_type": "code",
   "execution_count": 92,
   "metadata": {},
   "outputs": [],
   "source": [
    "with open('model.pkl','wb') as file:\n",
    "    pickle.dump(cv, file)\n",
    "    pickle.dump(logistic_model_cv, file)"
   ]
  },
  {
   "cell_type": "code",
   "execution_count": 93,
   "metadata": {},
   "outputs": [
    {
     "data": {
      "text/plain": [
       "array([0, 0, 0, ..., 0, 0, 0])"
      ]
     },
     "execution_count": 93,
     "metadata": {},
     "output_type": "execute_result"
    }
   ],
   "source": [
    "pred"
   ]
  }
 ],
 "metadata": {
  "kernelspec": {
   "display_name": "Python 3",
   "language": "python",
   "name": "python3"
  },
  "language_info": {
   "codemirror_mode": {
    "name": "ipython",
    "version": 3
   },
   "file_extension": ".py",
   "mimetype": "text/x-python",
   "name": "python",
   "nbconvert_exporter": "python",
   "pygments_lexer": "ipython3",
   "version": "3.7.4"
  }
 },
 "nbformat": 4,
 "nbformat_minor": 4
}
